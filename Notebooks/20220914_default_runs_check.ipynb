{
 "cells": [
  {
   "cell_type": "code",
   "execution_count": 2,
   "id": "b935a300",
   "metadata": {},
   "outputs": [
    {
     "name": "stdout",
     "output_type": "stream",
     "text": [
      "/mnt/nfs-mnj-hot-01/tmp/masomatics/block_diag/result/20220615_default_run_mnist\n",
      "True\n",
      "True\n",
      "True\n"
     ]
    },
    {
     "data": {
      "text/plain": [
       "['20220901_Mstar_inv_reg_cnn_0',\n",
       " '20220908_lstsq_Mdetach_0',\n",
       " '20220909_latentPredict_zero_0',\n",
       " '20220908_latentPredict_bg_0',\n",
       " '20220901_Mstar_orth_0',\n",
       " '20220907_latentPredict_0',\n",
       " '20220913_default_run_again_0',\n",
       " '20220913_playground_model']"
      ]
     },
     "execution_count": 2,
     "metadata": {},
     "output_type": "execute_result"
    }
   ],
   "source": [
    "import os\n",
    "import sys\n",
    "sys.path.append('../')\n",
    "sys.path.append('../datasets')\n",
    "sys.path.append('../models')\n",
    "import torch\n",
    "import torchvision\n",
    "import torch.backends.cudnn as cudnn\n",
    "import random\n",
    "import numpy as np\n",
    "import matplotlib.pyplot as plt\n",
    "from torch.utils.data import DataLoader\n",
    "from importlib import reload\n",
    "from datasets.three_dim_shapes import ThreeDimShapesDataset\n",
    "from datasets.small_norb import SmallNORBDataset\n",
    "from datasets.seq_mnist import SequentialMNIST\n",
    "import models.seqae as seqae\n",
    "from sklearn.multioutput import MultiOutputRegressor\n",
    "from sklearn.linear_model import Ridge\n",
    "from datasets import so3_data as so3d\n",
    "from einops import rearrange\n",
    "from sklearn.metrics import r2_score\n",
    "import pdb\n",
    "from einops import rearrange\n",
    "from utils import evaluations as ev\n",
    "from utils import notebook_utils as nb\n",
    "\n",
    "\n",
    "\n",
    "import copy\n",
    "\n",
    "import csv\n",
    "import ast\n",
    "from source import yaml_utils as yu\n",
    "\n",
    "\n",
    "from tqdm import tqdm\n",
    "\n",
    "if torch.cuda.is_available():\n",
    "    device = torch.device('cuda')\n",
    "    cudnn.deterministic = True\n",
    "    cudnn.benchmark = True\n",
    "else:\n",
    "    device = torch.device('cpu')\n",
    "    gpu_index = -1\n",
    "\n",
    "\n",
    "    \n",
    "    \n",
    "\n",
    "def iter_list(log_dir):\n",
    "    dirlist = os.listdir(log_dir)\n",
    "    iterlist = []\n",
    "    for mydir in dirlist:\n",
    "        if 'iter' in mydir and 'tmp' not in mydir:\n",
    "            iterlist.append(int(mydir.split('_')[-1]))\n",
    "    return np.array(iterlist)\n",
    "    \n",
    "    \n",
    "def load_model(model, log_dir, iters, latest=False):\n",
    "    print(f\"\"\"{log_dir} \\n snapshot_model_iter_{iters}\"\"\")\n",
    "    if latest == True:\n",
    "        iters = np.max(iter_list(log_dir))\n",
    "    model.load_state_dict(torch.load(os.path.join(log_dir, 'snapshot_model_iter_{}'.format(iters))))\n",
    "    #model.load_state_dict(torch.load(os.path.join(log_dir, 'snapshot_manager_iter_{}'.format(iters))))\n",
    "\n",
    "\n",
    "\n",
    "\n",
    "def load_config(targdir_path):\n",
    "    targ_config_path = os.path.join(targdir_path, 'config.yml')\n",
    "    with open(targ_config_path, 'r') as f:\n",
    "        config = yaml.safe_load(f)\n",
    "    return config\n",
    "    \n",
    "    \n",
    "def filter_names(query, mydict):\n",
    "    filtered = {} \n",
    "    for key in mydict.keys():\n",
    "        if query in key:\n",
    "            filtered[key] = mydict[key]\n",
    "    return filtered\n",
    "    \n",
    "def filter_list(query, mylist):\n",
    "    filtered = [] \n",
    "    for key in mylist:\n",
    "        if query in key:\n",
    "            filtered.append(key)\n",
    "    return filtered\n",
    "\n",
    "\n",
    "def model_exists(targlist,  targpath):\n",
    "    filtered_list = []\n",
    "    for targdir in targlist:\n",
    "        if os.path.exists(os.path.join(targpath, targdir, 'config.yml')):\n",
    "            filtered_list.append(targdir)\n",
    "    return filtered_list\n",
    "    \n",
    "    \n",
    "from utils import yaml_utils as yu\n",
    "import yaml\n",
    "rootpath = '/mnt/nfs-mnj-hot-01/tmp/masomatics/block_diag/'\n",
    "result_dir = '/mnt/nfs-mnj-hot-01/tmp/masomatics/block_diag/result'\n",
    "jobdir = '/mnt/vol21/masomatics/ULASclone/jobs'\n",
    "\n",
    "mode = 'so3'\n",
    "dat_root = f\"\"\"/mnt/nfs-mnj-hot-01/tmp/masomatics/block_diag/datasets/{mode}\"\"\"\n",
    "\n",
    "baseline_path = os.path.join(result_dir, '20220615_default_run_mnist')\n",
    "basestar_path = os.path.join(result_dir, '20220615_NeuralMstar_neuralM_vanilla')\n",
    "playground_path = os.path.join(result_dir, '20220913_playground_model')\n",
    "print(baseline_path)\n",
    "print(os.path.exists(baseline_path))\n",
    "print(os.path.exists(basestar_path))\n",
    "print(os.path.exists(playground_path))\n",
    "\n",
    "\n",
    "\n",
    "filter_list('202209', os.listdir(result_dir))"
   ]
  },
  {
   "cell_type": "code",
   "execution_count": 3,
   "id": "733405e9",
   "metadata": {},
   "outputs": [],
   "source": [
    "studypath = os.path.join(result_dir, '20220913_default_run_again_0')\n",
    "logs = nb.read_log(studypath)"
   ]
  },
  {
   "cell_type": "code",
   "execution_count": 6,
   "id": "f7cddf6c",
   "metadata": {},
   "outputs": [],
   "source": [
    "targdir_pathlist = []\n",
    "targdir_pathlist.append(playground_path)\n",
    "targdir_pathlist.append(basestar_path)\n",
    "targdir_pathlist.append(baseline_path)\n",
    "targdir_pathlist.append(studypath)"
   ]
  },
  {
   "cell_type": "code",
   "execution_count": 10,
   "id": "e88170f5",
   "metadata": {},
   "outputs": [
    {
     "name": "stdout",
     "output_type": "stream",
     "text": [
      "/mnt/nfs-mnj-hot-01/tmp/masomatics/block_diag/result/20220913_playground_model \n",
      " snapshot_model_iter_50000\n"
     ]
    },
    {
     "name": "stderr",
     "output_type": "stream",
     "text": [
      "100%|██████████| 31/31 [00:01<00:00, 16.51it/s]\n",
      "100%|██████████| 31/31 [00:01<00:00, 16.94it/s]\n",
      "100%|██████████| 31/31 [00:01<00:00, 16.28it/s]\n"
     ]
    },
    {
     "name": "stdout",
     "output_type": "stream",
     "text": [
      "tensor([ 4.9035, 12.1649, 23.0596, 33.1332, 42.0969, 50.0244, 58.0282, 63.8972])\n",
      "/mnt/nfs-mnj-hot-01/tmp/masomatics/block_diag/result/20220615_NeuralMstar_neuralM_vanilla \n",
      " snapshot_model_iter_50000\n"
     ]
    },
    {
     "name": "stderr",
     "output_type": "stream",
     "text": [
      "100%|██████████| 31/31 [00:01<00:00, 16.21it/s]\n",
      "100%|██████████| 31/31 [00:01<00:00, 16.46it/s]\n",
      "100%|██████████| 31/31 [00:01<00:00, 16.43it/s]\n"
     ]
    },
    {
     "name": "stdout",
     "output_type": "stream",
     "text": [
      "tensor([  5.9428,  39.0976,  71.7138,  83.2994,  90.1336,  97.4733, 106.0167,\n",
      "        113.5949])\n",
      "/mnt/nfs-mnj-hot-01/tmp/masomatics/block_diag/result/20220615_default_run_mnist \n",
      " snapshot_model_iter_50000\n"
     ]
    },
    {
     "name": "stderr",
     "output_type": "stream",
     "text": [
      "100%|██████████| 31/31 [00:01<00:00, 16.23it/s]\n",
      "100%|██████████| 31/31 [00:01<00:00, 17.01it/s]\n",
      "100%|██████████| 31/31 [00:01<00:00, 16.31it/s]\n"
     ]
    },
    {
     "name": "stdout",
     "output_type": "stream",
     "text": [
      "tensor([ 4.7215, 19.3984, 40.0383, 55.9845, 67.1882, 74.6724, 83.2575, 85.2004])\n",
      "/mnt/nfs-mnj-hot-01/tmp/masomatics/block_diag/result/20220913_default_run_again_0 \n",
      " snapshot_model_iter_50000\n"
     ]
    },
    {
     "name": "stderr",
     "output_type": "stream",
     "text": [
      "100%|██████████| 31/31 [00:01<00:00, 16.79it/s]\n",
      "100%|██████████| 31/31 [00:01<00:00, 16.68it/s]\n",
      "100%|██████████| 31/31 [00:01<00:00, 16.11it/s]\n"
     ]
    },
    {
     "name": "stdout",
     "output_type": "stream",
     "text": [
      "tensor([ 8.1483, 27.2024, 45.6822, 60.3445, 70.4970, 79.5941, 85.3990, 90.0370])\n"
     ]
    }
   ],
   "source": [
    "reload(ev)\n",
    "output = ev.prediction_evalutation(targdir_pathlist, device =0,\n",
    "                           n_cond=2, tp=8, repeats=3,\n",
    "                           predictive=False,reconstructive = False)"
   ]
  },
  {
   "cell_type": "code",
   "execution_count": 14,
   "id": "a044446d",
   "metadata": {},
   "outputs": [
    {
     "data": {
      "image/png": "[encoded data removed]",
      "text/plain": [
       "<Figure size 432x288 with 1 Axes>"
      ]
     },
     "metadata": {
      "needs_background": "light"
     },
     "output_type": "display_data"
    }
   ],
   "source": [
    "for mode in targdir_pathlist:\n",
    "    plt.plot(output['results'][mode][0], label=mode.split('/')[-1])\n",
    "    plt.xlabel(\"tp\")\n",
    "plt.legend(bbox_to_anchor=(1.05, 1))\n",
    "plt.title(\"Prediction Error\")\n",
    "\n",
    "plt.savefig(os.path.join(studypath, 'l2loss.png'))\n"
   ]
  },
  {
   "cell_type": "code",
   "execution_count": null,
   "id": "98a07eb0",
   "metadata": {},
   "outputs": [],
   "source": []
  }
 ],
 "metadata": {
  "kernelspec": {
   "display_name": "Python 3 (ipykernel)",
   "language": "python",
   "name": "python3"
  },
  "language_info": {
   "codemirror_mode": {
    "name": "ipython",
    "version": 3
   },
   "file_extension": ".py",
   "mimetype": "text/x-python",
   "name": "python",
   "nbconvert_exporter": "python",
   "pygments_lexer": "ipython3",
   "version": "3.8.9"
  }
 },
 "nbformat": 4,
 "nbformat_minor": 5
}
