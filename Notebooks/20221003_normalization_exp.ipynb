{
 "cells": [
  {
   "cell_type": "code",
   "execution_count": 1,
   "id": "32d7eb1e",
   "metadata": {},
   "outputs": [
    {
     "name": "stdout",
     "output_type": "stream",
     "text": [
      "True\n"
     ]
    },
    {
     "data": {
      "text/plain": [
       "['20220901_Mstar_inv_reg_cnn_0',\n",
       " '20220908_lstsq_Mdetach_0',\n",
       " '20220926_latentPredict_rerun_0',\n",
       " '20220909_latentPredict_zero_0',\n",
       " '20220908_latentPredict_bg_0',\n",
       " '20220901_Mstar_orth_0',\n",
       " '20220926_default_run_mnist',\n",
       " '20220907_latentPredict_0',\n",
       " '20220929_latentPred_0',\n",
       " '20220913_default_run_again_0',\n",
       " '20220913_playground_model']"
      ]
     },
     "execution_count": 1,
     "metadata": {},
     "output_type": "execute_result"
    }
   ],
   "source": [
    "import os\n",
    "import sys\n",
    "sys.path.append('../')\n",
    "sys.path.append('../datasets')\n",
    "sys.path.append('../models')\n",
    "import torch\n",
    "import torchvision\n",
    "import torch.backends.cudnn as cudnn\n",
    "import random\n",
    "import numpy as np\n",
    "import matplotlib.pyplot as plt\n",
    "from torch.utils.data import DataLoader\n",
    "from importlib import reload\n",
    "from datasets.three_dim_shapes import ThreeDimShapesDataset\n",
    "from datasets.small_norb import SmallNORBDataset\n",
    "from datasets.seq_mnist import SequentialMNIST\n",
    "import models.seqae as seqae\n",
    "import models.base_networks as bn \n",
    "import models\n",
    "from sklearn.multioutput import MultiOutputRegressor\n",
    "from sklearn.linear_model import Ridge\n",
    "from einops import rearrange\n",
    "from sklearn.metrics import r2_score\n",
    "import pdb\n",
    "from einops import rearrange\n",
    "from utils import notebook_utils as nb\n",
    "from utils import evaluations as ev\n",
    "\n",
    "\n",
    "\n",
    "import copy\n",
    "\n",
    "import csv\n",
    "import ast\n",
    "from source import yaml_utils as yu\n",
    "\n",
    "\n",
    "from tqdm import tqdm\n",
    "\n",
    "if torch.cuda.is_available():\n",
    "    device = torch.device('cuda')\n",
    "    cudnn.deterministic = True\n",
    "    cudnn.benchmark = True\n",
    "else:\n",
    "    device = torch.device('cpu')\n",
    "    gpu_index = -1\n",
    "\n",
    "    \n",
    "from utils import yaml_utils as yu\n",
    "import yaml\n",
    "rootpath = '/mnt/nfs-mnj-hot-01/tmp/masomatics/block_diag/'\n",
    "result_dir = '/mnt/nfs-mnj-hot-01/tmp/masomatics/block_diag/result'\n",
    "jobdir = '/mnt/vol21/masomatics/ULASclone/jobs'\n",
    "\n",
    "mode = 'so3'\n",
    "dat_root = f\"\"\"/mnt/nfs-mnj-hot-01/tmp/masomatics/block_diag/datasets/{mode}\"\"\"\n",
    "\n",
    "playground_path = os.path.join(result_dir, '20220913_playground_model')\n",
    "\n",
    "\n",
    "print(os.path.exists(playground_path))\n",
    "\n",
    "nb.filter_list('202209', os.listdir(result_dir))"
   ]
  },
  {
   "cell_type": "code",
   "execution_count": 2,
   "id": "647e65d2",
   "metadata": {},
   "outputs": [
    {
     "data": {
      "text/plain": [
       "['20220929_latentPred_0']"
      ]
     },
     "execution_count": 2,
     "metadata": {},
     "output_type": "execute_result"
    }
   ],
   "source": [
    "#projname =  'latentPred'\n",
    "projname =  '20220929_latentPred_0'\n",
    "\n",
    "setting_name = '09292026'\n",
    "nb.filter_list(projname, os.listdir(result_dir))"
   ]
  },
  {
   "cell_type": "code",
   "execution_count": 3,
   "id": "089cb54a",
   "metadata": {},
   "outputs": [
    {
     "name": "stdout",
     "output_type": "stream",
     "text": [
      "../jobs/09292026_20220929_latentPred_0\n",
      "False\n"
     ]
    },
    {
     "ename": "FileNotFoundError",
     "evalue": "[Errno 2] No such file or directory: '/mnt/nfs-mnj-hot-01/tmp/masomatics/block_diag/result/20220926_20220929_latentPred_0_0'",
     "output_type": "error",
     "traceback": [
      "\u001b[0;31m---------------------------------------------------------------------------\u001b[0m",
      "\u001b[0;31mFileNotFoundError\u001b[0m                         Traceback (most recent call last)",
      "\u001b[0;32m/tmp/ipykernel_2639/4040143513.py\u001b[0m in \u001b[0;36m<module>\u001b[0;34m\u001b[0m\n\u001b[1;32m      7\u001b[0m \u001b[0;34m\u001b[0m\u001b[0m\n\u001b[1;32m      8\u001b[0m \u001b[0mtargpath\u001b[0m \u001b[0;34m=\u001b[0m \u001b[0mos\u001b[0m\u001b[0;34m.\u001b[0m\u001b[0mpath\u001b[0m\u001b[0;34m.\u001b[0m\u001b[0mjoin\u001b[0m\u001b[0;34m(\u001b[0m\u001b[0mresult_dir\u001b[0m\u001b[0;34m,\u001b[0m \u001b[0mtargdir\u001b[0m\u001b[0;34m)\u001b[0m\u001b[0;34m\u001b[0m\u001b[0;34m\u001b[0m\u001b[0m\n\u001b[0;32m----> 9\u001b[0;31m \u001b[0mtarglist\u001b[0m \u001b[0;34m=\u001b[0m \u001b[0mos\u001b[0m\u001b[0;34m.\u001b[0m\u001b[0mlistdir\u001b[0m\u001b[0;34m(\u001b[0m\u001b[0mtargpath\u001b[0m\u001b[0;34m)\u001b[0m\u001b[0;34m\u001b[0m\u001b[0;34m\u001b[0m\u001b[0m\n\u001b[0m\u001b[1;32m     10\u001b[0m \u001b[0;34m\u001b[0m\u001b[0m\n\u001b[1;32m     11\u001b[0m \u001b[0mtarglist\u001b[0m \u001b[0;34m=\u001b[0m \u001b[0mnb\u001b[0m\u001b[0;34m.\u001b[0m\u001b[0mmodel_exists\u001b[0m\u001b[0;34m(\u001b[0m\u001b[0mtarglist\u001b[0m\u001b[0;34m,\u001b[0m  \u001b[0mtargpath\u001b[0m\u001b[0;34m)\u001b[0m\u001b[0;34m\u001b[0m\u001b[0;34m\u001b[0m\u001b[0m\n",
      "\u001b[0;31mFileNotFoundError\u001b[0m: [Errno 2] No such file or directory: '/mnt/nfs-mnj-hot-01/tmp/masomatics/block_diag/result/20220926_20220929_latentPred_0_0'"
     ]
    }
   ],
   "source": [
    "\n",
    "targdir = f'''20220926_{projname}_0'''\n",
    "jobpath = f'''../jobs/{setting_name}_{projname}'''\n",
    "print(jobpath)\n",
    "print(os.path.exists(jobpath))\n",
    "#jobpath = os.path.join('../jobs/','_'.join(targdir.split('_')[:-1]))\n",
    "\n",
    "\n",
    "targpath = os.path.join(result_dir, targdir)\n",
    "targlist = os.listdir(targpath)\n",
    "\n",
    "targlist = nb.model_exists(targlist,  targpath)\n",
    "print(targlist)"
   ]
  },
  {
   "cell_type": "code",
   "execution_count": null,
   "id": "b5953c01",
   "metadata": {},
   "outputs": [],
   "source": []
  }
 ],
 "metadata": {
  "kernelspec": {
   "display_name": "Python 3 (ipykernel)",
   "language": "python",
   "name": "python3"
  },
  "language_info": {
   "codemirror_mode": {
    "name": "ipython",
    "version": 3
   },
   "file_extension": ".py",
   "mimetype": "text/x-python",
   "name": "python",
   "nbconvert_exporter": "python",
   "pygments_lexer": "ipython3",
   "version": "3.8.9"
  }
 },
 "nbformat": 4,
 "nbformat_minor": 5
}
