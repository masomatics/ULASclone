{
 "cells": [
  {
   "cell_type": "code",
   "execution_count": 146,
   "id": "706da5a3",
   "metadata": {},
   "outputs": [
    {
     "name": "stdout",
     "output_type": "stream",
     "text": [
      "ver2 \t  0.4918484687805176\n",
      "ver1 \t  0.08808779716491699\n"
     ]
    }
   ],
   "source": [
    "import torch\n",
    "import numpy as np\n",
    "from time import time \n",
    "import sys\n",
    "sys.path.append('../')\n",
    "from utils import misc\n",
    "\n",
    "#mode = 'ver2'\n",
    "\n",
    "device = 0\n",
    "N = 1000\n",
    "S = 32\n",
    "\n",
    "for mode in [  'ver2', 'ver1']:\n",
    "    start = time()\n",
    "    n, t, s, a = N, 3 , S, 16 \n",
    "    H = torch.tensor(np.random.normal(size = [n, t, s, a])).float().to(device)\n",
    "\n",
    "    if mode == 'ver1':\n",
    "        P = torch.tensor(np.random.normal(size = [n, 1, s, s])).float().to(device) \n",
    "        U,_, V = torch.linalg.svd(P)\n",
    "        P = U@V\n",
    "    elif mode == 'ver2':\n",
    "        P = torch.empty([n, 1, s, s]).to(device)\n",
    "        for k in range(N):\n",
    "            P[k, 0, : ,:] = misc.get_orthmat(S, S).to(device)\n",
    "    else:\n",
    "        raise NotImplemetedError\n",
    "\n",
    "    P_orth = P.tile(dims = (1, 3, 1, 1)).float()\n",
    "\n",
    "    #unko = H @ P_orth \n",
    "    unko = P_orth @ H\n",
    "\n",
    "    delta = time() - start\n",
    "    print(f\"\"\"{mode} \\t  {delta}\"\"\")"
   ]
  },
  {
   "cell_type": "code",
   "execution_count": 136,
   "id": "08439394",
   "metadata": {},
   "outputs": [
    {
     "data": {
      "text/plain": [
       "torch.Size([32, 1, 256, 256])"
      ]
     },
     "execution_count": 136,
     "metadata": {},
     "output_type": "execute_result"
    }
   ],
   "source": [
    "P.shape"
   ]
  },
  {
   "cell_type": "code",
   "execution_count": 99,
   "id": "212b2279",
   "metadata": {},
   "outputs": [
    {
     "data": {
      "text/plain": [
       "tensor([[ 1.0000e+00,  8.2720e-08,  9.2279e-09,  ..., -5.2981e-08,\n",
       "         -7.1134e-08, -4.2327e-08],\n",
       "        [ 8.2720e-08,  1.0000e+00,  1.0355e-07,  ...,  1.5731e-07,\n",
       "         -6.2796e-08,  6.5219e-08],\n",
       "        [ 9.2279e-09,  1.0355e-07,  1.0000e+00,  ..., -1.3907e-08,\n",
       "         -6.3704e-09, -5.1562e-08],\n",
       "        ...,\n",
       "        [-5.2981e-08,  1.5731e-07, -1.3907e-08,  ...,  1.0000e+00,\n",
       "          3.9757e-08,  8.4640e-08],\n",
       "        [-7.1134e-08, -6.2796e-08, -6.3704e-09,  ...,  3.9757e-08,\n",
       "          1.0000e+00,  3.6555e-08],\n",
       "        [-4.2327e-08,  6.5219e-08, -5.1562e-08,  ...,  8.4640e-08,\n",
       "          3.6555e-08,  1.0000e+00]])"
      ]
     },
     "execution_count": 99,
     "metadata": {},
     "output_type": "execute_result"
    }
   ],
   "source": [
    "aaa = P_orth[2, 1, :, :]\n",
    "\n",
    "aaa @ aaa.permute([1,0])"
   ]
  },
  {
   "cell_type": "code",
   "execution_count": 103,
   "id": "879cbbe9",
   "metadata": {},
   "outputs": [
    {
     "data": {
      "text/plain": [
       "tensor(0.)"
      ]
     },
     "execution_count": 103,
     "metadata": {},
     "output_type": "execute_result"
    }
   ],
   "source": [
    "n = 3\n",
    "torch.sum(torch.abs(P[n]  @ H[n]  - (P_orth @ H)[n]))"
   ]
  },
  {
   "cell_type": "code",
   "execution_count": 94,
   "id": "e8574b3f",
   "metadata": {},
   "outputs": [],
   "source": [
    "n, t, s, a = H.shape"
   ]
  },
  {
   "cell_type": "code",
   "execution_count": 95,
   "id": "ee171484",
   "metadata": {},
   "outputs": [
    {
     "data": {
      "text/plain": [
       "32"
      ]
     },
     "execution_count": 95,
     "metadata": {},
     "output_type": "execute_result"
    }
   ],
   "source": [
    "n"
   ]
  },
  {
   "cell_type": "code",
   "execution_count": null,
   "id": "c71b3726",
   "metadata": {},
   "outputs": [],
   "source": []
  }
 ],
 "metadata": {
  "kernelspec": {
   "display_name": "Python 3 (ipykernel)",
   "language": "python",
   "name": "python3"
  },
  "language_info": {
   "codemirror_mode": {
    "name": "ipython",
    "version": 3
   },
   "file_extension": ".py",
   "mimetype": "text/x-python",
   "name": "python",
   "nbconvert_exporter": "python",
   "pygments_lexer": "ipython3",
   "version": "3.8.9"
  }
 },
 "nbformat": 4,
 "nbformat_minor": 5
}
