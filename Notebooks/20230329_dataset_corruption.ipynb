{
 "cells": [
  {
   "cell_type": "code",
   "execution_count": 2,
   "id": "eaff204c-fb06-4d53-a123-d325b43d7d04",
   "metadata": {
    "tags": []
   },
   "outputs": [],
   "source": [
    "import os\n",
    "import sys\n",
    "sys.path.append('../')\n",
    "sys.path.append('../datasets')\n",
    "sys.path.append('../models')\n",
    "import torch\n",
    "import torchvision\n",
    "import torch.backends.cudnn as cudnn\n",
    "import random\n",
    "import numpy as np\n",
    "import matplotlib.pyplot as plt\n",
    "from torch.utils.data import DataLoader\n",
    "from importlib import reload\n",
    "from datasets.three_dim_shapes import ThreeDimShapesDataset\n",
    "from datasets.small_norb import SmallNORBDataset\n",
    "from datasets.seq_mnist import SequentialMNIST\n",
    "from datasets.seq_mnist import SequentialMNIST_double\n",
    "from datasets import seq_mnist as sm\n",
    "\n",
    "import models.seqae as seqae\n",
    "import models.base_networks as bn \n",
    "from models import misc_mnet as mnet\n",
    "\n",
    "import models\n",
    "from sklearn.multioutput import MultiOutputRegressor\n",
    "from sklearn.linear_model import Ridge\n",
    "from einops import rearrange\n",
    "from sklearn.metrics import r2_score\n",
    "import pdb\n",
    "from einops import rearrange\n",
    "from utils import notebook_utils as nb\n",
    "from utils import evaluations as ev\n",
    "from utils import notebook_utils as nu\n",
    "from utils.misc import get_RTmat\n",
    "import colorsys\n",
    "\n",
    "\n",
    "\n",
    "import copy\n",
    "\n",
    "import csv\n",
    "import ast\n",
    "from source import yaml_utils as yu"
   ]
  },
  {
   "cell_type": "code",
   "execution_count": 3,
   "id": "2dc850fe-2541-45f2-9a9c-232d5e3b9e34",
   "metadata": {
    "tags": []
   },
   "outputs": [],
   "source": [
    "data = torchvision.datasets.MNIST('../../data/MNIST', train=False, download=False)"
   ]
  },
  {
   "cell_type": "code",
   "execution_count": 4,
   "id": "3dbb2160-e698-4f81-8898-0870b47f1b6f",
   "metadata": {
    "tags": []
   },
   "outputs": [
    {
     "data": {
      "text/plain": [
       "<matplotlib.image.AxesImage at 0x7f55b827af40>"
      ]
     },
     "execution_count": 4,
     "metadata": {},
     "output_type": "execute_result"
    },
    {
     "data": {
      "image/png": "[encoded data removed]",
      "text/plain": [
       "<Figure size 640x480 with 1 Axes>"
      ]
     },
     "metadata": {},
     "output_type": "display_data"
    }
   ],
   "source": [
    "plt.imshow(np.array(data[0][0]))"
   ]
  },
  {
   "cell_type": "code",
   "execution_count": 5,
   "id": "9603f39d-7efd-444b-a1c8-bd730ab74891",
   "metadata": {
    "tags": []
   },
   "outputs": [],
   "source": [
    "sys.path.append('../')\n",
    "from datasets import seq_mnist as sm"
   ]
  },
  {
   "cell_type": "code",
   "execution_count": 6,
   "id": "58513d57-1911-4d1d-adf6-fec112bda4a2",
   "metadata": {
    "tags": []
   },
   "outputs": [
    {
     "name": "stdout",
     "output_type": "stream",
     "text": [
      "Files already downloaded\n"
     ]
    }
   ],
   "source": [
    "testdat = sm.SequentialMNIST(root='../../data/MNIST')"
   ]
  },
  {
   "cell_type": "code",
   "execution_count": 7,
   "id": "4dd321e5-9b14-4106-8488-97361a22d8a0",
   "metadata": {
    "tags": []
   },
   "outputs": [
    {
     "data": {
      "text/plain": [
       "tensor(0.9874)"
      ]
     },
     "execution_count": 7,
     "metadata": {},
     "output_type": "execute_result"
    }
   ],
   "source": [
    "torch.max(testdat[0][0])"
   ]
  },
  {
   "cell_type": "code",
   "execution_count": 8,
   "id": "1572a4d9-5367-4f1f-ad6d-f1d3205949a4",
   "metadata": {
    "tags": []
   },
   "outputs": [],
   "source": [
    "import math \n",
    "from skimage.transform import resize\n",
    "import cv2\n"
   ]
  },
  {
   "cell_type": "code",
   "execution_count": 9,
   "id": "e5eaa335-1f9a-45e3-9949-2702b352fb28",
   "metadata": {
    "tags": []
   },
   "outputs": [],
   "source": [
    "idx = 0\n",
    "image = np.array(testdat.data[idx][0], np.float32).reshape(28, 28)\n",
    "image = resize(image, [24, 24])\n",
    "image = cv2.copyMakeBorder(\n",
    "    image, 4, 4, 4, 4, cv2.BORDER_CONSTANT, value=(0, 0, 0))\n",
    "angles_0 = testdat.rng.uniform(0, 2 * math.pi, size=1)\n",
    "color_0 = testdat.rng.uniform(0, 1, size=1)\n",
    "pos0 = testdat.rng.uniform(testdat.max_pos[0], testdat.max_pos[1], size=[2])\n",
    "pos1 = testdat.rng.uniform(testdat.max_pos[0], testdat.max_pos[1], size=[2])\n"
   ]
  },
  {
   "cell_type": "code",
   "execution_count": 10,
   "id": "50e625d9-9881-4971-82b7-b5ac61c0bff1",
   "metadata": {
    "tags": []
   },
   "outputs": [],
   "source": [
    "angles_v = testdat.rng.uniform(math.pi * testdat.angle_velocity_range[0],\n",
    "                            math.pi * testdat.angle_velocity_range[1], size=1)\n",
    "angles_a = testdat.rng.uniform(math.pi * testdat.angle_accl_range[0],\n",
    "                            math.pi * testdat.angle_accl_range[1], size=1)\n",
    "color_v = 0.5 * testdat.rng.uniform(testdat.color_velocity_range[0],\n",
    "                                 testdat.color_velocity_range[1], size=1)\n",
    "color_a = 0.5 * \\\n",
    "    testdat.rng.uniform(\n",
    "        testdat.color_accl_range[0], testdat.color_accl_range[1], size=1)\n",
    "pos_v = (pos1-pos0)/(testdat.max_T - 1)\n",
    "pos_a = testdat.rng.uniform(\n",
    "    testdat.max_trans_accl[0], testdat.max_trans_accl[1], size=[2])"
   ]
  },
  {
   "cell_type": "code",
   "execution_count": 11,
   "id": "4db8d71d-f547-4eb6-b034-965f767aed3c",
   "metadata": {
    "tags": []
   },
   "outputs": [
    {
     "data": {
      "text/plain": [
       "(array([0.28272507]),\n",
       " array([0.]),\n",
       " array([-0.03197562]),\n",
       " array([0.]),\n",
       " array([ 0.97015976, -2.07332784]),\n",
       " array([0., 0.]))"
      ]
     },
     "execution_count": 11,
     "metadata": {},
     "output_type": "execute_result"
    }
   ],
   "source": [
    "angles_v, angles_a,  color_v,  color_a, pos_v, pos_a "
   ]
  },
  {
   "cell_type": "code",
   "execution_count": 12,
   "id": "c5bc5266-d636-4831-92e7-e51c5f991307",
   "metadata": {
    "tags": []
   },
   "outputs": [],
   "source": [
    "t = 1\n",
    "angles_t = 0.5 * angles_a * t**2 + angles_v * t + angles_0\n",
    "pos_t = 0.5 * pos_a * t**2 + pos_v * t + pos0\n",
    "color_t = (0.5 * color_a * t**2 + t * color_v + color_0) % 1\n",
    "mat = get_RTmat(0, 0, float(angles_t), 32, 32, pos_t[0], pos_t[1])\n",
    "_image = cv2.warpPerspective(image.copy(), mat, (32, 32))\n",
    "\n",
    "\n",
    "rgb = np.asarray(colorsys.hsv_to_rgb(color_t[0], 1, 1), dtype=np.float32)\n",
    "_image = np.concatenate(\n",
    "    [_image[:, :, None]] * 3, axis=-1) * rgb[None, None]\n",
    "_image = _image / 255.\n",
    "\n",
    "if hasattr(testdat, 'backgrnd_data'):\n",
    "    _imagemask = (np.sum(_image, axis=2, keepdims=True) < 3e-1)\n",
    "    _image = torch.tensor(\n",
    "        _image) + self.backgrnd_data[i].permute([1, 2, 0]) * (_imagemask)\n",
    "    _image = np.array(torch.clip(_image, max=1.))\n",
    "    \n"
   ]
  },
  {
   "cell_type": "code",
   "execution_count": 13,
   "id": "85f97cbc-cd16-466e-ac0d-68cd457bc689",
   "metadata": {
    "tags": []
   },
   "outputs": [
    {
     "name": "stdout",
     "output_type": "stream",
     "text": [
      "<class 'numpy.ndarray'> float32 (32, 32)\n",
      "0.98794425 0.0038742912001907825\n"
     ]
    },
    {
     "data": {
      "image/png": "[encoded data removed]",
      "text/plain": [
       "<Figure size 640x480 with 3 Axes>"
      ]
     },
     "metadata": {},
     "output_type": "display_data"
    }
   ],
   "source": [
    "plt.figure()\n",
    "plt.subplot(1,3,1) \n",
    "plt.imshow(_image)\n",
    "plt.subplot(1,3,2) \n",
    "print(type(_image), _image.dtype,  image.shape)\n",
    "unkoimage = torchvision.transforms.ToTensor()(_image)\n",
    "plt.imshow(unkoimage)\n",
    "\n",
    "chinkoimage = torch.tensor(_image)\n",
    "\n",
    "plt.subplot(1,3,3) \n",
    "plt.imshow(chinkoimage)\n",
    "\n",
    "\n",
    "print(np.max(_image), torch.max(unkoimage).item())"
   ]
  },
  {
   "cell_type": "code",
   "execution_count": 14,
   "id": "c957d8a7-bc6e-4d8b-90f4-0743d7b66ef3",
   "metadata": {
    "tags": []
   },
   "outputs": [
    {
     "name": "stdout",
     "output_type": "stream",
     "text": [
      "1.13.1+cu117\n"
     ]
    }
   ],
   "source": [
    "import torchvision\n",
    "print(torch.__version__)\n",
    "#print(torchvision.__version__)\n"
   ]
  },
  {
   "cell_type": "code",
   "execution_count": 15,
   "id": "e08ffb25-9280-4008-a6cd-b49267c0019f",
   "metadata": {
    "tags": []
   },
   "outputs": [
    {
     "data": {
      "text/plain": [
       "<matplotlib.image.AxesImage at 0x7f55b7a82f70>"
      ]
     },
     "execution_count": 15,
     "metadata": {},
     "output_type": "execute_result"
    },
    {
     "data": {
      "image/png": "[encoded data removed]",
      "text/plain": [
       "<Figure size 640x480 with 1 Axes>"
      ]
     },
     "metadata": {},
     "output_type": "display_data"
    }
   ],
   "source": [
    "image = np.array(testdat.data[idx][0], np.float32).reshape(28, 28)\n",
    "image = resize(image, [24, 24])\n",
    "image = cv2.copyMakeBorder(\n",
    "    image, 4, 4, 4, 4, cv2.BORDER_CONSTANT, value=(0, 0, 0))\n",
    "\n",
    "\n",
    "plt.imshow(image)"
   ]
  },
  {
   "cell_type": "code",
   "execution_count": 16,
   "id": "fe503e9c-4385-4881-9aca-adb02d49124a",
   "metadata": {
    "tags": []
   },
   "outputs": [
    {
     "data": {
      "image/png": "[encoded data removed]",
      "text/plain": [
       "<Figure size 640x480 with 1 Axes>"
      ]
     },
     "metadata": {},
     "output_type": "display_data"
    },
    {
     "data": {
      "image/png": "[encoded data removed]",
      "text/plain": [
       "<Figure size 640x480 with 1 Axes>"
      ]
     },
     "metadata": {},
     "output_type": "display_data"
    },
    {
     "data": {
      "image/png": "[encoded data removed]",
      "text/plain": [
       "<Figure size 640x480 with 1 Axes>"
      ]
     },
     "metadata": {},
     "output_type": "display_data"
    }
   ],
   "source": [
    "\n",
    "angles_0 = testdat.rng.uniform(0, 2 * math.pi, size=1)\n",
    "color_0 = testdat.rng.uniform(0, 1, size=1)\n",
    "pos0 = testdat.rng.uniform(testdat.max_pos[0], testdat.max_pos[1], size=[2])\n",
    "pos1 = testdat.rng.uniform(testdat.max_pos[0], testdat.max_pos[1], size=[2])\n",
    "if testdat.shared_transition:\n",
    "    (angles_v, angles_a) = (testdat.angles_v, testdat.angles_a)\n",
    "    (color_v, color_a) = (testdat.color_v, testdat.color_a)\n",
    "    (pos_v, pos_a) = (testdat.pos_v, testdat.pos_a)\n",
    "else:\n",
    "    angles_v = testdat.rng.uniform(math.pi * testdat.angle_velocity_range[0],\n",
    "                                math.pi * testdat.angle_velocity_range[1], size=1)\n",
    "    angles_a = testdat.rng.uniform(math.pi * testdat.angle_accl_range[0],\n",
    "                                math.pi * testdat.angle_accl_range[1], size=1)\n",
    "    color_v = 0.5 * testdat.rng.uniform(testdat.color_velocity_range[0],\n",
    "                                     testdat.color_velocity_range[1], size=1)\n",
    "    color_a = 0.5 * \\\n",
    "        testdat.rng.uniform(\n",
    "            testdat.color_accl_range[0], testdat.color_accl_range[1], size=1)\n",
    "    pos_v = (pos1-pos0)/(testdat.max_T - 1)\n",
    "    pos_a = testdat.rng.uniform(\n",
    "        testdat.max_trans_accl[0], testdat.max_trans_accl[1], size=[2])\n",
    "images = []\n",
    "for t in range(testdat.T):\n",
    "    angles_t = 0.5 * angles_a * t**2 + angles_v * t + angles_0\n",
    "    pos_t = 0.5 * pos_a * t**2 + pos_v * t + pos0\n",
    "    color_t = (0.5 * color_a * t**2 + t * color_v + color_0) % 1\n",
    "    mat = get_RTmat(0, 0, float(angles_t), 32, 32, pos_t[0], pos_t[1])\n",
    "    _image = cv2.warpPerspective(image.copy(), mat, (32, 32))\n",
    "\n",
    "    rgb = np.asarray(colorsys.hsv_to_rgb(color_t[0], 1, 1), dtype=np.float32)\n",
    "    _image = np.concatenate(\n",
    "        [_image[:, :, None]] * 3, axis=-1) * rgb[None, None]\n",
    "    _image = _image / 255.\n",
    "\n",
    "\n",
    "\n",
    "    if hasattr(testdat, 'backgrnd_data'):\n",
    "        _imagemask = (np.sum(_image, axis=2, keepdims=True) < 3e-1)\n",
    "        _image = torch.tensor(\n",
    "            _image) + testdat.backgrnd_data[i].permute([1, 2, 0]) * (_imagemask)\n",
    "        _image = np.array(torch.clip(_image, max=1.))\n",
    "    plt.figure()\n",
    "    plt.imshow(_image.astype(np.float32)) \n",
    "    #plt.imshow(testdat.transforms(_image.astype(np.float32)) )\n",
    "        \n",
    "    images.append(testdat.transforms(_image.astype(np.float32)))\n",
    "\n",
    "if testdat.label or testdat.label_velo:\n",
    "    ret = [images]\n",
    "    if testdat.label:\n",
    "        ret += [testdat.data[i][1]]\n",
    "    if testdat.label_velo:\n",
    "        ret += [\n",
    "            freq_to_wave(angles_v.astype(np.float32)),\n",
    "            freq_to_wave((2 * math.pi * color_v).astype(np.float32)),\n",
    "            pos_v.astype(np.float32)\n",
    "        ]\n",
    "    if testdat.label_accl:\n",
    "        ret += [\n",
    "            freq_to_wave(angles_a.astype(np.float32)),\n",
    "            freq_to_wave((2 * math.pi * color_a).astype(np.float32)),\n",
    "            pos_a.astype(np.float32)\n",
    "        ]"
   ]
  },
  {
   "cell_type": "code",
   "execution_count": null,
   "id": "cd5a4357-ab7e-4c0a-8c3f-cf6ea6beaef8",
   "metadata": {},
   "outputs": [],
   "source": []
  }
 ],
 "metadata": {
  "kernelspec": {
   "display_name": "Python 3 (ipykernel)",
   "language": "python",
   "name": "python3"
  },
  "language_info": {
   "codemirror_mode": {
    "name": "ipython",
    "version": 3
   },
   "file_extension": ".py",
   "mimetype": "text/x-python",
   "name": "python",
   "nbconvert_exporter": "python",
   "pygments_lexer": "ipython3",
   "version": "3.9.12"
  }
 },
 "nbformat": 4,
 "nbformat_minor": 5
}
