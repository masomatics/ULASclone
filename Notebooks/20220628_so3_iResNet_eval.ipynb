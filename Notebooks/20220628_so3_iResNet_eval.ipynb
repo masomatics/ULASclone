{
 "cells": [
  {
   "cell_type": "code",
   "execution_count": 1,
   "id": "ec122f3a",
   "metadata": {},
   "outputs": [],
   "source": [
    "import os\n",
    "import sys\n",
    "sys.path.append('../')\n",
    "sys.path.append('../datasets')\n",
    "sys.path.append('../models')\n",
    "import torch\n",
    "import torchvision\n",
    "import torch.backends.cudnn as cudnn\n",
    "import random\n",
    "import numpy as np\n",
    "import matplotlib.pyplot as plt\n",
    "from torch.utils.data import DataLoader\n",
    "from importlib import reload\n",
    "from datasets.three_dim_shapes import ThreeDimShapesDataset\n",
    "from datasets.small_norb import SmallNORBDataset\n",
    "from datasets.seq_mnist import SequentialMNIST\n",
    "import models.seqae as seqae\n",
    "from sklearn.multioutput import MultiOutputRegressor\n",
    "from sklearn.linear_model import Ridge\n",
    "from datasets import so3_data as so3d\n",
    "from einops import rearrange\n",
    "\n",
    "import csv\n",
    "import ast\n",
    "\n",
    "\n",
    "\n",
    "from tqdm import tqdm\n",
    "\n",
    "if torch.cuda.is_available():\n",
    "    device = torch.device('cuda')\n",
    "    cudnn.deterministic = True\n",
    "    cudnn.benchmark = True\n",
    "else:\n",
    "    device = torch.device('cpu')\n",
    "    gpu_index = -1\n",
    "\n",
    "    \n",
    "    \n",
    "from utils import yaml_utils as yu\n",
    "import yaml\n",
    "result_dir = '/mnt/nfs-mnj-hot-01/tmp/masomatics/block_diag/result'\n",
    "\n",
    "\n",
    "\n",
    "\n"
   ]
  },
  {
   "cell_type": "code",
   "execution_count": 2,
   "id": "d18fc451",
   "metadata": {},
   "outputs": [
    {
     "name": "stdout",
     "output_type": "stream",
     "text": [
      "/mnt/nfs-mnj-hot-01/tmp/masomatics/block_diag/result/20220511_so3_exp_0:\r\n",
      "\u001b[0m\u001b[01;34mC_bd0\u001b[0m/  \u001b[01;34mC_bd0id1\u001b[0m/  \u001b[01;34mC_bd0id2\u001b[0m/  config.yml  log\r\n",
      "\r\n",
      "/mnt/nfs-mnj-hot-01/tmp/masomatics/block_diag/result/20220611_so3:\r\n",
      "config.yml                    snapshot_model_iter_20000\r\n",
      "log                           snapshot_model_iter_25000\r\n",
      "snapshot_manager_iter_100000  snapshot_model_iter_30000\r\n",
      "snapshot_model_iter_10000     snapshot_model_iter_40000\r\n",
      "snapshot_model_iter_100000    snapshot_model_iter_50000\r\n",
      "snapshot_model_iter_125000    snapshot_model_iter_75000\r\n",
      "\r\n",
      "/mnt/nfs-mnj-hot-01/tmp/masomatics/block_diag/result/20220611_so3_so3run:\r\n",
      "config.yml                    snapshot_model_iter_175000\r\n",
      "log                           snapshot_model_iter_200000\r\n",
      "snapshot_manager_iter_200000  snapshot_model_iter_25000\r\n",
      "snapshot_model_iter_100000    snapshot_model_iter_50000\r\n",
      "snapshot_model_iter_125000    snapshot_model_iter_75000\r\n",
      "snapshot_model_iter_150000\r\n",
      "\r\n",
      "/mnt/nfs-mnj-hot-01/tmp/masomatics/block_diag/result/20220611_so3_so3run_rcst:\r\n",
      "config.yml                    snapshot_model_iter_175000\r\n",
      "log                           snapshot_model_iter_200000\r\n",
      "snapshot_manager_iter_200000  snapshot_model_iter_25000\r\n",
      "snapshot_model_iter_100000    snapshot_model_iter_50000\r\n",
      "snapshot_model_iter_125000    snapshot_model_iter_75000\r\n",
      "snapshot_model_iter_150000\r\n",
      "\r\n",
      "/mnt/nfs-mnj-hot-01/tmp/masomatics/block_diag/result/20220611_so3_so3run_rcst_iter:\r\n",
      "config.yml                    snapshot_model_iter_175000\r\n",
      "log                           snapshot_model_iter_200000\r\n",
      "snapshot_manager_iter_200000  snapshot_model_iter_25000\r\n",
      "snapshot_model_iter_100000    snapshot_model_iter_50000\r\n",
      "snapshot_model_iter_125000    snapshot_model_iter_75000\r\n",
      "snapshot_model_iter_150000\r\n",
      "\r\n",
      "/mnt/nfs-mnj-hot-01/tmp/masomatics/block_diag/result/20220621_so3_rcst_so3run:\r\n",
      "config.yml  snapshot_manager_iter_50000  snapshot_model_iter_50000\r\n",
      "log         snapshot_model_iter_25000\r\n",
      "\r\n",
      "/mnt/nfs-mnj-hot-01/tmp/masomatics/block_diag/result/20220621_so3_rcst_so3run_rcst:\r\n",
      "config.yml  snapshot_manager_iter_50000  snapshot_model_iter_50000\r\n",
      "log         snapshot_model_iter_25000\r\n",
      "\r\n",
      "/mnt/nfs-mnj-hot-01/tmp/masomatics/block_diag/result/20220628_so3_idnet_0:\r\n",
      "\u001b[01;34mT10\u001b[0m/  \u001b[01;34mT8\u001b[0m/  \u001b[01;34mdim_m10\u001b[0m/  \u001b[01;34mdim_m5\u001b[0m/\r\n",
      "\r\n",
      "/mnt/nfs-mnj-hot-01/tmp/masomatics/block_diag/result/20220628_so3_linear_net_0:\r\n",
      "\u001b[01;34mT8\u001b[0m/\r\n"
     ]
    }
   ],
   "source": [
    "ls /mnt/nfs-mnj-hot-01/tmp/masomatics/block_diag/result/*so3*"
   ]
  },
  {
   "cell_type": "code",
   "execution_count": 3,
   "id": "6add04ef",
   "metadata": {},
   "outputs": [
    {
     "data": {
      "text/plain": [
       "['snapshot_model_iter_200000',\n",
       " 'config.yml',\n",
       " 'snapshot_model_iter_25000',\n",
       " 'snapshot_model_iter_150000',\n",
       " 'snapshot_model_iter_125000',\n",
       " 'snapshot_model_iter_50000',\n",
       " 'snapshot_manager_iter_200000',\n",
       " 'snapshot_model_iter_100000',\n",
       " 'snapshot_model_iter_75000',\n",
       " 'log',\n",
       " 'snapshot_model_iter_175000']"
      ]
     },
     "execution_count": 3,
     "metadata": {},
     "output_type": "execute_result"
    }
   ],
   "source": [
    "targdir = '20220611_so3_so3run_rcst'\n",
    "exp_result = os.path.join(result_dir, targdir)\n",
    "#print(os.listdir(exp_result))\n",
    "targ_config_path = os.path.join(exp_result, 'config.yml')\n",
    "\n",
    "\n",
    "with open(targ_config_path, 'r') as f:\n",
    "    config = yaml.safe_load(f)\n",
    "    \n",
    "    \n",
    "def load_model(model, log_dir, iters):\n",
    "    print('snapshot_model_iter_{}'.format(iters))\n",
    "    model.load_state_dict(torch.load(os.path.join(\n",
    "        log_dir, 'snapshot_model_iter_{}'.format(iters))))\n",
    "\n",
    "os.listdir(exp_result)"
   ]
  },
  {
   "cell_type": "code",
   "execution_count": 4,
   "id": "bf8b4864",
   "metadata": {},
   "outputs": [
    {
     "name": "stderr",
     "output_type": "stream",
     "text": [
      "/usr/local/lib/python3.8/site-packages/torch/nn/modules/lazy.py:178: UserWarning: Lazy modules are a new feature under heavy development so changes to the API or functionality can happen at any moment.\n",
      "  warnings.warn('Lazy modules are a new feature under heavy development '\n"
     ]
    },
    {
     "name": "stdout",
     "output_type": "stream",
     "text": [
      "snapshot_model_iter_200000\n"
     ]
    }
   ],
   "source": [
    "data = yu.load_component(config['train_data'])\n",
    "train_loader = DataLoader(data, \n",
    "                          batch_size=config['batchsize'],\n",
    "                          shuffle=True,\n",
    "                          num_workers=config['num_workers'])\n",
    "model = yu.load_component(config['model'])\n",
    "load_model(model, exp_result, 200000)"
   ]
  },
  {
   "cell_type": "code",
   "execution_count": 6,
   "id": "d10f566e",
   "metadata": {},
   "outputs": [
    {
     "name": "stdout",
     "output_type": "stream",
     "text": [
      "tensor(-11092.7831, dtype=torch.float64)\n"
     ]
    }
   ],
   "source": [
    "device = 0\n",
    "model = model.to(device)\n",
    "\n",
    "scores = [] \n",
    "for idx, dat in enumerate(train_loader):\n",
    "    dat = rearrange(dat, 'b t c d a -> (b t c d) a' ).to(device)\n",
    "    d0hat =  model.dec(model.enc(dat)).detach().to(device)\n",
    "    scores.append(seqae.r2_score(d0hat.to('cpu'), dat.to('cpu')))\n",
    "    \n",
    "scores = torch.tensor(scores)\n",
    "print(torch.mean(scores))"
   ]
  },
  {
   "cell_type": "code",
   "execution_count": 8,
   "id": "b4c31272",
   "metadata": {},
   "outputs": [
    {
     "data": {
      "text/plain": [
       "tensor([[-0.6631,  0.1084, -1.0163,  ...,  0.7172,  0.2431,  1.0904],\n",
       "        [-0.6144,  0.1436, -0.9959,  ...,  0.6797,  0.2190,  1.0994],\n",
       "        [-0.5688,  0.1794, -0.9756,  ...,  0.6322,  0.2036,  1.0948],\n",
       "        ...,\n",
       "        [-0.1425,  0.5347, -1.1160,  ..., -0.0811,  0.5421,  1.0828],\n",
       "        [ 1.0720, -0.5884,  0.3470,  ...,  0.5404,  0.1361,  0.6540],\n",
       "        [ 0.4324, -0.7878,  0.8426,  ...,  0.4858, -0.2519,  0.0097]],\n",
       "       device='cuda:0')"
      ]
     },
     "execution_count": 8,
     "metadata": {},
     "output_type": "execute_result"
    }
   ],
   "source": [
    "dat"
   ]
  },
  {
   "cell_type": "code",
   "execution_count": 9,
   "id": "29722851",
   "metadata": {},
   "outputs": [
    {
     "data": {
      "text/plain": [
       "tensor([[-0.7652, -0.4639,  1.7995,  ..., -0.6526,  0.4311, -0.2648],\n",
       "        [-0.7649, -0.4634,  1.7995,  ..., -0.6527,  0.4306, -0.2651],\n",
       "        [-0.7647, -0.4629,  1.7993,  ..., -0.6526,  0.4301, -0.2655],\n",
       "        ...,\n",
       "        [-0.7630, -0.4578,  1.7998,  ..., -0.6419,  0.4196, -0.2494],\n",
       "        [-0.7612, -0.4627,  1.8105,  ..., -0.6455,  0.4177, -0.2538],\n",
       "        [-0.7649, -0.4604,  1.8115,  ..., -0.6535,  0.4180, -0.2607]],\n",
       "       device='cuda:0')"
      ]
     },
     "execution_count": 9,
     "metadata": {},
     "output_type": "execute_result"
    }
   ],
   "source": [
    "d0hat"
   ]
  },
  {
   "cell_type": "code",
   "execution_count": 11,
   "id": "de15ce2b",
   "metadata": {},
   "outputs": [
    {
     "data": {
      "text/plain": [
       "tensor([ 0.0727,  0.0106,  0.0445,  0.3173,  0.2692,  0.0076,  0.2875, -0.3427,\n",
       "         0.4088, -0.0959, -0.5769, -0.0769,  0.2160, -0.1123,  0.1609,  0.0405,\n",
       "         0.0057, -0.3580,  0.3251, -0.0583, -0.1849, -0.0815, -0.0157,  0.0281,\n",
       "        -0.1199, -0.0267, -0.2218,  0.0377,  0.4011, -0.0633, -0.0341,  0.0008,\n",
       "         0.1554,  0.0245,  0.0387, -0.0453, -0.0267, -0.0436,  0.0895,  0.0022,\n",
       "         0.2128, -0.2091, -0.2406, -0.0892,  0.1419,  0.3245, -0.0577, -0.2936,\n",
       "        -0.2338,  0.0163,  0.0485,  0.1300,  0.4111, -0.1679,  0.0232,  0.1191,\n",
       "        -0.0314,  0.0764,  0.2522,  0.2792], device='cuda:0')"
      ]
     },
     "execution_count": 11,
     "metadata": {},
     "output_type": "execute_result"
    }
   ],
   "source": [
    "torch.mean(dat, axis=0)"
   ]
  },
  {
   "cell_type": "code",
   "execution_count": 20,
   "id": "b5544955",
   "metadata": {},
   "outputs": [
    {
     "data": {
      "text/plain": [
       "Invertible_Resblock_Fc(\n",
       "  (bottleneck_block): Sequential(\n",
       "    (0): Linear(in_features=60, out_features=60, bias=True)\n",
       "    (1): ELU(alpha=1.0)\n",
       "    (2): Linear(in_features=60, out_features=60, bias=True)\n",
       "  )\n",
       ")"
      ]
     },
     "execution_count": 20,
     "metadata": {},
     "output_type": "execute_result"
    }
   ],
   "source": [
    "model.dec.network[2]"
   ]
  },
  {
   "cell_type": "code",
   "execution_count": 21,
   "id": "a5b6e3c1",
   "metadata": {},
   "outputs": [
    {
     "data": {
      "text/plain": [
       "Sequential(\n",
       "  (0): Invertible_Resblock_Fc(\n",
       "    (bottleneck_block): Sequential(\n",
       "      (0): Linear(in_features=60, out_features=60, bias=True)\n",
       "      (1): ELU(alpha=1.0)\n",
       "      (2): Linear(in_features=60, out_features=60, bias=True)\n",
       "    )\n",
       "  )\n",
       "  (1): Invertible_Resblock_Fc(\n",
       "    (bottleneck_block): Sequential(\n",
       "      (0): Linear(in_features=60, out_features=60, bias=True)\n",
       "      (1): ELU(alpha=1.0)\n",
       "      (2): Linear(in_features=60, out_features=60, bias=True)\n",
       "    )\n",
       "  )\n",
       "  (2): Invertible_Resblock_Fc(\n",
       "    (bottleneck_block): Sequential(\n",
       "      (0): Linear(in_features=60, out_features=60, bias=True)\n",
       "      (1): ELU(alpha=1.0)\n",
       "      (2): Linear(in_features=60, out_features=60, bias=True)\n",
       "    )\n",
       "  )\n",
       ")"
      ]
     },
     "execution_count": 21,
     "metadata": {},
     "output_type": "execute_result"
    }
   ],
   "source": [
    "model.dec.network"
   ]
  },
  {
   "cell_type": "code",
   "execution_count": null,
   "id": "3e18e1d4",
   "metadata": {},
   "outputs": [],
   "source": []
  }
 ],
 "metadata": {
  "kernelspec": {
   "display_name": "Python 3 (ipykernel)",
   "language": "python",
   "name": "python3"
  },
  "language_info": {
   "codemirror_mode": {
    "name": "ipython",
    "version": 3
   },
   "file_extension": ".py",
   "mimetype": "text/x-python",
   "name": "python",
   "nbconvert_exporter": "python",
   "pygments_lexer": "ipython3",
   "version": "3.8.9"
  }
 },
 "nbformat": 4,
 "nbformat_minor": 5
}
