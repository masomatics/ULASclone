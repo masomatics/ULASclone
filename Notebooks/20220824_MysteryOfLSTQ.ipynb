{
 "cells": [
  {
   "cell_type": "code",
   "execution_count": 1,
   "id": "910f343b",
   "metadata": {},
   "outputs": [],
   "source": [
    "import os\n",
    "import sys\n",
    "sys.path.append('../')\n",
    "sys.path.append('../datasets')\n",
    "sys.path.append('../models')\n",
    "import torch\n",
    "import torchvision\n",
    "import torch.backends.cudnn as cudnn\n",
    "import random\n",
    "import numpy as np\n",
    "import matplotlib.pyplot as plt\n",
    "from torch.utils.data import DataLoader\n",
    "from importlib import reload\n",
    "from datasets.three_dim_shapes import ThreeDimShapesDataset\n",
    "from datasets.small_norb import SmallNORBDataset\n",
    "from datasets.seq_mnist import SequentialMNIST\n",
    "import models.seqae as seqae\n",
    "from sklearn.multioutput import MultiOutputRegressor\n",
    "from sklearn.linear_model import Ridge\n",
    "from datasets import so3_data as so3d\n",
    "from einops import rearrange\n",
    "from sklearn.metrics import r2_score\n",
    "import pdb\n",
    "from einops import rearrange\n",
    "from utils import evaluations as ev\n",
    "\n",
    "import copy\n",
    "\n",
    "import csv\n",
    "import ast\n",
    "from source import yaml_utils as yu"
   ]
  },
  {
   "cell_type": "code",
   "execution_count": 20,
   "id": "f9346476",
   "metadata": {},
   "outputs": [
    {
     "name": "stdout",
     "output_type": "stream",
     "text": [
      "(3, 2, 3, 28, 28)\n",
      "(3, 2, 3, 28, 28)\n",
      "28\n",
      "(3, 1, 4704)\n",
      "(3, 4704, 1)\n"
     ]
    }
   ],
   "source": [
    "n, t, c, h, w = 3, 3, 3, 28, 28\n",
    "xs = np.random.normal(size = [n ,t, c, h, w])\n",
    "print(xs[:, 1:].shape)\n",
    "print(xs[:, :-1].shape)\n",
    "print(xs.shape[-1])\n",
    "xs0 = rearrange(xs[:, :-1], 'n t c h w -> n 1 (t c h w)')\n",
    "xs1 = rearrange(xs[:, 1:], 'n t c h w -> n (t c h w) 1')\n",
    "\n",
    "print(xs0.shape)\n",
    "print(xs1.shape)"
   ]
  },
  {
   "cell_type": "code",
   "execution_count": 22,
   "id": "c64c3d5c",
   "metadata": {},
   "outputs": [
    {
     "name": "stdout",
     "output_type": "stream",
     "text": [
      "(3, 28224, 28, 28)\n"
     ]
    }
   ],
   "source": [
    "(xs1 @ xs0).shape\n",
    "#rearrange(xs1 @ xs0, 'n r r -> ' )\n",
    "\n",
    "xsinput =(xs1 @ xs0).reshape(xs.shape[0], -1, xs.shape[-1], xs.shape[-2])\n",
    "print(xsinput.shape)"
   ]
  },
  {
   "cell_type": "code",
   "execution_count": null,
   "id": "07a9d39d",
   "metadata": {},
   "outputs": [],
   "source": []
  }
 ],
 "metadata": {
  "kernelspec": {
   "display_name": "Python 3 (ipykernel)",
   "language": "python",
   "name": "python3"
  },
  "language_info": {
   "codemirror_mode": {
    "name": "ipython",
    "version": 3
   },
   "file_extension": ".py",
   "mimetype": "text/x-python",
   "name": "python",
   "nbconvert_exporter": "python",
   "pygments_lexer": "ipython3",
   "version": "3.8.9"
  }
 },
 "nbformat": 4,
 "nbformat_minor": 5
}
