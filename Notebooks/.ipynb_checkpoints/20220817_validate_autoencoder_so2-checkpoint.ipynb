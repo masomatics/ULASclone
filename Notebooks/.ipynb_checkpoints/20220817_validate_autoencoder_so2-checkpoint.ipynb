{
 "cells": [
  {
   "cell_type": "code",
   "execution_count": 3,
   "id": "34e1b80f",
   "metadata": {},
   "outputs": [],
   "source": [
    "import os\n",
    "import sys\n",
    "sys.path.append('../')\n",
    "sys.path.append('../datasets')\n",
    "sys.path.append('../models')\n",
    "import torch\n",
    "import torchvision\n",
    "import torch.backends.cudnn as cudnn\n",
    "import random\n",
    "import numpy as np\n",
    "import matplotlib.pyplot as plt\n",
    "from torch.utils.data import DataLoader\n",
    "from importlib import reload\n",
    "from datasets.three_dim_shapes import ThreeDimShapesDataset\n",
    "from datasets.small_norb import SmallNORBDataset\n",
    "from datasets.seq_mnist import SequentialMNIST\n",
    "import models.seqae as seqae\n",
    "from sklearn.multioutput import MultiOutputRegressor\n",
    "from sklearn.linear_model import Ridge\n",
    "from datasets import so3_data as so3d\n",
    "from einops import rearrange\n",
    "from sklearn.metrics import r2_score\n",
    "import pdb\n",
    "from models.base_networks import MLP_iResNet, LinearNet, MLP\n",
    "\n",
    "\n",
    "\n",
    "\n",
    "import csv\n",
    "import ast\n",
    "from source import yaml_utils as yu\n",
    "\n",
    "\n",
    "from tqdm import tqdm\n",
    "\n",
    "if torch.cuda.is_available():\n",
    "    device = torch.device('cuda')\n",
    "    cudnn.deterministic = True\n",
    "    cudnn.benchmark = True\n",
    "else:\n",
    "    device = torch.device('cpu')\n",
    "    gpu_index = -1\n",
    "\n",
    "    \n",
    "    \n",
    "from utils import yaml_utils as yu\n",
    "import yaml\n",
    "result_dir = '/mnt/nfs-mnj-hot-01/tmp/masomatics/block_diag/result'\n",
    "\n",
    "rootpath = '/mnt/nfs-mnj-hot-01/tmp/masomatics/block_diag/'\n",
    "datpath = '/mnt/nfs-mnj-hot-01/tmp/masomatics/block_diag/datasets/so2'\n",
    "\n",
    "\n",
    "\n",
    "\n"
   ]
  },
  {
   "cell_type": "code",
   "execution_count": 4,
   "id": "2ca663c7",
   "metadata": {},
   "outputs": [
    {
     "data": {
      "text/plain": [
       "['so2dat_sphere_MLP_shared_trans.pt',\n",
       " 'so2dat_sphere_iResNet_shared_trans.pt',\n",
       " 'so2dat_sphere_iResNet_model.pt',\n",
       " 'so2dat_sphere_Linear.pt',\n",
       " 'so2dat_sphere_Linear_shared_trans.pt',\n",
       " 'so2dat_sphere_iResNet.pt',\n",
       " 'so2dat_sphere_MLP_model.pt',\n",
       " 'so2dat_sphere_Linear_model.pt',\n",
       " 'so2dat_sphere_MLP.pt']"
      ]
     },
     "execution_count": 4,
     "metadata": {},
     "output_type": "execute_result"
    }
   ],
   "source": [
    "os.listdir(datpath)"
   ]
  },
  {
   "cell_type": "code",
   "execution_count": 10,
   "id": "7b36da20",
   "metadata": {},
   "outputs": [
    {
     "data": {
      "text/plain": [
       "<All keys matched successfully>"
      ]
     },
     "execution_count": 10,
     "metadata": {},
     "output_type": "execute_result"
    }
   ],
   "source": [
    "embed_fxn_mode = 'Linear'\n",
    "modelmode = 'so2'\n",
    "num_blocks = 2\n",
    "tensor_dim = 10 \n",
    "\n",
    "modelpath = f\"\"\"{modelmode}dat_sphere_{embed_fxn_mode}_model.pt\"\"\"\n",
    "datapath = f\"\"\"{modelmode}dat_sphere_{embed_fxn_mode}.pt\"\"\"\n",
    "\n",
    "dataconfig = {'args': {'T': 8, 'data_filename': f\"\"\"{modelmode}dat_sphere_{embed_fxn_mode}.pt\"\"\", 'train': True,\n",
    "                      'datamode': 'so2'},\n",
    " 'fn': './datasets/so3_data.py',\n",
    " 'name': 'SO3rotationSequence'}\n",
    "\n",
    "modelconfig = {'args': {'ch_x': 1, 'dim_a': 6, 'dim_m': 10, 'k': 2.0, 'predictive': True},\n",
    " 'fn': './models/seqae.py',\n",
    " 'name': f\"\"\"SeqAELSTSQ_{modelmode}Net\"\"\"}\n",
    "\n",
    "data = yu.load_component(dataconfig)\n",
    "datafile = torch.load(os.path.join(datpath, datapath))\n",
    "\n",
    "\n",
    "\n",
    "if embed_fxn_mode == 'iResNet':\n",
    "    embed_fxn = MLP_iResNet(in_dim=3*num_blocks*tensor_dim)\n",
    "    inv_fxn = MLP_iResNet(in_dim=3*num_blocks*tensor_dim)\n",
    "\n",
    "elif embed_fxn_mode == 'Linear':\n",
    "    indim= 3 * num_blocks*tensor_dim\n",
    "    outdim = 3 * num_blocks*tensor_dim\n",
    "    embed_fxn = LinearNet(in_dim=indim, out_dim=outdim)\n",
    "    inv_fxn = LinearNet(in_dim=indim, out_dim=outdim)\n",
    "    mylr = 0.01\n",
    "\n",
    "elif embed_fxn_mode == 'MLP':\n",
    "    indim= 3 * num_blocks*tensor_dim\n",
    "    outdim = 3 * num_blocks*tensor_dim\n",
    "    embed_fxn = MLP(in_dim=indim, out_dim=outdim)\n",
    "    inv_fxn = MLP(in_dim=indim, out_dim=outdim)\n",
    "    mylr = 0.01\n",
    "    \n",
    "else:\n",
    "    raise NotImplementedError\n",
    "\n",
    "model_dict = torch.load(os.path.join(datpath, modelpath))\n",
    "embed_fxn.load_state_dict(model_dict, strict=False)\n",
    "\n",
    "\n",
    "\n",
    "\n",
    "\n",
    "\n",
    "\n"
   ]
  },
  {
   "cell_type": "code",
   "execution_count": 12,
   "id": "355a2411",
   "metadata": {},
   "outputs": [
    {
     "name": "stdout",
     "output_type": "stream",
     "text": [
      "torch.Size([10000, 15, 10, 6])\n",
      "torch.Size([150000, 60])\n",
      "torch.Size([150000, 60])\n"
     ]
    },
    {
     "data": {
      "image/png": "[encoded data removed]",
      "text/plain": [
       "<Figure size 432x288 with 1 Axes>"
      ]
     },
     "metadata": {
      "needs_background": "light"
     },
     "output_type": "display_data"
    }
   ],
   "source": [
    "latent = datafile['latent']\n",
    "print(latent.shape)\n",
    "latent_inform = rearrange(latent, 'n t a m -> (n t) (a m)')\n",
    "print(latent_inform.shape)\n",
    "\n",
    "dathat_inform = embed_fxn(latent_inform)\n",
    "datat = datafile['data']\n",
    "print(dathat_inform.shape)\n",
    "plt.imshow(dathat_inform[:30, :].detach())\n",
    "\n",
    "\n",
    "train_loader = DataLoader(latent_inform, \n",
    "                          batch_size=100,\n",
    "                          shuffle=True,\n",
    "                          num_workers=2)"
   ]
  },
  {
   "cell_type": "code",
   "execution_count": 15,
   "id": "a1c20b00",
   "metadata": {},
   "outputs": [
    {
     "name": "stdout",
     "output_type": "stream",
     "text": [
      "cuda:0\n",
      "cuda:0\n"
     ]
    },
    {
     "name": "stderr",
     "output_type": "stream",
     "text": [
      "100%|██████████| 1500/1500 [00:03<00:00, 441.39it/s]\n"
     ]
    },
    {
     "name": "stdout",
     "output_type": "stream",
     "text": [
      "Epoch 0 \t Loss \t 8.065289894739786 \n"
     ]
    },
    {
     "name": "stderr",
     "output_type": "stream",
     "text": [
      "100%|██████████| 1500/1500 [00:03<00:00, 488.66it/s]\n"
     ]
    },
    {
     "name": "stdout",
     "output_type": "stream",
     "text": [
      "Epoch 1 \t Loss \t 7.139920648574829 \n"
     ]
    },
    {
     "name": "stderr",
     "output_type": "stream",
     "text": [
      "100%|██████████| 1500/1500 [00:03<00:00, 465.67it/s]\n"
     ]
    },
    {
     "name": "stdout",
     "output_type": "stream",
     "text": [
      "Epoch 2 \t Loss \t 6.349433403809865 \n"
     ]
    },
    {
     "name": "stderr",
     "output_type": "stream",
     "text": [
      "100%|██████████| 1500/1500 [00:03<00:00, 428.35it/s]\n"
     ]
    },
    {
     "name": "stdout",
     "output_type": "stream",
     "text": [
      "Epoch 3 \t Loss \t 5.640107336362203 \n"
     ]
    },
    {
     "name": "stderr",
     "output_type": "stream",
     "text": [
      "100%|██████████| 1500/1500 [00:03<00:00, 493.57it/s]\n"
     ]
    },
    {
     "name": "stdout",
     "output_type": "stream",
     "text": [
      "Epoch 4 \t Loss \t 4.960430365085601 \n"
     ]
    },
    {
     "name": "stderr",
     "output_type": "stream",
     "text": [
      "100%|██████████| 1500/1500 [00:02<00:00, 505.88it/s]\n"
     ]
    },
    {
     "name": "stdout",
     "output_type": "stream",
     "text": [
      "Epoch 5 \t Loss \t 4.414489030996958 \n"
     ]
    },
    {
     "name": "stderr",
     "output_type": "stream",
     "text": [
      "100%|██████████| 1500/1500 [00:03<00:00, 459.04it/s]\n"
     ]
    },
    {
     "name": "stdout",
     "output_type": "stream",
     "text": [
      "Epoch 6 \t Loss \t 3.9050666910807292 \n"
     ]
    },
    {
     "name": "stderr",
     "output_type": "stream",
     "text": [
      "100%|██████████| 1500/1500 [00:03<00:00, 417.50it/s]\n"
     ]
    },
    {
     "name": "stdout",
     "output_type": "stream",
     "text": [
      "Epoch 7 \t Loss \t 3.42261665948232 \n"
     ]
    },
    {
     "name": "stderr",
     "output_type": "stream",
     "text": [
      "100%|██████████| 1500/1500 [00:03<00:00, 494.63it/s]\n"
     ]
    },
    {
     "name": "stdout",
     "output_type": "stream",
     "text": [
      "Epoch 8 \t Loss \t 2.983998068968455 \n"
     ]
    },
    {
     "name": "stderr",
     "output_type": "stream",
     "text": [
      "100%|██████████| 1500/1500 [00:03<00:00, 435.79it/s]"
     ]
    },
    {
     "name": "stdout",
     "output_type": "stream",
     "text": [
      "Epoch 9 \t Loss \t 2.651723285675049 \n"
     ]
    },
    {
     "name": "stderr",
     "output_type": "stream",
     "text": [
      "\n"
     ]
    }
   ],
   "source": [
    "device = 0\n",
    "mylr = 0.01\n",
    "optimizer = torch.optim.Adam(inv_fxn.parameters(), lr=mylr)\n",
    "\n",
    "num_epoch = 10\n",
    "num_iter = 1000\n",
    "iternow = 0 \n",
    "inv_fxn.to(device)\n",
    "embed_fxn.to(device)\n",
    "\n",
    "print(next(inv_fxn.parameters()).device)\n",
    "print(next(embed_fxn.parameters()).device)\n",
    "\n",
    "for epoch in range(num_epoch):\n",
    "    \n",
    "    loss_total = 0\n",
    "    for lat_batch in tqdm(train_loader):\n",
    "        lat_batch = lat_batch.to(device)\n",
    "        loss = torch.sum( (lat_batch - inv_fxn(embed_fxn(lat_batch)))**2)\n",
    "        optimizer.zero_grad()\n",
    "        loss.backward()\n",
    "        optimizer.step()\n",
    "        loss_total = loss_total + loss.item()\n",
    "    loss_mean = loss_total / len(train_loader)\n",
    "    print(f\"\"\"Epoch {epoch} \\t Loss \\t {loss_mean} \"\"\" )\n",
    "\n",
    "\n"
   ]
  },
  {
   "cell_type": "code",
   "execution_count": 16,
   "id": "fde9a303",
   "metadata": {},
   "outputs": [
    {
     "name": "stdout",
     "output_type": "stream",
     "text": [
      "/mnt/nfs-mnj-hot-01/tmp/masomatics/block_diag/datasets/so2/so2dat_sphere_Linear_model_invhat.pt\n"
     ]
    },
    {
     "name": "stderr",
     "output_type": "stream",
     "text": [
      "/usr/local/lib/python3.8/site-packages/torch/nn/modules/lazy.py:178: UserWarning: Lazy modules are a new feature under heavy development so changes to the API or functionality can happen at any moment.\n",
      "  warnings.warn('Lazy modules are a new feature under heavy development '\n"
     ]
    }
   ],
   "source": [
    "invname = modelpath.split('.')[0] + '_invhat.pt'\n",
    "invpath = os.path.join(datpath, invname)\n",
    "#torch.save(inv_fxn.state_dict(), invpath)\n",
    "print(invpath)\n",
    "\n",
    "from models  import seqae as sa\n",
    "reload(sa)\n",
    "checkmodel = sa.SeqAELSTSQ_LinearNet(dim_a=6,  dim_m=10)\n",
    "checkmodel.enc = inv_fxn\n",
    "checkmodel.dec = embed_fxn"
   ]
  },
  {
   "cell_type": "code",
   "execution_count": 18,
   "id": "34d23afd",
   "metadata": {},
   "outputs": [
    {
     "name": "stdout",
     "output_type": "stream",
     "text": [
      "torch.Size([2, 15, 10, 6])\n",
      "torch.Size([30, 60])\n",
      "torch.Size([2, 15, 60])\n",
      "torch.Size([2, 15, 60])\n"
     ]
    },
    {
     "data": {
      "text/plain": [
       "tensor([[[True, True, True,  ..., True, True, True],\n",
       "         [True, True, True,  ..., True, True, True],\n",
       "         [True, True, True,  ..., True, True, True],\n",
       "         ...,\n",
       "         [True, True, True,  ..., True, True, True],\n",
       "         [True, True, True,  ..., True, True, True],\n",
       "         [True, True, True,  ..., True, True, True]],\n",
       "\n",
       "        [[True, True, True,  ..., True, True, True],\n",
       "         [True, True, True,  ..., True, True, True],\n",
       "         [True, True, True,  ..., True, True, True],\n",
       "         ...,\n",
       "         [True, True, True,  ..., True, True, True],\n",
       "         [True, True, True,  ..., True, True, True],\n",
       "         [True, True, True,  ..., True, True, True]]])"
      ]
     },
     "execution_count": 18,
     "metadata": {},
     "output_type": "execute_result"
    }
   ],
   "source": [
    "\n",
    "\n",
    "n=2\n",
    "t =15 \n",
    "latent_b = latent[:n].to('cpu')\n",
    "print(latent_b.shape)\n",
    "embed_fxn.to('cpu')\n",
    "latent_b_input = rearrange(latent_b, 'n t m a -> (n t) (m a)' )\n",
    "dat_b = embed_fxn(latent_b_input).detach()\n",
    "print(dat_b.shape)\n",
    "dat_b = torch.reshape(dat_b,  (n ,t , *dat_b.shape[1:]))\n",
    "print(dat_b.shape)\n",
    "\n",
    "dat_bhat = checkmodel.decode(latent_b)\n",
    "print(dat_bhat.shape)\n",
    "\n",
    "dat_bhat == dat_b"
   ]
  },
  {
   "cell_type": "markdown",
   "id": "af022692",
   "metadata": {},
   "source": [
    "# Matching the M Learning  : this is the sanity check that the model with the true encoder and decoder can retrieve the correct M "
   ]
  },
  {
   "cell_type": "code",
   "execution_count": 19,
   "id": "ed58fcd0",
   "metadata": {},
   "outputs": [
    {
     "data": {
      "text/plain": [
       "{'args': {'T': 8,\n",
       "  'data_filename': 'so2dat_sphere_Linear.pt',\n",
       "  'train': True,\n",
       "  'datamode': 'so2'},\n",
       " 'fn': './datasets/so3_data.py',\n",
       " 'name': 'SO3rotationSequence'}"
      ]
     },
     "execution_count": 19,
     "metadata": {},
     "output_type": "execute_result"
    }
   ],
   "source": [
    "dataconfig"
   ]
  },
  {
   "cell_type": "code",
   "execution_count": 20,
   "id": "67f4065e",
   "metadata": {},
   "outputs": [
    {
     "name": "stderr",
     "output_type": "stream",
     "text": [
      "100%|██████████| 100/100 [00:00<00:00, 122.38it/s]\n"
     ]
    }
   ],
   "source": [
    "tp = 3\n",
    "n_cond = 5\n",
    "\n",
    "\n",
    "    \n",
    "Mlist = [] \n",
    "\n",
    "dataconfig['args']['T'] = tp + n_cond\n",
    "\n",
    "data = yu.load_component(dataconfig)\n",
    "train_loader = DataLoader(data, \n",
    "                      batch_size=100,\n",
    "                      shuffle=True,\n",
    "                      num_workers=2)\n",
    "\n",
    "model = checkmodel.eval().to(device)\n",
    "\n",
    "\n",
    "with torch.no_grad():\n",
    "    scores = [] \n",
    "    for images in tqdm(train_loader):\n",
    "        images = images.to(device)\n",
    "        images_cond = images[:, :n_cond]\n",
    "        images_target = images[:, n_cond:n_cond+tp]\n",
    "        M = model.get_M(images_cond) #n a a\n",
    "        H = model.encode(images_cond[:, -1:])[:, 0] # n s a\n",
    "        \n",
    "        xs = []\n",
    "        for r in range(tp):\n",
    "            H = H @ M \n",
    "            x_next_t = model.decode(H[:, None])\n",
    "            xs.append(x_next_t)\n",
    "\n",
    "        x_next = torch.cat(xs, axis=1)\n",
    "        r2_losses = [] \n",
    "        for k in range(tp):\n",
    "            r2_loss_t = r2_score(images_target[:,k].to('cpu').numpy(), x_next[:,k].to('cpu').numpy()) \n",
    "            r2_losses.append(r2_loss_t)\n",
    "        scores.append(torch.tensor(r2_losses))\n",
    "        Mlist.append(M.to('cpu').detach())\n",
    "\n",
    "\n",
    "Mlist = torch.cat(Mlist)       \n",
    "scores = torch.stack(scores)\n",
    "av_score = torch.mean(scores, axis=0)\n",
    "av_var = torch.var(scores, axis=0)\n",
    "results_true_est = [av_score, av_var]\n",
    "\n",
    "\n",
    "    "
   ]
  },
  {
   "cell_type": "code",
   "execution_count": 21,
   "id": "e3436caf",
   "metadata": {},
   "outputs": [
    {
     "data": {
      "text/plain": [
       "[tensor([0.9993, 0.9988, 0.9985], dtype=torch.float64),\n",
       " tensor([4.3705e-09, 1.7383e-08, 2.6277e-08], dtype=torch.float64)]"
      ]
     },
     "execution_count": 21,
     "metadata": {},
     "output_type": "execute_result"
    }
   ],
   "source": [
    "results_true_est"
   ]
  },
  {
   "cell_type": "code",
   "execution_count": 22,
   "id": "6c474c25",
   "metadata": {},
   "outputs": [
    {
     "data": {
      "text/plain": [
       "<matplotlib.image.AxesImage at 0x7fb33dca49a0>"
      ]
     },
     "execution_count": 22,
     "metadata": {},
     "output_type": "execute_result"
    },
    {
     "data": {
      "image/png": "[encoded data removed]",
      "text/plain": [
       "<Figure size 432x288 with 1 Axes>"
      ]
     },
     "metadata": {
      "needs_background": "light"
     },
     "output_type": "display_data"
    }
   ],
   "source": [
    "checkidx = 8\n",
    "plt.imshow(Mlist[checkidx].detach())"
   ]
  },
  {
   "cell_type": "code",
   "execution_count": null,
   "id": "647f673b",
   "metadata": {},
   "outputs": [],
   "source": []
  }
 ],
 "metadata": {
  "kernelspec": {
   "display_name": "Python 3 (ipykernel)",
   "language": "python",
   "name": "python3"
  },
  "language_info": {
   "codemirror_mode": {
    "name": "ipython",
    "version": 3
   },
   "file_extension": ".py",
   "mimetype": "text/x-python",
   "name": "python",
   "nbconvert_exporter": "python",
   "pygments_lexer": "ipython3",
   "version": "3.8.9"
  }
 },
 "nbformat": 4,
 "nbformat_minor": 5
}
