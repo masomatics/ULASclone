{
 "cells": [
  {
   "cell_type": "code",
   "execution_count": 111,
   "id": "0c606cd9",
   "metadata": {},
   "outputs": [],
   "source": [
    "import numpy  as np\n",
    "import os\n",
    "import pdb\n",
    "from utils import notebook_utils as nu\n",
    "result_dir = '/mnt/nfs-mnj-hot-01/tmp/masomatics/block_diag/result'\n",
    "\n",
    "\n",
    "def not_max(resultpath):\n",
    "    iterlist =  nu.iter_list(resultpath)\n",
    "    dirlist = os.listdir(resultpath)\n",
    "    if len(iterlist) > 0:\n",
    "        mymax = np.max(np.array(iterlist))\n",
    "        notmax_list = [] \n",
    "        for mydir in dirlist:\n",
    "            if 'iter' in mydir and 'tmp' not in mydir:\n",
    "                iternum = int(mydir.split('_')[-1])\n",
    "                if iternum != mymax:\n",
    "                    notmax_list.append(mydir)\n",
    "    else:\n",
    "        notmax_list = []\n",
    "    return notmax_list\n",
    "def snapshot_is_in(dirlist):\n",
    "    answer = False\n",
    "    for ff in dirlist:\n",
    "        if 'snapshot' in ff:\n",
    "            answer = True\n",
    "    return answer\n",
    "\n",
    "def remove_not_max(resultpath):\n",
    "    models_in_dir = os.listdir(resultpath)\n",
    "    not_max_results = not_max(resultpath)\n",
    "    not_max_modelpath_in_dir = [os.path.join(resultpath, result) for result in not_max_results]\n",
    "    for path in not_max_modelpath_in_dir:\n",
    "        os.remove(path)\n",
    "    print(models_in_dir)"
   ]
  },
  {
   "cell_type": "code",
   "execution_count": 112,
   "id": "dde7d72f",
   "metadata": {},
   "outputs": [],
   "source": [
    "alldirs = os.listdir(result_dir)\n",
    "alldir_path = [os.path.join(result_dir, mydir) for mydir in alldirs]"
   ]
  },
  {
   "cell_type": "code",
   "execution_count": null,
   "id": "6238b84a",
   "metadata": {},
   "outputs": [
    {
     "name": "stdout",
     "output_type": "stream",
     "text": [
      "['snapshot_model_iter_100000', 'snapshot_manager_iter_100000', 'config.yml', 'log']\n",
      "['snapshot_manager_iter_100000', 'log', 'config.yml', 'snapshot_model_iter_100000']\n",
      "['snapshot_model_iter_100000', 'snapshot_manager_iter_100000', 'log', 'config.yml']\n",
      "['config.yml', 'snapshot_manager_iter_100000', 'log', 'snapshot_model_iter_100000']\n",
      "['log', 'snapshot_manager_iter_150000', 'config.yml', 'snapshot_model_iter_150000']\n",
      "['log', 'snapshot_model_iter_150000', 'config.yml', 'snapshot_manager_iter_150000']\n",
      "['snapshot_model_iter_150000', 'snapshot_manager_iter_150000', 'log', 'config.yml']\n",
      "['snapshot_model_iter_150000', 'snapshot_manager_iter_150000', 'log', 'config.yml']\n",
      "['config.yml', 'snapshot_manager_iter_150000', 'log', 'snapshot_model_iter_150000']\n",
      "['snapshot_model_iter_100000', 'config.yml', 'snapshot_manager_iter_100000', 'log']\n",
      "['snapshot_model_iter_100000', 'log', 'config.yml', 'snapshot_manager_iter_100000']\n",
      "['log', 'snapshot_manager_iter_100000', 'snapshot_model_iter_100000', 'config.yml']\n",
      "['snapshot_manager_iter_150000', 'log', 'snapshot_model_iter_150000', 'config.yml']\n",
      "['config.yml', 'snapshot_model_iter_150000', 'log', 'snapshot_manager_iter_150000']\n",
      "['log', 'snapshot_manager_iter_150000', 'config.yml', 'snapshot_model_iter_150000']\n",
      "['config.yml', 'snapshot_manager_iter_100000', 'log', 'snapshot_model_iter_100000']\n",
      "['snapshot_manager_iter_100000', 'config.yml', 'log', 'snapshot_model_iter_100000']\n",
      "['log', 'snapshot_manager_iter_100000', 'snapshot_model_iter_100000', 'config.yml']\n",
      "> \u001b[0;32m/tmp/ipykernel_58/162989033.py\u001b[0m(16)\u001b[0;36mnot_max\u001b[0;34m()\u001b[0m\n",
      "\u001b[0;32m     14 \u001b[0;31m        \u001b[0;32mexcept\u001b[0m\u001b[0;34m:\u001b[0m\u001b[0;34m\u001b[0m\u001b[0;34m\u001b[0m\u001b[0m\n",
      "\u001b[0m\u001b[0;32m     15 \u001b[0;31m            \u001b[0mpdb\u001b[0m\u001b[0;34m.\u001b[0m\u001b[0mset_trace\u001b[0m\u001b[0;34m(\u001b[0m\u001b[0;34m)\u001b[0m\u001b[0;34m\u001b[0m\u001b[0;34m\u001b[0m\u001b[0m\n",
      "\u001b[0m\u001b[0;32m---> 16 \u001b[0;31m        \u001b[0mnotmax_list\u001b[0m \u001b[0;34m=\u001b[0m \u001b[0;34m[\u001b[0m\u001b[0;34m]\u001b[0m\u001b[0;34m\u001b[0m\u001b[0;34m\u001b[0m\u001b[0m\n",
      "\u001b[0m\u001b[0;32m     17 \u001b[0;31m        \u001b[0;32mfor\u001b[0m \u001b[0mmydir\u001b[0m \u001b[0;32min\u001b[0m \u001b[0mdirlist\u001b[0m\u001b[0;34m:\u001b[0m\u001b[0;34m\u001b[0m\u001b[0;34m\u001b[0m\u001b[0m\n",
      "\u001b[0m\u001b[0;32m     18 \u001b[0;31m            \u001b[0;32mif\u001b[0m \u001b[0;34m'iter'\u001b[0m \u001b[0;32min\u001b[0m \u001b[0mmydir\u001b[0m \u001b[0;32mand\u001b[0m \u001b[0;34m'tmp'\u001b[0m \u001b[0;32mnot\u001b[0m \u001b[0;32min\u001b[0m \u001b[0mmydir\u001b[0m\u001b[0;34m:\u001b[0m\u001b[0;34m\u001b[0m\u001b[0;34m\u001b[0m\u001b[0m\n",
      "\u001b[0m\n",
      "ipdb> iterlist\n",
      "array([], dtype=float64)\n",
      "ipdb> len(iterlist)\n",
      "0\n"
     ]
    }
   ],
   "source": [
    "for diridx in range(len(alldir_path)):\n",
    "    dirpath = alldir_path[diridx]\n",
    "    results_in_dir = os.listdir(dirpath)\n",
    "    if snapshot_is_in(results_in_dir):\n",
    "        resultpath = dirpath\n",
    "        remove_not_max(resultpath)\n",
    "    else:\n",
    "        resultpath_in_dir  = [os.path.join(dirpath, mydir) for mydir in results_in_dir ]\n",
    "        #modelidx = 1\n",
    "        for modelidx in range(len(resultpath_in_dir)):\n",
    "            resultpath = resultpath_in_dir[modelidx]\n",
    "            if 'config' in resultpath or 'log' in resultpath:\n",
    "                pass\n",
    "            else:\n",
    "                remove_not_max(resultpath)\n",
    "    # models_in_dir = os.listdir(resultpath)\n",
    "    # not_max_results = not_max(resultpath)\n",
    "    # not_max_modelpath_in_dir = [os.path.join(resultpath, result) for result in not_max_results]\n",
    "    # for path in not_max_modelpath_in_dir:\n",
    "    #     os.remove(path)\n",
    "not_max_modelpath_in_dir"
   ]
  },
  {
   "cell_type": "code",
   "execution_count": 98,
   "id": "ba9ba059",
   "metadata": {},
   "outputs": [
    {
     "data": {
      "text/plain": [
       "False"
      ]
     },
     "execution_count": 98,
     "metadata": {},
     "output_type": "execute_result"
    }
   ],
   "source": [
    "snapshot_is_in(results_in_dir)"
   ]
  },
  {
   "cell_type": "code",
   "execution_count": 99,
   "id": "eeae8a44",
   "metadata": {},
   "outputs": [
    {
     "data": {
      "text/plain": [
       "['log',\n",
       " 'snapshot_manager_iter_100000',\n",
       " 'snapshot_model_iter_100000',\n",
       " 'config.yml']"
      ]
     },
     "execution_count": 99,
     "metadata": {},
     "output_type": "execute_result"
    }
   ],
   "source": [
    "results_in_dir"
   ]
  },
  {
   "cell_type": "code",
   "execution_count": 100,
   "id": "b1687f46",
   "metadata": {},
   "outputs": [
    {
     "data": {
      "text/plain": [
       "['log',\n",
       " 'snapshot_manager_iter_100000',\n",
       " 'snapshot_model_iter_100000',\n",
       " 'config.yml']"
      ]
     },
     "execution_count": 100,
     "metadata": {},
     "output_type": "execute_result"
    }
   ],
   "source": [
    "os.listdir('/mnt/nfs-mnj-hot-01/tmp/masomatics/block_diag/result/20220624_Mstar_longer_tp_neuralM_comm')"
   ]
  },
  {
   "cell_type": "code",
   "execution_count": null,
   "id": "b52729a3",
   "metadata": {},
   "outputs": [],
   "source": []
  }
 ],
 "metadata": {
  "kernelspec": {
   "display_name": "Python 3 (ipykernel)",
   "language": "python",
   "name": "python3"
  },
  "language_info": {
   "codemirror_mode": {
    "name": "ipython",
    "version": 3
   },
   "file_extension": ".py",
   "mimetype": "text/x-python",
   "name": "python",
   "nbconvert_exporter": "python",
   "pygments_lexer": "ipython3",
   "version": "3.8.9"
  }
 },
 "nbformat": 4,
 "nbformat_minor": 5
}
