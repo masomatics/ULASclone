{
 "cells": [
  {
   "cell_type": "code",
   "execution_count": 1,
   "id": "3873443f",
   "metadata": {},
   "outputs": [
    {
     "data": {
      "text/plain": [
       "2"
      ]
     },
     "execution_count": 1,
     "metadata": {},
     "output_type": "execute_result"
    }
   ],
   "source": [
    "1+1"
   ]
  },
  {
   "cell_type": "code",
   "execution_count": 2,
   "id": "bcfb3d24",
   "metadata": {},
   "outputs": [],
   "source": [
    "import os\n",
    "import sys\n",
    "sys.path.append('../')\n",
    "sys.path.append('../datasets')\n",
    "sys.path.append('../models')\n",
    "import torch\n",
    "import torchvision\n",
    "import torch.backends.cudnn as cudnn\n",
    "import random\n",
    "import numpy as np\n",
    "import matplotlib.pyplot as plt\n",
    "from torch.utils.data import DataLoader\n",
    "from importlib import reload\n",
    "from datasets.three_dim_shapes import ThreeDimShapesDataset\n",
    "from datasets.small_norb import SmallNORBDataset\n",
    "from datasets.seq_mnist import SequentialMNIST\n",
    "from datasets.seq_mnist import SequentialMNIST_double\n",
    "from datasets import seq_mnist as sm\n",
    "\n",
    "import models.seqae as seqae\n",
    "import models.base_networks as bn \n",
    "from models import misc_mnet as mnet\n",
    "\n",
    "import models\n",
    "from sklearn.multioutput import MultiOutputRegressor\n",
    "from sklearn.linear_model import Ridge\n",
    "from einops import rearrange\n",
    "from sklearn.metrics import r2_score\n",
    "import pdb\n",
    "from einops import rearrange\n",
    "from utils import notebook_utils as nb\n",
    "from utils import evaluations as ev\n",
    "from utils import notebook_utils as nu\n",
    "\n",
    "\n",
    "\n",
    "import copy\n",
    "\n",
    "import csv\n",
    "import ast\n",
    "from source import yaml_utils as yu"
   ]
  },
  {
   "cell_type": "code",
   "execution_count": 3,
   "id": "21625411",
   "metadata": {},
   "outputs": [
    {
     "name": "stderr",
     "output_type": "stream",
     "text": [
      "/usr/local/lib/python3.8/site-packages/torchvision/datasets/mnist.py:498: UserWarning: The given NumPy array is not writeable, and PyTorch does not support non-writeable tensors. This means you can write to the underlying (supposedly non-writeable) NumPy array using the tensor. You may want to copy the array to protect its data or make it writeable before converting it to a tensor. This type of warning will be suppressed for the rest of this program. (Triggered internally at  /pytorch/torch/csrc/utils/tensor_numpy.cpp:180.)\n",
      "  return torch.from_numpy(parsed.astype(m[2], copy=False)).view(*s)\n"
     ]
    }
   ],
   "source": [
    "targdir_path = '/mnt/nfs-mnj-hot-01/tmp/masomatics/block_diag/result/20221223_glasso_0/detach0_modeglasso'\n",
    "tp=10\n",
    "\n",
    "Mlist = []\n",
    "config = nu.load_config(targdir_path)\n",
    "logs = nu.read_log(targdir_path)\n",
    "\n",
    "training_loss = [logs[k]['train/loss'] for k in range(len(logs))]\n",
    "dataconfig = config['train_data']\n",
    "dataconfig['args']['T'] = config['T_cond'] + tp\n",
    "\n",
    "data = yu.load_component(dataconfig)\n",
    "\n",
    "\n",
    "train_loader = DataLoader(data, batch_size=config['batchsize'], shuffle=True, num_workers=config['num_workers'])"
   ]
  },
  {
   "cell_type": "code",
   "execution_count": 4,
   "id": "56540d74",
   "metadata": {},
   "outputs": [
    {
     "name": "stderr",
     "output_type": "stream",
     "text": [
      "/usr/local/lib/python3.8/site-packages/torch/nn/modules/lazy.py:178: UserWarning: Lazy modules are a new feature under heavy development so changes to the API or functionality can happen at any moment.\n",
      "  warnings.warn('Lazy modules are a new feature under heavy development '\n"
     ]
    },
    {
     "name": "stdout",
     "output_type": "stream",
     "text": [
      "/mnt/nfs-mnj-hot-01/tmp/masomatics/block_diag/result/20221223_glasso_0/detach0_modeglasso \n",
      " snapshot_model_iter_100000\n"
     ]
    },
    {
     "ename": "NameError",
     "evalue": "name 'device' is not defined",
     "output_type": "error",
     "traceback": [
      "\u001b[0;31m---------------------------------------------------------------------------\u001b[0m",
      "\u001b[0;31mNameError\u001b[0m                                 Traceback (most recent call last)",
      "\u001b[0;32m/tmp/ipykernel_2625/2136949485.py\u001b[0m in \u001b[0;36m<module>\u001b[0;34m\u001b[0m\n\u001b[1;32m      4\u001b[0m \u001b[0mmaxiter\u001b[0m \u001b[0;34m=\u001b[0m \u001b[0mnp\u001b[0m\u001b[0;34m.\u001b[0m\u001b[0mmax\u001b[0m\u001b[0;34m(\u001b[0m\u001b[0mnu\u001b[0m\u001b[0;34m.\u001b[0m\u001b[0miter_list\u001b[0m\u001b[0;34m(\u001b[0m\u001b[0mtargdir_path\u001b[0m\u001b[0;34m)\u001b[0m\u001b[0;34m)\u001b[0m\u001b[0;34m\u001b[0m\u001b[0;34m\u001b[0m\u001b[0m\n\u001b[1;32m      5\u001b[0m \u001b[0mnu\u001b[0m\u001b[0;34m.\u001b[0m\u001b[0mload_model\u001b[0m\u001b[0;34m(\u001b[0m\u001b[0mmodel\u001b[0m\u001b[0;34m,\u001b[0m \u001b[0mtargdir_path\u001b[0m\u001b[0;34m,\u001b[0m \u001b[0mmaxiter\u001b[0m\u001b[0;34m)\u001b[0m\u001b[0;34m\u001b[0m\u001b[0;34m\u001b[0m\u001b[0m\n\u001b[0;32m----> 6\u001b[0;31m \u001b[0mmodel\u001b[0m\u001b[0;34m.\u001b[0m\u001b[0mto\u001b[0m\u001b[0;34m(\u001b[0m\u001b[0mdevice\u001b[0m\u001b[0;34m)\u001b[0m\u001b[0;34m\u001b[0m\u001b[0;34m\u001b[0m\u001b[0m\n\u001b[0m\u001b[1;32m      7\u001b[0m \u001b[0mdevice\u001b[0m\u001b[0;34m=\u001b[0m\u001b[0;36m1\u001b[0m\u001b[0;34m\u001b[0m\u001b[0;34m\u001b[0m\u001b[0m\n",
      "\u001b[0;31mNameError\u001b[0m: name 'device' is not defined"
     ]
    }
   ],
   "source": [
    "model_config = config['model']\n",
    "model = yu.load_component(model_config)\n",
    "iterlist = nu.iter_list(targdir_path)\n",
    "maxiter = np.max(nu.iter_list(targdir_path))\n",
    "nu.load_model(model, targdir_path, maxiter)\n",
    "device=0\n",
    "\n",
    "\n",
    "model.to(device)\n"
   ]
  },
  {
   "cell_type": "code",
   "execution_count": 222,
   "id": "f47b924e",
   "metadata": {},
   "outputs": [],
   "source": [
    "images = iter(train_loader).next()\n",
    "#model.train()\n",
    "model.eval().to(device)\n",
    "\n",
    "\n",
    "if type(images) == list:\n",
    "    images = torch.stack(images)\n",
    "    images = images.transpose(1, 0)\n",
    "images = images.to(device)"
   ]
  },
  {
   "cell_type": "code",
   "execution_count": 223,
   "id": "f076cb85",
   "metadata": {},
   "outputs": [
    {
     "data": {
      "text/plain": [
       "torch.Size([32, 12, 3, 32, 32])"
      ]
     },
     "execution_count": 223,
     "metadata": {},
     "output_type": "execute_result"
    }
   ],
   "source": [
    "images.shape"
   ]
  },
  {
   "cell_type": "code",
   "execution_count": 224,
   "id": "d7360170",
   "metadata": {},
   "outputs": [],
   "source": [
    "reconst = False\n",
    "regconfig = config['reg']\n",
    "loss,  loss_dict = model.loss(images,  T_cond=config['T_cond'], return_reg_loss=True, reconst=reconst, regconfig=regconfig)"
   ]
  },
  {
   "cell_type": "code",
   "execution_count": 225,
   "id": "d1cb32db",
   "metadata": {},
   "outputs": [
    {
     "data": {
      "text/plain": [
       "tensor(9.5836, device='cuda:1', grad_fn=<MeanBackward0>)"
      ]
     },
     "execution_count": 225,
     "metadata": {},
     "output_type": "execute_result"
    }
   ],
   "source": [
    "loss"
   ]
  },
  {
   "cell_type": "code",
   "execution_count": 226,
   "id": "0affb76a",
   "metadata": {},
   "outputs": [
    {
     "data": {
      "text/plain": [
       "seqae.SeqAELSTSQ_inner"
      ]
     },
     "execution_count": 226,
     "metadata": {},
     "output_type": "execute_result"
    }
   ],
   "source": [
    "type(model)"
   ]
  },
  {
   "cell_type": "code",
   "execution_count": 227,
   "id": "69f8bc0d",
   "metadata": {},
   "outputs": [],
   "source": [
    "T_cond = config['T_cond']\n",
    "xs = images\n",
    "return_reg_loss = False\n",
    "xs_cond = xs[:, :T_cond]\n",
    "xs_pred = model(xs_cond, return_reg_loss=return_reg_loss,\n",
    "                       n_rolls=xs.shape[1] - T_cond, reconst=reconst, regconfig=regconfig)\n",
    "xs_pred = torch.sigmoid(xs_pred)\n",
    "xs_target = xs[:, T_cond:]\n",
    "check_idx = 0\n",
    "time=0"
   ]
  },
  {
   "cell_type": "code",
   "execution_count": 228,
   "id": "3a3be8e9",
   "metadata": {},
   "outputs": [
    {
     "name": "stdout",
     "output_type": "stream",
     "text": [
      "tensor(9.5836, device='cuda:1', grad_fn=<MeanBackward0>)\n"
     ]
    },
    {
     "data": {
      "image/png": "[encoded data removed]",
      "text/plain": [
       "<Figure size 1440x1440 with 10 Axes>"
      ]
     },
     "metadata": {
      "needs_background": "light"
     },
     "output_type": "display_data"
    },
    {
     "data": {
      "image/png": "[encoded data removed]",
      "text/plain": [
       "<Figure size 1440x1440 with 10 Axes>"
      ]
     },
     "metadata": {
      "needs_background": "light"
     },
     "output_type": "display_data"
    }
   ],
   "source": [
    "mysize= (20,20)\n",
    "plt.figure(figsize=mysize)\n",
    "\n",
    "\n",
    "for time in range(tp):\n",
    "    plt.subplot(1, tp, time+1)\n",
    "    plt.imshow(xs_pred[check_idx][time].permute([1,2,0]).to('cpu').detach()) \n",
    "plt.title('prediction')\n",
    "\n",
    "plt.figure(figsize=mysize)\n",
    "for time in range(tp):\n",
    "    plt.subplot(1, tp, time+1)\n",
    "    plt.imshow(xs_target[check_idx][time].permute([1,2,0]).to('cpu').detach())\n",
    "plt.title('ground_truth')\n",
    "\n",
    "\n",
    "    \n",
    "loss = torch.mean(torch.sum((xs_target - xs_pred) ** 2, axis=[2, 3, 4]))\n",
    "print(loss)"
   ]
  },
  {
   "cell_type": "code",
   "execution_count": 229,
   "id": "bd55df9a",
   "metadata": {},
   "outputs": [
    {
     "name": "stderr",
     "output_type": "stream",
     "text": [
      "100%|██████████| 183/183 [00:19<00:00,  9.63it/s]\n"
     ]
    }
   ],
   "source": [
    "from tqdm import tqdm\n",
    "predictive=True\n",
    "n_cond = T_cond\n",
    "reconstructive = False\n",
    "predictive = False\n",
    "\n",
    "Mlist = []\n",
    "with torch.no_grad():\n",
    "    l2scores = []\n",
    "    for images in tqdm(train_loader):\n",
    "        if type(images) == list:\n",
    "            images = torch.stack(images)\n",
    "            images = images.transpose(1, 0)\n",
    "        # n t c w h\n",
    "        images = images.to(device)\n",
    "        if predictive == True or reconstructive == True:\n",
    "            images_target = images\n",
    "        else:\n",
    "            images_target = images[:, n_cond:n_cond + tp]\n",
    "        x_next, M = ev.predict(images, model, n_cond=n_cond,\n",
    "                               tp=tp, device=device,\n",
    "                               predictive=predictive,\n",
    "                               reconstructive=reconstructive)\n",
    "        l2_losses = torch.sum(\n",
    "            (images_target.to('cpu') - x_next.to('cpu')) ** 2,\n",
    "            axis=[-1, -2, -3])\n",
    "        l2scores.append(l2_losses)\n",
    "\n",
    "        Mlist.append(M.detach().to('cpu'))\n",
    "\n",
    "    Mlist = torch.cat(Mlist)\n",
    "\n",
    "l2scores = torch.cat(l2scores)\n",
    "av_l2 = torch.mean(l2scores, axis=0)\n",
    "av_l2var = torch.std(l2scores, axis=0)"
   ]
  },
  {
   "cell_type": "code",
   "execution_count": 230,
   "id": "480d5466",
   "metadata": {},
   "outputs": [
    {
     "data": {
      "text/plain": [
       "tensor([[ 0.7864,  1.9662,  4.1144,  ..., 21.4259, 19.2945, 21.5861],\n",
       "        [ 0.8253,  2.7288,  7.1442,  ..., 21.1658, 18.8106, 17.0817],\n",
       "        [ 0.6408,  1.5423,  4.7080,  ..., 24.9038, 16.2002, 15.8558],\n",
       "        ...,\n",
       "        [ 0.6393,  0.9094,  1.5266,  ..., 10.7423,  9.5860,  9.2957],\n",
       "        [ 0.8658,  3.6612,  5.6124,  ..., 23.6373, 17.9669, 13.1867],\n",
       "        [ 1.1717,  1.6529,  3.3178,  ..., 10.3260, 11.2107, 12.5189]])"
      ]
     },
     "execution_count": 230,
     "metadata": {},
     "output_type": "execute_result"
    }
   ],
   "source": [
    "l2scores"
   ]
  },
  {
   "cell_type": "code",
   "execution_count": 190,
   "id": "b2674cd5",
   "metadata": {},
   "outputs": [
    {
     "data": {
      "text/plain": [
       "'/mnt/nfs-mnj-hot-01/tmp/masomatics/block_diag/result/20221223_glasso_0/detach0_modeglasso'"
      ]
     },
     "execution_count": 190,
     "metadata": {},
     "output_type": "execute_result"
    }
   ],
   "source": [
    "targdir_path"
   ]
  },
  {
   "cell_type": "code",
   "execution_count": 197,
   "id": "5b000dd2",
   "metadata": {},
   "outputs": [
    {
     "name": "stdout",
     "output_type": "stream",
     "text": [
      "{'args': {'T': 12, 'backgrnd': False, 'fixpos': True, 'max_T': 12, 'max_angle_velocity_ratio': [-0.5, 0.5], 'max_color_velocity_ratio': [-0.5, 0.5], 'only_use_digit4': True, 'pair_transition': False, 'root': '/mnt/nfs-mnj-hot-01/tmp/masomatics/block_diag/datasets/MNIST', 'same_object': False, 'train': True}, 'fn': './datasets/seq_mnist.py', 'name': 'SequentialMNIST_double'}\n",
      "/mnt/nfs-mnj-hot-01/tmp/masomatics/block_diag/result/20221223_glasso_0/detach0_modeglasso \n",
      " snapshot_model_iter_100000\n"
     ]
    },
    {
     "name": "stderr",
     "output_type": "stream",
     "text": [
      "100%|██████████| 183/183 [00:18<00:00, 10.04it/s]\n"
     ]
    },
    {
     "name": "stdout",
     "output_type": "stream",
     "text": [
      "tensor([ 0.7733,  1.9692,  5.1271,  7.2487,  8.5249, 10.6064, 13.2919, 14.7556,\n",
      "        15.5745, 16.7700])\n"
     ]
    }
   ],
   "source": [
    "allresults, targ, xnext  = ev.prediction_evaluation([targdir_path], device =0, n_cond=2, tp=tp, repeats=1,predictive=False,reconstructive = False,alteration={})\n",
    "\n"
   ]
  },
  {
   "cell_type": "code",
   "execution_count": 202,
   "id": "b7ad65af",
   "metadata": {},
   "outputs": [],
   "source": [
    "targlist = ['detach0_modeglasso', 'detach0_modeexact']\n",
    "result_dir = '/mnt/nfs-mnj-hot-01/tmp/masomatics/block_diag/result'\n",
    "targpath = os.path.join(result_dir, '20221223_glasso_0')\n",
    "\n",
    "\n",
    "\n",
    "targdir_pathlist = [os.path.join(targpath, targdir) for targdir in targlist] "
   ]
  },
  {
   "cell_type": "code",
   "execution_count": 204,
   "id": "4454e80b",
   "metadata": {},
   "outputs": [
    {
     "name": "stdout",
     "output_type": "stream",
     "text": [
      "{'args': {'T': 12, 'backgrnd': False, 'fixpos': True, 'max_T': 12, 'max_angle_velocity_ratio': [-0.5, 0.5], 'max_color_velocity_ratio': [-0.5, 0.5], 'only_use_digit4': True, 'pair_transition': False, 'root': '/mnt/nfs-mnj-hot-01/tmp/masomatics/block_diag/datasets/MNIST', 'same_object': False, 'train': True}, 'fn': './datasets/seq_mnist.py', 'name': 'SequentialMNIST_double'}\n",
      "/mnt/nfs-mnj-hot-01/tmp/masomatics/block_diag/result/20221223_glasso_0/detach0_modeglasso \n",
      " snapshot_model_iter_100000\n"
     ]
    },
    {
     "name": "stderr",
     "output_type": "stream",
     "text": [
      "100%|██████████| 183/183 [00:20<00:00,  9.06it/s]\n"
     ]
    },
    {
     "name": "stdout",
     "output_type": "stream",
     "text": [
      "tensor([ 0.7724,  1.9558,  5.0852,  7.2501,  8.5087, 10.6597, 13.2804, 14.6624,\n",
      "        15.4816, 16.7059])\n",
      "{'args': {'T': 12, 'backgrnd': False, 'fixpos': True, 'max_T': 12, 'max_angle_velocity_ratio': [-0.5, 0.5], 'max_color_velocity_ratio': [-0.5, 0.5], 'only_use_digit4': True, 'pair_transition': False, 'root': '/mnt/nfs-mnj-hot-01/tmp/masomatics/block_diag/datasets/MNIST', 'same_object': False, 'train': True}, 'fn': './datasets/seq_mnist.py', 'name': 'SequentialMNIST_double'}\n",
      "/mnt/nfs-mnj-hot-01/tmp/masomatics/block_diag/result/20221223_glasso_0/detach0_modeexact \n",
      " snapshot_model_iter_100000\n"
     ]
    },
    {
     "name": "stderr",
     "output_type": "stream",
     "text": [
      "100%|██████████| 183/183 [00:18<00:00,  9.77it/s]\n"
     ]
    },
    {
     "name": "stdout",
     "output_type": "stream",
     "text": [
      "tensor([ 0.9268,  2.6219,  6.8218,  8.7857,  9.5022, 11.2812, 13.6927, 14.9725,\n",
      "        15.3389, 16.1941])\n"
     ]
    }
   ],
   "source": [
    "allresults, targ, xnext  = ev.prediction_evaluation(targdir_pathlist, device =0, n_cond=2, tp=tp, repeats=1,predictive=False,reconstructive = False,alteration={})\n",
    "\n"
   ]
  },
  {
   "cell_type": "code",
   "execution_count": 205,
   "id": "cfdf5c4a",
   "metadata": {},
   "outputs": [
    {
     "ename": "IndexError",
     "evalue": "index 10 is out of bounds for dimension 0 with size 10",
     "output_type": "error",
     "traceback": [
      "\u001b[0;31m---------------------------------------------------------------------------\u001b[0m",
      "\u001b[0;31mIndexError\u001b[0m                                Traceback (most recent call last)",
      "\u001b[0;32m/tmp/ipykernel_32/3234779796.py\u001b[0m in \u001b[0;36m<module>\u001b[0;34m\u001b[0m\n\u001b[1;32m      8\u001b[0m     \u001b[0mplt\u001b[0m\u001b[0;34m.\u001b[0m\u001b[0mfigure\u001b[0m\u001b[0;34m(\u001b[0m\u001b[0mfigsize\u001b[0m \u001b[0;34m=\u001b[0m \u001b[0mfigsize\u001b[0m\u001b[0;34m)\u001b[0m\u001b[0;34m\u001b[0m\u001b[0;34m\u001b[0m\u001b[0m\n\u001b[1;32m      9\u001b[0m     \u001b[0;32mfor\u001b[0m \u001b[0mk\u001b[0m \u001b[0;32min\u001b[0m \u001b[0mrange\u001b[0m\u001b[0;34m(\u001b[0m\u001b[0mtp\u001b[0m\u001b[0;34m-\u001b[0m\u001b[0mn_cond\u001b[0m\u001b[0;34m)\u001b[0m\u001b[0;34m:\u001b[0m\u001b[0;34m\u001b[0m\u001b[0;34m\u001b[0m\u001b[0m\n\u001b[0;32m---> 10\u001b[0;31m         \u001b[0mtn\u001b[0m \u001b[0;34m=\u001b[0m \u001b[0mtorch\u001b[0m\u001b[0;34m.\u001b[0m\u001b[0mpermute\u001b[0m\u001b[0;34m(\u001b[0m\u001b[0mtarg\u001b[0m\u001b[0;34m[\u001b[0m\u001b[0midx\u001b[0m\u001b[0;34m]\u001b[0m\u001b[0;34m[\u001b[0m\u001b[0mk\u001b[0m\u001b[0;34m+\u001b[0m\u001b[0mn_cond\u001b[0m\u001b[0;34m]\u001b[0m\u001b[0;34m,\u001b[0m \u001b[0;34m(\u001b[0m\u001b[0;36m1\u001b[0m\u001b[0;34m,\u001b[0m\u001b[0;36m2\u001b[0m\u001b[0;34m,\u001b[0m\u001b[0;36m0\u001b[0m\u001b[0;34m)\u001b[0m\u001b[0;34m)\u001b[0m\u001b[0;34m\u001b[0m\u001b[0;34m\u001b[0m\u001b[0m\n\u001b[0m\u001b[1;32m     11\u001b[0m         \u001b[0mplt\u001b[0m\u001b[0;34m.\u001b[0m\u001b[0msubplot\u001b[0m\u001b[0;34m(\u001b[0m\u001b[0;36m1\u001b[0m\u001b[0;34m,\u001b[0m \u001b[0mtp\u001b[0m\u001b[0;34m,\u001b[0m \u001b[0mk\u001b[0m\u001b[0;34m+\u001b[0m\u001b[0;36m1\u001b[0m\u001b[0;34m)\u001b[0m\u001b[0;34m\u001b[0m\u001b[0;34m\u001b[0m\u001b[0m\n\u001b[1;32m     12\u001b[0m         \u001b[0mplt\u001b[0m\u001b[0;34m.\u001b[0m\u001b[0mimshow\u001b[0m\u001b[0;34m(\u001b[0m\u001b[0mtn\u001b[0m\u001b[0;34m,\u001b[0m \u001b[0minterpolation\u001b[0m\u001b[0;34m=\u001b[0m\u001b[0;32mNone\u001b[0m\u001b[0;34m)\u001b[0m\u001b[0;34m\u001b[0m\u001b[0;34m\u001b[0m\u001b[0m\n",
      "\u001b[0;31mIndexError\u001b[0m: index 10 is out of bounds for dimension 0 with size 10"
     ]
    },
    {
     "data": {
      "image/png": "[encoded data removed]",
      "text/plain": [
       "<Figure size 1440x144 with 8 Axes>"
      ]
     },
     "metadata": {
      "needs_background": "light"
     },
     "output_type": "display_data"
    }
   ],
   "source": [
    "\n",
    "\n",
    "\n",
    "tp =15\n",
    "device = 0\n",
    "reload(sm)\n",
    "for idx in list(range(0, 2)):\n",
    "    figsize = (20,2)\n",
    "\n",
    "\n",
    "    plt.figure(figsize = figsize)\n",
    "    for k in range(tp-n_cond):\n",
    "        tn = torch.permute(targ[idx][k+n_cond], (1,2,0))\n",
    "        plt.subplot(1, tp, k+1)\n",
    "        plt.imshow(tn, interpolation=None)\n",
    "    plt.suptitle(\"target\")  \n",
    "\n",
    "    for mode in list(visualize_list):\n",
    "        plt.figure(figsize = figsize)\n",
    "        xnext, M = ev.predict(targ, allresults['models'][mode].to(device),\n",
    "                    n_cond=2, tp=tp, device=device, swap =False,\n",
    "                    predictive=False, reconstructive=False)\n",
    "        xnext = xnext.to('cpu')\n",
    "        M = M.to('cpu')\n",
    "        for k in range(tp-n_cond):\n",
    "            xn = torch.permute(xnext[idx][k], (1,2,0))\n",
    "            plt.subplot(1, tp, k+1)\n",
    "            plt.imshow(xn, interpolation=None)\n",
    "        plt.suptitle(mode.split('/')[-1])    \n",
    "\n",
    "\n",
    "\n"
   ]
  },
  {
   "cell_type": "code",
   "execution_count": null,
   "id": "1d18b1cc",
   "metadata": {},
   "outputs": [],
   "source": []
  }
 ],
 "metadata": {
  "kernelspec": {
   "display_name": "Python 3 (ipykernel)",
   "language": "python",
   "name": "python3"
  },
  "language_info": {
   "codemirror_mode": {
    "name": "ipython",
    "version": 3
   },
   "file_extension": ".py",
   "mimetype": "text/x-python",
   "name": "python",
   "nbconvert_exporter": "python",
   "pygments_lexer": "ipython3",
   "version": "3.8.9"
  }
 },
 "nbformat": 4,
 "nbformat_minor": 5
}
