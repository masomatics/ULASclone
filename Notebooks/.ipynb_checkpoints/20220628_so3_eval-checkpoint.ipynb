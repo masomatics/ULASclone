{
 "cells": [
  {
   "cell_type": "code",
   "execution_count": 68,
   "id": "49d21887",
   "metadata": {},
   "outputs": [],
   "source": [
    "import os\n",
    "import sys\n",
    "sys.path.append('../')\n",
    "sys.path.append('../datasets')\n",
    "sys.path.append('../models')\n",
    "\n",
    "\n",
    "\n",
    "\n",
    "import torch\n",
    "import torchvision\n",
    "import torch.backends.cudnn as cudnn\n",
    "import random\n",
    "import numpy as np\n",
    "import matplotlib.pyplot as plt\n",
    "from torch.utils.data import DataLoader\n",
    "from importlib import reload\n",
    "from datasets.three_dim_shapes import ThreeDimShapesDataset\n",
    "from datasets.small_norb import SmallNORBDataset\n",
    "from datasets.seq_mnist import SequentialMNIST\n",
    "import models.seqae as seqae\n",
    "from einops import rearrange\n",
    "import signal\n",
    "import copy\n",
    "import seaborn as sns\n",
    "from tqdm import tqdm\n",
    "import pdb\n",
    "if torch.cuda.is_available():\n",
    "    device = torch.device('cuda')\n",
    "    cudnn.deterministic = True\n",
    "    cudnn.benchmark = True\n",
    "else:\n",
    "    device = torch.device('cpu')\n",
    "    gpu_index = -1\n",
    "\n",
    "import yaml\n",
    "from source import yaml_utils as yu\n",
    "\n",
    "\n",
    "def contain(queries, mystr, mode='any'):\n",
    "    if mode == 'any':\n",
    "        containment = False\n",
    "        for key in queries:\n",
    "            if key in mystr:\n",
    "                containment = True\n",
    "    elif mode == 'all':\n",
    "        containment = True\n",
    "        for key in queries:\n",
    "            if key not in mystr:\n",
    "                containment = False\n",
    "    return containment\n",
    "\n",
    "def filterdir(queries, dirlist, mode ='any'):\n",
    "    mylist = []\n",
    "    for dirname in dirlist:\n",
    "        containment = contain(queries, dirname, mode=mode)\n",
    "        if containment == True:\n",
    "            mylist = mylist + [dirname]\n",
    "    return mylist\n",
    "\n",
    "def filter_dict(queries, mydict, mode = 'any'):\n",
    "    outdict = {} \n",
    "    for dirname in mydict.keys():\n",
    "        containment = contain(queries, dirname, mode=mode)\n",
    "        if containment == True:\n",
    "            outdict[dirname] = mydict[dirname]\n",
    "    return outdict\n",
    "\n",
    "result_dir = '/mnt/nfs-mnj-hot-01/tmp/masomatics/block_diag/result'\n",
    "dirlist = os.listdir(result_dir)"
   ]
  },
  {
   "cell_type": "code",
   "execution_count": 70,
   "id": "d5626357",
   "metadata": {},
   "outputs": [
    {
     "data": {
      "text/plain": [
       "['20220701_so3_various_dat_two_0']"
      ]
     },
     "execution_count": 70,
     "metadata": {},
     "output_type": "execute_result"
    }
   ],
   "source": [
    "filterdir(['20220701'], dirlist, mode='any')"
   ]
  },
  {
   "cell_type": "code",
   "execution_count": 73,
   "id": "682364c7",
   "metadata": {},
   "outputs": [],
   "source": [
    "targdir = '20220701_so3_various_dat_two_0'\n",
    "exp_result_dir = os.path.join(result_dir, targdir)\n",
    "result_list = os.listdir(exp_result_dir)\n",
    "\n",
    "\n",
    "def obtain_info(dirpath):\n",
    "    targ_config_path = os.path.join(dirpath, 'config.yml')\n",
    "    targ_log_path = os.path.join(dirpath, 'log')\n",
    "    if os.path.exists(targ_log_path) != True or os.path.exists(targ_config_path) != True:\n",
    "        print(f\"\"\"{targ_log_path} or {targ_config_path} does not exist \"\"\")\n",
    "        return None \n",
    "    with open(targ_config_path) as f:\n",
    "        config = yaml.safe_load(f)\n",
    "        \n",
    "    with open(targ_log_path) as f:\n",
    "        log = yaml.safe_load(f)\n",
    "    return config, log\n",
    "\n",
    "def load_model(model, model_dir, iters):\n",
    "    model_path = os.path.join(\n",
    "        model_dir, 'snapshot_model_iter_{}'.format(iters))\n",
    "\n",
    "    if os.path.exists(model_path):\n",
    "        model.load_state_dict(torch.load(model_path, map_location=device))\n",
    "        return True\n",
    "    else:\n",
    "        print(f\"\"\"{model_path} does not exist\"\"\")\n",
    "        return False\n",
    "\n",
    "\n",
    "\n"
   ]
  },
  {
   "cell_type": "code",
   "execution_count": 74,
   "id": "2f64731f",
   "metadata": {},
   "outputs": [
    {
     "name": "stderr",
     "output_type": "stream",
     "text": [
      "/usr/local/lib/python3.8/site-packages/torch/nn/modules/lazy.py:178: UserWarning: Lazy modules are a new feature under heavy development so changes to the API or functionality can happen at any moment.\n",
      "  warnings.warn('Lazy modules are a new feature under heavy development '\n",
      "/usr/local/lib/python3.8/site-packages/torch/nn/modules/lazy.py:178: UserWarning: Lazy modules are a new feature under heavy development so changes to the API or functionality can happen at any moment.\n",
      "  warnings.warn('Lazy modules are a new feature under heavy development '\n",
      "/usr/local/lib/python3.8/site-packages/torch/nn/modules/lazy.py:178: UserWarning: Lazy modules are a new feature under heavy development so changes to the API or functionality can happen at any moment.\n",
      "  warnings.warn('Lazy modules are a new feature under heavy development '\n",
      "/usr/local/lib/python3.8/site-packages/torch/nn/modules/lazy.py:178: UserWarning: Lazy modules are a new feature under heavy development so changes to the API or functionality can happen at any moment.\n",
      "  warnings.warn('Lazy modules are a new feature under heavy development '\n",
      "/usr/local/lib/python3.8/site-packages/torch/nn/modules/lazy.py:178: UserWarning: Lazy modules are a new feature under heavy development so changes to the API or functionality can happen at any moment.\n",
      "  warnings.warn('Lazy modules are a new feature under heavy development '\n",
      "/usr/local/lib/python3.8/site-packages/torch/nn/modules/lazy.py:178: UserWarning: Lazy modules are a new feature under heavy development so changes to the API or functionality can happen at any moment.\n",
      "  warnings.warn('Lazy modules are a new feature under heavy development '\n",
      "/usr/local/lib/python3.8/site-packages/torch/nn/modules/lazy.py:178: UserWarning: Lazy modules are a new feature under heavy development so changes to the API or functionality can happen at any moment.\n",
      "  warnings.warn('Lazy modules are a new feature under heavy development '\n",
      "/usr/local/lib/python3.8/site-packages/torch/nn/modules/lazy.py:178: UserWarning: Lazy modules are a new feature under heavy development so changes to the API or functionality can happen at any moment.\n",
      "  warnings.warn('Lazy modules are a new feature under heavy development '\n",
      "/usr/local/lib/python3.8/site-packages/torch/nn/modules/lazy.py:178: UserWarning: Lazy modules are a new feature under heavy development so changes to the API or functionality can happen at any moment.\n",
      "  warnings.warn('Lazy modules are a new feature under heavy development '\n",
      "/usr/local/lib/python3.8/site-packages/torch/nn/modules/lazy.py:178: UserWarning: Lazy modules are a new feature under heavy development so changes to the API or functionality can happen at any moment.\n",
      "  warnings.warn('Lazy modules are a new feature under heavy development '\n",
      "/usr/local/lib/python3.8/site-packages/torch/nn/modules/lazy.py:178: UserWarning: Lazy modules are a new feature under heavy development so changes to the API or functionality can happen at any moment.\n",
      "  warnings.warn('Lazy modules are a new feature under heavy development '\n",
      "/usr/local/lib/python3.8/site-packages/torch/nn/modules/lazy.py:178: UserWarning: Lazy modules are a new feature under heavy development so changes to the API or functionality can happen at any moment.\n",
      "  warnings.warn('Lazy modules are a new feature under heavy development '\n"
     ]
    }
   ],
   "source": [
    "allresults = {} \n",
    "allconfigs = {}\n",
    "alllogs = {} \n",
    "for mydir in result_list:\n",
    "\n",
    "    dirpath = os.path.join(exp_result_dir, mydir)\n",
    "    config, log = obtain_info(dirpath)\n",
    "\n",
    "    data = yu.load_component(config['train_data'])\n",
    "\n",
    "    train_loader = DataLoader(data, \n",
    "                              batch_size=config['batchsize'],\n",
    "                              shuffle=True,\n",
    "                              num_workers=config['num_workers'])\n",
    "    model = yu.load_component(config['model'])\n",
    "    load_model(model, dirpath, config['max_iteration'])\n",
    "    model = model.to(device)\n",
    "\n",
    "\n",
    "    scores = [] \n",
    "    for idx, dat in enumerate(train_loader):\n",
    "        dat = rearrange(dat, 'b t a -> (b t) a' ).to(device)\n",
    "        d0hat =  model.dec(model.enc(dat)).detach().to(device)\n",
    "\n",
    "        scores.append(seqae.r2_score(d0hat.to('cpu'), dat.to('cpu')))\n",
    "\n",
    "    scores = torch.tensor(scores)\n",
    "    allresults[mydir] = torch.mean(scores)\n",
    "    allconfigs[mydir] = config\n",
    "    alllogs[mydir] = log\n",
    "\n",
    "\n"
   ]
  },
  {
   "cell_type": "code",
   "execution_count": 75,
   "id": "1ca46076",
   "metadata": {},
   "outputs": [
    {
     "data": {
      "text/plain": [
       "{'lr0001_data_filenameso3dat_sphere_MLPpt_nameSeqAELSTSQ_LinearNet': tensor(-0.8075, dtype=torch.float64),\n",
       " 'lr0001_data_filenameso3dat_sphere_Linearpt_nameSeqAELSTSQ_LinearNet': tensor(0.9996, dtype=torch.float64),\n",
       " 'lr0001_data_filenameso3dat_sphere_iResNetpt_nameSeqAELSTSQ_LinearNet': tensor(0.9998, dtype=torch.float64)}"
      ]
     },
     "execution_count": 75,
     "metadata": {},
     "output_type": "execute_result"
    }
   ],
   "source": [
    "filter_dict(['Q_LinearNet', 'lr0001'], allresults, mode='all')"
   ]
  },
  {
   "cell_type": "code",
   "execution_count": 80,
   "id": "75e33d5d",
   "metadata": {},
   "outputs": [
    {
     "data": {
      "text/plain": [
       "{'lr0001_data_filenameso3dat_sphere_iResNetpt_nameSeqAELSTSQ_so3Net': tensor(0.4926, dtype=torch.float64),\n",
       " 'lr0001_data_filenameso3dat_sphere_MLPpt_nameSeqAELSTSQ_so3Net': tensor(-6.2020e+08, dtype=torch.float64),\n",
       " 'lr0001_data_filenameso3dat_sphere_Linearpt_nameSeqAELSTSQ_so3Net': tensor(0.8089, dtype=torch.float64)}"
      ]
     },
     "execution_count": 80,
     "metadata": {},
     "output_type": "execute_result"
    }
   ],
   "source": [
    "filter_dict(['Q_so3Net', 'lr0001'], allresults, mode='all')"
   ]
  },
  {
   "cell_type": "code",
   "execution_count": 92,
   "id": "2702c3e8",
   "metadata": {},
   "outputs": [],
   "source": [
    "mylogs = filter_dict(['Q_so3Net', 'lr00001', 'MLPpt'], alllogs, mode='all')\n",
    "mylog = mylogs[list(mylogs.keys())[0]]\n",
    "\n",
    "check_label = 'train/loss'\n",
    "curve = [mylog[k][check_label] for k in range(len(mylog))]\n",
    "iters = [mylog[k]['iteration'] for k in range(len(mylog))]"
   ]
  },
  {
   "cell_type": "code",
   "execution_count": 93,
   "id": "dbf474df",
   "metadata": {},
   "outputs": [
    {
     "data": {
      "text/plain": [
       "[<matplotlib.lines.Line2D at 0x7f09d7e3a280>]"
      ]
     },
     "execution_count": 93,
     "metadata": {},
     "output_type": "execute_result"
    },
    {
     "data": {
      "image/png": "[encoded data removed]",
      "text/plain": [
       "<Figure size 432x288 with 1 Axes>"
      ]
     },
     "metadata": {
      "needs_background": "light"
     },
     "output_type": "display_data"
    }
   ],
   "source": [
    "plt.plot(iters, curve,)"
   ]
  },
  {
   "cell_type": "code",
   "execution_count": null,
   "id": "a177b016",
   "metadata": {},
   "outputs": [],
   "source": [
    "#Prediction loss\n",
    "\n",
    "tp=5\n",
    "\n",
    "pred_results = {}\n",
    "\n",
    "\n",
    "data = yu.load_component(config['train_data'])\n",
    "\n",
    "\n",
    "#This part must be changed later \n",
    "test_loader = DataLoader(data, \n",
    "                          batch_size=config['batchsize'],\n",
    "                          shuffle=True,\n",
    "                          num_workers=config['num_workers'])\n",
    "model = yu.load_component(config['model'])\n",
    "load_model(model, dirpath, config['max_iteration'])\n",
    "model = model.to(device)\n",
    "\n",
    "\n",
    "\n",
    "exists = load_model(model, dirpath, iters=iters)\n",
    "if exists == True: \n",
    "    model.to(device)\n",
    "\n",
    "    # Initialize lazy modules\n",
    "    images = iter(test_loader).next()\n",
    "    images = torch.stack(images).transpose(1, 0)\n",
    "    images = images.to(device)\n",
    "    model(images[:, :2])\n",
    "    \n",
    "    \n",
    "\n",
    "    with torch.no_grad():\n",
    "        \n",
    "        scores = []\n",
    "        for images in tqdm(test_loader):\n",
    "            images = images.to(device)\n",
    "            images_cond = images[:, :n_cond]\n",
    "            images_target = images[:, n_cond:n_cond+tp]\n",
    "            M = model.get_M(images_cond) #n a a\n",
    "            H = model.encode(images_cond[:, -1:])[:, 0] # n s a\n",
    "            \n",
    "            xs = []\n",
    "            for r in range(tp):\n",
    "\n",
    "                H1 = H1 @ M \n",
    "                x_next_t = model.decode(H1[:, None])\n",
    "                xs.append(x_next_t)\n",
    "\n",
    "            x_next = torch.cat(xs, axis=1)\n",
    "\n",
    "            r2_loss = r2_score(images_target, x_next) \n",
    "            scores.append(r2_loss)\n",
    "            \n",
    "            \n",
    "\n",
    "\n",
    "\n",
    "\n"
   ]
  },
  {
   "cell_type": "code",
   "execution_count": null,
   "id": "df49b57b",
   "metadata": {},
   "outputs": [],
   "source": []
  }
 ],
 "metadata": {
  "kernelspec": {
   "display_name": "Python 3 (ipykernel)",
   "language": "python",
   "name": "python3"
  },
  "language_info": {
   "codemirror_mode": {
    "name": "ipython",
    "version": 3
   },
   "file_extension": ".py",
   "mimetype": "text/x-python",
   "name": "python",
   "nbconvert_exporter": "python",
   "pygments_lexer": "ipython3",
   "version": "3.8.9"
  }
 },
 "nbformat": 4,
 "nbformat_minor": 5
}
