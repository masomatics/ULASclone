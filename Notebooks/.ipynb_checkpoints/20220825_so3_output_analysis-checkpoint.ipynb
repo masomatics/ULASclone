{
 "cells": [
  {
   "cell_type": "code",
   "execution_count": 11,
   "id": "25a07475",
   "metadata": {},
   "outputs": [
    {
     "data": {
      "text/plain": [
       "['20220823_sine_dat_0']"
      ]
     },
     "execution_count": 11,
     "metadata": {},
     "output_type": "execute_result"
    }
   ],
   "source": [
    "import os\n",
    "import sys\n",
    "sys.path.append('../')\n",
    "sys.path.append('../datasets')\n",
    "sys.path.append('../models')\n",
    "import torch\n",
    "import torchvision\n",
    "import torch.backends.cudnn as cudnn\n",
    "import random\n",
    "import numpy as np\n",
    "import matplotlib.pyplot as plt\n",
    "from torch.utils.data import DataLoader\n",
    "from importlib import reload\n",
    "from datasets.three_dim_shapes import ThreeDimShapesDataset\n",
    "from datasets.small_norb import SmallNORBDataset\n",
    "from datasets.seq_mnist import SequentialMNIST\n",
    "import models.seqae as seqae\n",
    "from sklearn.multioutput import MultiOutputRegressor\n",
    "from sklearn.linear_model import Ridge\n",
    "from datasets import so3_data as so3d\n",
    "from einops import rearrange\n",
    "from sklearn.metrics import r2_score\n",
    "import pdb\n",
    "from einops import rearrange\n",
    "\n",
    "import copy\n",
    "\n",
    "import csv\n",
    "import ast\n",
    "from source import yaml_utils as yu\n",
    "\n",
    "\n",
    "from tqdm import tqdm\n",
    "\n",
    "if torch.cuda.is_available():\n",
    "    device = torch.device('cuda')\n",
    "    cudnn.deterministic = True\n",
    "    cudnn.benchmark = True\n",
    "else:\n",
    "    device = torch.device('cpu')\n",
    "    gpu_index = -1\n",
    "\n",
    "\n",
    "    \n",
    "    \n",
    "\n",
    "def iter_list(log_dir):\n",
    "    dirlist = os.listdir(log_dir)\n",
    "    iterlist = []\n",
    "    for mydir in dirlist:\n",
    "        if 'iter' in mydir and 'tmp' not in mydir:\n",
    "            iterlist.append(int(mydir.split('_')[-1]))\n",
    "    return np.array(iterlist)\n",
    "    \n",
    "    \n",
    "def load_model(model, log_dir, iters, latest=False):\n",
    "    print(f\"\"\"{log_dir} \\n snapshot_model_iter_{iters}\"\"\")\n",
    "    if latest == True:\n",
    "        iters = np.max(iter_list(log_dir))\n",
    "    model.load_state_dict(torch.load(os.path.join(log_dir, 'snapshot_model_iter_{}'.format(iters))))\n",
    "\n",
    "\n",
    "\n",
    "def load_config(targdir_path):\n",
    "    targ_config_path = os.path.join(targdir_path, 'config.yml')\n",
    "    with open(targ_config_path, 'r') as f:\n",
    "        config = yaml.safe_load(f)\n",
    "    return config\n",
    "    \n",
    "    \n",
    "def filter_names(query, mydict):\n",
    "    filtered = {} \n",
    "    for key in mydict.keys():\n",
    "        if query in key:\n",
    "            filtered[key] = mydict[key]\n",
    "    return filtered\n",
    "    \n",
    "def filter_list(query, mylist):\n",
    "    filtered = [] \n",
    "    for key in mylist:\n",
    "        if query in key:\n",
    "            filtered.append(key)\n",
    "    return filtered\n",
    "    \n",
    "    \n",
    "from utils import yaml_utils as yu\n",
    "import yaml\n",
    "rootpath = '/mnt/nfs-mnj-hot-01/tmp/masomatics/block_diag/'\n",
    "result_dir = '/mnt/nfs-mnj-hot-01/tmp/masomatics/block_diag/result'\n",
    "\n",
    "mode = 'so3'\n",
    "dat_root = f\"\"\"/mnt/nfs-mnj-hot-01/tmp/masomatics/block_diag/datasets/{mode}\"\"\"\n",
    "\n",
    "\n",
    "\n",
    "filter_list('sine', os.listdir(result_dir))"
   ]
  },
  {
   "cell_type": "code",
   "execution_count": 12,
   "id": "5a540316",
   "metadata": {},
   "outputs": [
    {
     "data": {
      "text/plain": [
       "['data_filenameso3dat_sphere_sinept_nameSeqAELSTSQ_LinearNet',\n",
       " 'data_filenameso3dat_sphere_sinept_nameSeqAELSTSQ_iResNet',\n",
       " 'data_filenameso3dat_sphere_sinept_nameSeqAELSTSQ_so3Net']"
      ]
     },
     "execution_count": 12,
     "metadata": {},
     "output_type": "execute_result"
    }
   ],
   "source": [
    "if mode == 'so3':\n",
    "    #targdir = '20220816_so3_various_dat_three_0'\n",
    "    targdir = '20220823_sine_dat_0'\n",
    "elif mode == 'so2':\n",
    "    targdir = '20220816_so2_dat_0'\n",
    "exp_result = os.path.join(result_dir, targdir)\n",
    "\n",
    "\n",
    "    \n",
    "os.listdir(exp_result)\n",
    "\n",
    "\n",
    "datamode='sine'\n",
    "#query = 'dat_sphere_Linearpt'\n",
    "query = f\"\"\"dat_sphere_{datamode}pt\"\"\"\n",
    "targlist = filter_list(query, os.listdir(exp_result))\n",
    "targlist"
   ]
  },
  {
   "cell_type": "code",
   "execution_count": null,
   "id": "4218f579",
   "metadata": {},
   "outputs": [],
   "source": []
  },
  {
   "cell_type": "code",
   "execution_count": 16,
   "id": "c21ae4c4",
   "metadata": {},
   "outputs": [
    {
     "name": "stdout",
     "output_type": "stream",
     "text": [
      "> \u001b[0;32m/tmp/ipykernel_244364/4013437080.py\u001b[0m(26)\u001b[0;36m<module>\u001b[0;34m()\u001b[0m\n",
      "\u001b[0;32m     24 \u001b[0;31m\u001b[0;34m\u001b[0m\u001b[0m\n",
      "\u001b[0m\u001b[0;32m     25 \u001b[0;31m\u001b[0;34m\u001b[0m\u001b[0m\n",
      "\u001b[0m\u001b[0;32m---> 26 \u001b[0;31m    \u001b[0mmodel_config\u001b[0m \u001b[0;34m=\u001b[0m \u001b[0mconfig\u001b[0m\u001b[0;34m[\u001b[0m\u001b[0;34m'model'\u001b[0m\u001b[0;34m]\u001b[0m\u001b[0;34m\u001b[0m\u001b[0;34m\u001b[0m\u001b[0m\n",
      "\u001b[0m\u001b[0;32m     27 \u001b[0;31m    \u001b[0mmodel\u001b[0m \u001b[0;34m=\u001b[0m \u001b[0myu\u001b[0m\u001b[0;34m.\u001b[0m\u001b[0mload_component\u001b[0m\u001b[0;34m(\u001b[0m\u001b[0mmodel_config\u001b[0m\u001b[0;34m)\u001b[0m\u001b[0;34m\u001b[0m\u001b[0;34m\u001b[0m\u001b[0m\n",
      "\u001b[0m\u001b[0;32m     28 \u001b[0;31m    \u001b[0miterlist\u001b[0m \u001b[0;34m=\u001b[0m \u001b[0miter_list\u001b[0m\u001b[0;34m(\u001b[0m\u001b[0mtargdir_path\u001b[0m\u001b[0;34m)\u001b[0m\u001b[0;34m\u001b[0m\u001b[0;34m\u001b[0m\u001b[0m\n",
      "\u001b[0m\n",
      "ipdb> config['model']\n",
      "{'args': {'ch_x': 1, 'dim_a': 6, 'dim_m': 10, 'k': 2.0, 'predictive': True}, 'fn': './models/seqae.py', 'name': 'SeqAELSTSQ_LinearNet'}\n",
      "ipdb> model_config = config['model']\n",
      "ipdb> yu.load_component(model_config)\n",
      "condition passed\n",
      "initializing loop\n",
      "initializing loop\n",
      "initializing loop\n",
      "initializing loop\n",
      "initializing loop\n",
      "initializing loop\n",
      "initializing loop\n",
      "initializing loop\n",
      "initializing loop\n",
      "initializing loop\n",
      "initializing loop\n",
      "initializing loop\n",
      "condition passed\n",
      "initializing loop\n",
      "initializing loop\n",
      "initializing loop\n",
      "initializing loop\n",
      "initializing loop\n",
      "condition passed\n",
      "condition passed\n",
      "initializing loop\n",
      "initializing loop\n",
      "condition passed\n",
      "initializing loop\n",
      "condition passed\n",
      "SeqAELSTSQ_LinearNet(\n",
      "  (enc): LinearNet(\n",
      "    (network): Linear(in_features=60, out_features=60, bias=True)\n",
      "  )\n",
      "  (dec): LinearNet(\n",
      "    (network): Linear(in_features=60, out_features=60, bias=True)\n",
      "  )\n",
      "  (dynamics_model): LinearTensorDynamicsLSTSQ()\n",
      ")\n",
      "ipdb> q\n"
     ]
    },
    {
     "ename": "BdbQuit",
     "evalue": "",
     "output_type": "error",
     "traceback": [
      "\u001b[0;31m---------------------------------------------------------------------------\u001b[0m",
      "\u001b[0;31mBdbQuit\u001b[0m                                   Traceback (most recent call last)",
      "\u001b[0;32m/tmp/ipykernel_244364/4013437080.py\u001b[0m in \u001b[0;36m<module>\u001b[0;34m\u001b[0m\n\u001b[1;32m     24\u001b[0m \u001b[0;34m\u001b[0m\u001b[0m\n\u001b[1;32m     25\u001b[0m \u001b[0;34m\u001b[0m\u001b[0m\n\u001b[0;32m---> 26\u001b[0;31m     \u001b[0mmodel_config\u001b[0m \u001b[0;34m=\u001b[0m \u001b[0mconfig\u001b[0m\u001b[0;34m[\u001b[0m\u001b[0;34m'model'\u001b[0m\u001b[0;34m]\u001b[0m\u001b[0;34m\u001b[0m\u001b[0;34m\u001b[0m\u001b[0m\n\u001b[0m\u001b[1;32m     27\u001b[0m     \u001b[0mmodel\u001b[0m \u001b[0;34m=\u001b[0m \u001b[0myu\u001b[0m\u001b[0;34m.\u001b[0m\u001b[0mload_component\u001b[0m\u001b[0;34m(\u001b[0m\u001b[0mmodel_config\u001b[0m\u001b[0;34m)\u001b[0m\u001b[0;34m\u001b[0m\u001b[0;34m\u001b[0m\u001b[0m\n\u001b[1;32m     28\u001b[0m     \u001b[0miterlist\u001b[0m \u001b[0;34m=\u001b[0m \u001b[0miter_list\u001b[0m\u001b[0;34m(\u001b[0m\u001b[0mtargdir_path\u001b[0m\u001b[0;34m)\u001b[0m\u001b[0;34m\u001b[0m\u001b[0;34m\u001b[0m\u001b[0m\n",
      "\u001b[0;32m/tmp/ipykernel_244364/4013437080.py\u001b[0m in \u001b[0;36m<module>\u001b[0;34m\u001b[0m\n\u001b[1;32m     24\u001b[0m \u001b[0;34m\u001b[0m\u001b[0m\n\u001b[1;32m     25\u001b[0m \u001b[0;34m\u001b[0m\u001b[0m\n\u001b[0;32m---> 26\u001b[0;31m     \u001b[0mmodel_config\u001b[0m \u001b[0;34m=\u001b[0m \u001b[0mconfig\u001b[0m\u001b[0;34m[\u001b[0m\u001b[0;34m'model'\u001b[0m\u001b[0;34m]\u001b[0m\u001b[0;34m\u001b[0m\u001b[0;34m\u001b[0m\u001b[0m\n\u001b[0m\u001b[1;32m     27\u001b[0m     \u001b[0mmodel\u001b[0m \u001b[0;34m=\u001b[0m \u001b[0myu\u001b[0m\u001b[0;34m.\u001b[0m\u001b[0mload_component\u001b[0m\u001b[0;34m(\u001b[0m\u001b[0mmodel_config\u001b[0m\u001b[0;34m)\u001b[0m\u001b[0;34m\u001b[0m\u001b[0;34m\u001b[0m\u001b[0m\n\u001b[1;32m     28\u001b[0m     \u001b[0miterlist\u001b[0m \u001b[0;34m=\u001b[0m \u001b[0miter_list\u001b[0m\u001b[0;34m(\u001b[0m\u001b[0mtargdir_path\u001b[0m\u001b[0;34m)\u001b[0m\u001b[0;34m\u001b[0m\u001b[0;34m\u001b[0m\u001b[0m\n",
      "\u001b[0;32m/usr/local/lib/python3.8/bdb.py\u001b[0m in \u001b[0;36mtrace_dispatch\u001b[0;34m(self, frame, event, arg)\u001b[0m\n\u001b[1;32m     86\u001b[0m             \u001b[0;32mreturn\u001b[0m \u001b[0;31m# None\u001b[0m\u001b[0;34m\u001b[0m\u001b[0;34m\u001b[0m\u001b[0m\n\u001b[1;32m     87\u001b[0m         \u001b[0;32mif\u001b[0m \u001b[0mevent\u001b[0m \u001b[0;34m==\u001b[0m \u001b[0;34m'line'\u001b[0m\u001b[0;34m:\u001b[0m\u001b[0;34m\u001b[0m\u001b[0;34m\u001b[0m\u001b[0m\n\u001b[0;32m---> 88\u001b[0;31m             \u001b[0;32mreturn\u001b[0m \u001b[0mself\u001b[0m\u001b[0;34m.\u001b[0m\u001b[0mdispatch_line\u001b[0m\u001b[0;34m(\u001b[0m\u001b[0mframe\u001b[0m\u001b[0;34m)\u001b[0m\u001b[0;34m\u001b[0m\u001b[0;34m\u001b[0m\u001b[0m\n\u001b[0m\u001b[1;32m     89\u001b[0m         \u001b[0;32mif\u001b[0m \u001b[0mevent\u001b[0m \u001b[0;34m==\u001b[0m \u001b[0;34m'call'\u001b[0m\u001b[0;34m:\u001b[0m\u001b[0;34m\u001b[0m\u001b[0;34m\u001b[0m\u001b[0m\n\u001b[1;32m     90\u001b[0m             \u001b[0;32mreturn\u001b[0m \u001b[0mself\u001b[0m\u001b[0;34m.\u001b[0m\u001b[0mdispatch_call\u001b[0m\u001b[0;34m(\u001b[0m\u001b[0mframe\u001b[0m\u001b[0;34m,\u001b[0m \u001b[0marg\u001b[0m\u001b[0;34m)\u001b[0m\u001b[0;34m\u001b[0m\u001b[0;34m\u001b[0m\u001b[0m\n",
      "\u001b[0;32m/usr/local/lib/python3.8/bdb.py\u001b[0m in \u001b[0;36mdispatch_line\u001b[0;34m(self, frame)\u001b[0m\n\u001b[1;32m    111\u001b[0m         \u001b[0;32mif\u001b[0m \u001b[0mself\u001b[0m\u001b[0;34m.\u001b[0m\u001b[0mstop_here\u001b[0m\u001b[0;34m(\u001b[0m\u001b[0mframe\u001b[0m\u001b[0;34m)\u001b[0m \u001b[0;32mor\u001b[0m \u001b[0mself\u001b[0m\u001b[0;34m.\u001b[0m\u001b[0mbreak_here\u001b[0m\u001b[0;34m(\u001b[0m\u001b[0mframe\u001b[0m\u001b[0;34m)\u001b[0m\u001b[0;34m:\u001b[0m\u001b[0;34m\u001b[0m\u001b[0;34m\u001b[0m\u001b[0m\n\u001b[1;32m    112\u001b[0m             \u001b[0mself\u001b[0m\u001b[0;34m.\u001b[0m\u001b[0muser_line\u001b[0m\u001b[0;34m(\u001b[0m\u001b[0mframe\u001b[0m\u001b[0;34m)\u001b[0m\u001b[0;34m\u001b[0m\u001b[0;34m\u001b[0m\u001b[0m\n\u001b[0;32m--> 113\u001b[0;31m             \u001b[0;32mif\u001b[0m \u001b[0mself\u001b[0m\u001b[0;34m.\u001b[0m\u001b[0mquitting\u001b[0m\u001b[0;34m:\u001b[0m \u001b[0;32mraise\u001b[0m \u001b[0mBdbQuit\u001b[0m\u001b[0;34m\u001b[0m\u001b[0;34m\u001b[0m\u001b[0m\n\u001b[0m\u001b[1;32m    114\u001b[0m         \u001b[0;32mreturn\u001b[0m \u001b[0mself\u001b[0m\u001b[0;34m.\u001b[0m\u001b[0mtrace_dispatch\u001b[0m\u001b[0;34m\u001b[0m\u001b[0;34m\u001b[0m\u001b[0m\n\u001b[1;32m    115\u001b[0m \u001b[0;34m\u001b[0m\u001b[0m\n",
      "\u001b[0;31mBdbQuit\u001b[0m: "
     ]
    }
   ],
   "source": [
    "results = {} \n",
    "inferred_Ms = {} \n",
    "model_configs = {}\n",
    "models = {}\n",
    "tp = 5\n",
    "n_cond = 3\n",
    "\n",
    "\n",
    "for targdir in targlist:\n",
    "    \n",
    "    Mlist = [] \n",
    "    targdir_path = os.path.join(exp_result, targdir)\n",
    "    config = load_config(targdir_path)\n",
    "    \n",
    "    dataconfig = config['train_data']\n",
    "    dataconfig['args']['T'] = tp + n_cond\n",
    "    \n",
    "    data = yu.load_component(dataconfig)\n",
    "    train_loader = DataLoader(data, \n",
    "                              batch_size=config['batchsize'],\n",
    "                              shuffle=True,\n",
    "                              num_workers=config['num_workers'])\n",
    "\n",
    "    model_config = config['model']\n",
    "    pdb.set_trace()\n",
    "    model = yu.load_component(model_config)\n",
    "    iterlist = iter_list(targdir_path)\n",
    "    if len(iterlist) == 0:\n",
    "        print(f\"\"\"There is no model trained for {targdir_path}\"\"\")\n",
    "    else:\n",
    "        maxiter = np.max(iter_list(targdir_path))\n",
    "        load_model(model, targdir_path, maxiter)\n",
    "        model = model.eval().to(device)\n",
    "\n",
    "        # Initialize lazy modules\n",
    "        images = iter(train_loader).next()\n",
    "        images = images.to(device)\n",
    "        model(images[:, :2])\n",
    "\n",
    "        with torch.no_grad():\n",
    "            scores = [] \n",
    "            for images in tqdm(train_loader):\n",
    "                images = images.to(device)\n",
    "                images_cond = images[:, :n_cond]\n",
    "                images_target = images[:, n_cond:n_cond+tp]\n",
    "                M = model.get_M(images_cond) #n a a\n",
    "                H = model.encode(images_cond[:, -1:])[:, 0] # n s a\n",
    "\n",
    "                xs = []\n",
    "                for r in range(tp):\n",
    "                    H = H @ M \n",
    "                    x_next_t = model.decode(H[:, None])\n",
    "                    xs.append(x_next_t)\n",
    "\n",
    "                x_next = torch.cat(xs, axis=1)\n",
    "                r2_losses = [] \n",
    "                for k in range(tp):\n",
    "                    r2_loss_t = r2_score(images_target[:,k].to('cpu').numpy(), x_next[:,k].to('cpu').numpy()) \n",
    "                    r2_losses.append(r2_loss_t)\n",
    "                scores.append(torch.tensor(r2_losses))\n",
    "                Mlist.append(M)\n",
    "        \n",
    "                \n",
    "        Mlist = torch.cat(Mlist)       \n",
    "        scores = torch.stack(scores)\n",
    "        av_score = torch.mean(scores, axis=0)\n",
    "        av_var = torch.var(scores, axis=0)\n",
    "        results[targdir] = [av_score, av_var]\n",
    "        inferred_Ms[targdir] = Mlist\n",
    "        models[targdir] = model.to('cpu')\n",
    "        model_configs[targdir] = model_config\n",
    "\n",
    "\n",
    "    "
   ]
  },
  {
   "cell_type": "code",
   "execution_count": 14,
   "id": "53fb40c1",
   "metadata": {},
   "outputs": [
    {
     "data": {
      "text/plain": [
       "{'data_filenameso3dat_sphere_sinept_nameSeqAELSTSQ_LinearNet': [tensor([0.9071, 0.8429, 0.7752, 0.7026, 0.6259], dtype=torch.float64),\n",
       "  tensor([6.3636e-05, 1.8283e-04, 4.9787e-04, 1.4317e-03, 3.7885e-03],\n",
       "         dtype=torch.float64)],\n",
       " 'data_filenameso3dat_sphere_sinept_nameSeqAELSTSQ_iResNet': [tensor([0.9680, 0.9430, 0.9187, 0.8886, 0.8509], dtype=torch.float64),\n",
       "  tensor([7.1845e-06, 5.3296e-05, 1.4811e-04, 2.7301e-03, 2.7658e-02],\n",
       "         dtype=torch.float64)],\n",
       " 'data_filenameso3dat_sphere_sinept_nameSeqAELSTSQ_so3Net': [tensor([0.8879, 0.8338, 0.7927, 0.7409, 0.6934], dtype=torch.float64),\n",
       "  tensor([3.4732e-05, 1.1226e-04, 2.4596e-04, 4.9480e-04, 7.5840e-04],\n",
       "         dtype=torch.float64)]}"
      ]
     },
     "execution_count": 14,
     "metadata": {},
     "output_type": "execute_result"
    }
   ],
   "source": [
    "results"
   ]
  },
  {
   "cell_type": "code",
   "execution_count": 33,
   "id": "cddadaf7",
   "metadata": {},
   "outputs": [
    {
     "data": {
      "text/plain": [
       "{'args': {'T': 8,\n",
       "  'data_filename': 'so3dat_sphere_Linear.pt',\n",
       "  'datamode': 'so3',\n",
       "  'train': True},\n",
       " 'fn': './datasets/so3_data.py',\n",
       " 'name': 'SO3rotationSequence'}"
      ]
     },
     "execution_count": 33,
     "metadata": {},
     "output_type": "execute_result"
    }
   ],
   "source": [
    "dataconfig"
   ]
  },
  {
   "cell_type": "code",
   "execution_count": 34,
   "id": "07af12ce",
   "metadata": {},
   "outputs": [
    {
     "data": {
      "text/plain": [
       "{'data_filenameso3dat_sphere_Linearpt_nameSeqAELSTSQ_LinearNet': SeqAELSTSQ_LinearNet(\n",
       "   (enc): LinearNet(\n",
       "     (network): Linear(in_features=60, out_features=60, bias=True)\n",
       "   )\n",
       "   (dec): LinearNet(\n",
       "     (network): Linear(in_features=60, out_features=60, bias=True)\n",
       "   )\n",
       "   (dynamics_model): LinearTensorDynamicsLSTSQ()\n",
       " ),\n",
       " 'data_filenameso3dat_sphere_Linearpt_nameSeqAELSTSQ_so3Net': SeqAELSTSQ_so3Net(\n",
       "   (enc): MLP(\n",
       "     (network): Sequential(\n",
       "       (0): Linear(in_features=60, out_features=60, bias=True)\n",
       "       (1): ELU(alpha=1.0)\n",
       "       (2): Linear(in_features=60, out_features=60, bias=True)\n",
       "       (3): ELU(alpha=1.0)\n",
       "       (4): Linear(in_features=60, out_features=60, bias=True)\n",
       "       (5): ELU(alpha=1.0)\n",
       "       (6): Linear(in_features=60, out_features=60, bias=True)\n",
       "     )\n",
       "   )\n",
       "   (dec): MLP(\n",
       "     (network): Sequential(\n",
       "       (0): Linear(in_features=60, out_features=60, bias=True)\n",
       "       (1): ELU(alpha=1.0)\n",
       "       (2): Linear(in_features=60, out_features=60, bias=True)\n",
       "       (3): ELU(alpha=1.0)\n",
       "       (4): Linear(in_features=60, out_features=60, bias=True)\n",
       "       (5): ELU(alpha=1.0)\n",
       "       (6): Linear(in_features=60, out_features=60, bias=True)\n",
       "     )\n",
       "   )\n",
       "   (dynamics_model): LinearTensorDynamicsLSTSQ()\n",
       " )}"
      ]
     },
     "execution_count": 34,
     "metadata": {},
     "output_type": "execute_result"
    }
   ],
   "source": [
    "models"
   ]
  },
  {
   "cell_type": "markdown",
   "id": "8f50db9b",
   "metadata": {},
   "source": [
    "# Equivariance Error "
   ]
  },
  {
   "cell_type": "code",
   "execution_count": 35,
   "id": "b975936a",
   "metadata": {},
   "outputs": [
    {
     "data": {
      "text/plain": [
       "['so3dat_sphere_MLP.pt',\n",
       " 'so3dat_sphere_Linear_model.pt',\n",
       " 'so3dat_sphere_iResNet_shared_trans.pt',\n",
       " 'so3dat_sphere_iResNet_model.pt',\n",
       " 'so3dat_sphere_MLP_shared_trans.pt',\n",
       " 'so3dat_sphere_Identity_model.pt',\n",
       " 'so3dat_sphere_Linear_model_invhat.pt',\n",
       " 'so3dat_sphere_Identity.pt',\n",
       " 'so3dat_sphere_iResNet.pt',\n",
       " 'so3dat_sphere_MLP_model.pt',\n",
       " 'so3dat_sphere_Linear.pt',\n",
       " 'so3dat_sphere_MLP_model_invhat.pt',\n",
       " 'so3dat_sphere_Linear_shared_trans.pt']"
      ]
     },
     "execution_count": 35,
     "metadata": {},
     "output_type": "execute_result"
    }
   ],
   "source": [
    "os.listdir(dat_root)"
   ]
  },
  {
   "cell_type": "code",
   "execution_count": 36,
   "id": "21e43f4c",
   "metadata": {},
   "outputs": [],
   "source": [
    "dataconfig_shared = {'args': {'T': 8, 'data_filename': f\"\"\"{mode}dat_sphere_{datamode}_shared_trans.pt\"\"\",\n",
    "                              'train': True, 'datamode': mode},\n",
    " 'fn': './datasets/so3_data.py',\n",
    " 'name': 'SO3rotationSequence'}\n",
    "\n",
    "data_shared = yu.load_component(dataconfig_shared)\n",
    "\n",
    "\n",
    "    \n",
    "\n"
   ]
  },
  {
   "cell_type": "code",
   "execution_count": 37,
   "id": "4906b0ab",
   "metadata": {},
   "outputs": [
    {
     "name": "stderr",
     "output_type": "stream",
     "text": [
      "/usr/local/lib/python3.8/site-packages/torch/nn/modules/lazy.py:178: UserWarning: Lazy modules are a new feature under heavy development so changes to the API or functionality can happen at any moment.\n",
      "  warnings.warn('Lazy modules are a new feature under heavy development '\n"
     ]
    },
    {
     "name": "stdout",
     "output_type": "stream",
     "text": [
      "snapshot_model_iter_300000\n"
     ]
    },
    {
     "name": "stderr",
     "output_type": "stream",
     "text": [
      "100%|██████████| 313/313 [00:03<00:00, 90.45it/s] \n"
     ]
    },
    {
     "name": "stdout",
     "output_type": "stream",
     "text": [
      "snapshot_model_iter_300000\n"
     ]
    },
    {
     "name": "stderr",
     "output_type": "stream",
     "text": [
      "/usr/local/lib/python3.8/site-packages/torch/nn/modules/lazy.py:178: UserWarning: Lazy modules are a new feature under heavy development so changes to the API or functionality can happen at any moment.\n",
      "  warnings.warn('Lazy modules are a new feature under heavy development '\n",
      "100%|██████████| 313/313 [00:03<00:00, 87.41it/s] \n"
     ]
    }
   ],
   "source": [
    "# Initialize lazy modules\n",
    "results_equiv = {} \n",
    "tp = 3\n",
    "n_cond = 5\n",
    "\n",
    "for targdir in targlist:\n",
    "    \n",
    "    targdir_path = os.path.join(exp_result, targdir)\n",
    "    config = load_config(targdir_path)\n",
    "    \n",
    "    \n",
    "    '''\n",
    "    Modify the dataset\n",
    "    '''\n",
    "    \n",
    "    dataconfig = config['train_data']\n",
    "    original_datfile = dataconfig['args']['data_filename']\n",
    "    trans_datfile = original_datfile.split('.')[0] + '_shared_trans.pt'  \n",
    "    dataconfig['args']['data_filename'] = trans_datfile   \n",
    "    dataconfig['args']['T'] = tp + n_cond\n",
    "    \n",
    "    data = yu.load_component(dataconfig)\n",
    "    train_loader = DataLoader(data, \n",
    "                              batch_size=config['batchsize'],\n",
    "                              shuffle=True,\n",
    "                              num_workers=config['num_workers'])\n",
    "    model = yu.load_component(config['model'])\n",
    "    iterlist = iter_list(targdir_path)\n",
    "    \n",
    "    if len(iterlist) == 0:\n",
    "        print(f\"\"\"There is no model trained for {targdir_path}\"\"\")\n",
    "    else:\n",
    "        maxiter = np.max(iter_list(targdir_path))\n",
    "        load_model(model, targdir_path, maxiter)\n",
    "        model = model.eval().to(device)\n",
    "\n",
    "        # Initialize lazy modules\n",
    "        images = iter(train_loader).next()\n",
    "        images = images.to(device)\n",
    "        model(images[:, :2])\n",
    "\n",
    "        with torch.no_grad():\n",
    "            scores = [] \n",
    "            scores_perm = []\n",
    "            for images in tqdm(train_loader):\n",
    "                images = images.to(device)\n",
    "                images_cond = images[:, :n_cond]\n",
    "                images_target = images[:, n_cond:n_cond+tp]                \n",
    "                M = model.get_M(images_cond) #n a a\n",
    "                H = model.encode(images_cond[:, -1:])[:, 0] # n s a\n",
    "                H_perm = copy.copy(H)\n",
    "\n",
    "                xs = []\n",
    "                for r in range(tp):\n",
    "                    H = H @ M \n",
    "                    x_next_t = model.decode(H[:, None])\n",
    "                    xs.append(x_next_t)\n",
    "                x_next = torch.cat(xs, axis=1)\n",
    "                \n",
    "                #swapM = M[torch.arange(-config['batchsize']//2, M.shape[0]-config['batchsize']//2)]\n",
    "                swapM = M\n",
    "                xs_perm = []\n",
    "                for r in range(tp):\n",
    "                    H_perm = H_perm @ swapM \n",
    "                    x_next_t_perm = model.decode(H_perm[:, None])\n",
    "                    xs_perm.append(x_next_t_perm)\n",
    "                x_next_perm = torch.cat(xs_perm, axis=1)\n",
    "\n",
    "                r2_losses = [] \n",
    "                r2_losses_perm = [] \n",
    "                for k in range(tp):\n",
    "                    r2_loss_t= r2_score(images_target[:,k].to('cpu').numpy(), x_next[:,k].to('cpu').numpy())\n",
    "                    r2_loss_t_perm = r2_score(images_target[:,k].to('cpu').numpy(), x_next_perm[:,k].to('cpu').numpy()) \n",
    "\n",
    "                    r2_losses.append(r2_loss_t)\n",
    "                    r2_losses_perm.append(r2_loss_t_perm)\n",
    "                    \n",
    "                scores.append(torch.tensor(r2_losses))\n",
    "                scores_perm.append(torch.tensor(r2_losses_perm))\n",
    "                \n",
    "        scores = torch.stack(scores)\n",
    "        scores_perm = torch.stack(scores_perm)\n",
    "\n",
    "\n",
    "        av_score = torch.mean(scores, axis=0)\n",
    "        av_var = torch.var(scores, axis=0)\n",
    "        \n",
    "        av_score_perm = torch.mean(scores_perm, axis=0)\n",
    "        av_var_perm = torch.var(scores_perm, axis=0)        \n",
    "        results_equiv[targdir] = {'stat': [av_score, av_var], 'equiv_stat' : [av_score_perm, av_var_perm] } "
   ]
  },
  {
   "cell_type": "code",
   "execution_count": 38,
   "id": "54551bd7",
   "metadata": {},
   "outputs": [
    {
     "data": {
      "text/plain": [
       "{'data_filenameso3dat_sphere_Linearpt_nameSeqAELSTSQ_LinearNet': {'stat': [tensor([0.9998, 0.9998, 0.9998], dtype=torch.float64),\n",
       "   tensor([3.7622e-10, 2.2492e-10, 2.2275e-10], dtype=torch.float64)],\n",
       "  'equiv_stat': [tensor([0.9998, 0.9998, 0.9998], dtype=torch.float64),\n",
       "   tensor([3.7622e-10, 2.2492e-10, 2.2275e-10], dtype=torch.float64)]},\n",
       " 'data_filenameso3dat_sphere_Linearpt_nameSeqAELSTSQ_so3Net': {'stat': [tensor([0.9995, 0.9994, 0.9994], dtype=torch.float64),\n",
       "   tensor([2.7029e-09, 3.3441e-09, 3.1236e-09], dtype=torch.float64)],\n",
       "  'equiv_stat': [tensor([0.9995, 0.9994, 0.9994], dtype=torch.float64),\n",
       "   tensor([2.7029e-09, 3.3441e-09, 3.1236e-09], dtype=torch.float64)]}}"
      ]
     },
     "execution_count": 38,
     "metadata": {},
     "output_type": "execute_result"
    }
   ],
   "source": [
    "results_equiv"
   ]
  },
  {
   "cell_type": "markdown",
   "id": "416a0e29",
   "metadata": {},
   "source": [
    "# Block Diag"
   ]
  },
  {
   "cell_type": "code",
   "execution_count": 45,
   "id": "b5767d94",
   "metadata": {},
   "outputs": [],
   "source": [
    "check_idx = 0\n",
    "checknet = list(results.keys())[check_idx]\n"
   ]
  },
  {
   "cell_type": "code",
   "execution_count": 46,
   "id": "6a6d00ff",
   "metadata": {},
   "outputs": [
    {
     "data": {
      "image/png": "[encoded data removed]",
      "text/plain": [
       "<Figure size 720x720 with 10 Axes>"
      ]
     },
     "metadata": {
      "needs_background": "light"
     },
     "output_type": "display_data"
    }
   ],
   "source": [
    "plt.figure(figsize=(10, 10))\n",
    "S = inferred_Ms[checknet].to('cpu')\n",
    "toshow=10\n",
    "for k in range(toshow):\n",
    "    plt.subplot(1, toshow, k+1)\n",
    "    plt.imshow(S[k])"
   ]
  },
  {
   "cell_type": "code",
   "execution_count": 47,
   "id": "ac056dcd",
   "metadata": {},
   "outputs": [
    {
     "name": "stdout",
     "output_type": "stream",
     "text": [
      "torch.Size([10000, 6, 6])\n",
      "torch.Size([10000, 6, 6])\n"
     ]
    }
   ],
   "source": [
    "print(inferred_Ms[checknet].shape)\n",
    "S = inferred_Ms[checknet].detach()\n",
    "#STS = torch.matmul(S.transpose(-2, -1), S)\n",
    "#STS[0] - S[0].transpose(0,1) @ S[0] \n",
    "print(S.shape)"
   ]
  },
  {
   "cell_type": "code",
   "execution_count": 48,
   "id": "4a3bd390",
   "metadata": {},
   "outputs": [
    {
     "name": "stdout",
     "output_type": "stream",
     "text": [
      "ep:9 loss:2.620710732650757\n",
      "ep:19 loss:2.62028666305542\n",
      "ep:29 loss:2.619670811843872\n",
      "ep:39 loss:2.6191237701416017\n",
      "ep:49 loss:2.618958590698242\n"
     ]
    }
   ],
   "source": [
    "# Is this method really working? \n",
    "from utils import optimize_bd_cob as obc\n",
    "from importlib import reload\n",
    "reload(obc)\n",
    "\n",
    "Pmat = obc.optimize_bd_cob(S, epochs_monitor=10, n_epochs=50, lr=0.01)\n",
    "\n"
   ]
  },
  {
   "cell_type": "code",
   "execution_count": 49,
   "id": "9296eb35",
   "metadata": {},
   "outputs": [
    {
     "data": {
      "image/png": "[encoded data removed]",
      "text/plain": [
       "<Figure size 720x72 with 10 Axes>"
      ]
     },
     "metadata": {
      "needs_background": "light"
     },
     "output_type": "display_data"
    }
   ],
   "source": [
    "PSP = torch.abs(Pmat(S).detach().to('cpu'))\n",
    "toshow = 10\n",
    "plt.figure(figsize= (toshow, 1))\n",
    "for k in range(toshow):\n",
    "    plt.subplot(1, toshow, k+1)\n",
    "    plt.imshow(PSP[k])"
   ]
  },
  {
   "cell_type": "code",
   "execution_count": 50,
   "id": "bd570002",
   "metadata": {},
   "outputs": [
    {
     "data": {
      "text/plain": [
       "<matplotlib.image.AxesImage at 0x7f6333d0feb0>"
      ]
     },
     "execution_count": 50,
     "metadata": {},
     "output_type": "execute_result"
    },
    {
     "data": {
      "image/png": "[encoded data removed]",
      "text/plain": [
       "<Figure size 432x288 with 1 Axes>"
      ]
     },
     "metadata": {
      "needs_background": "light"
     },
     "output_type": "display_data"
    }
   ],
   "source": [
    "plt.imshow(torch.mean(torch.abs(PSP) , axis =0).detach())"
   ]
  },
  {
   "cell_type": "code",
   "execution_count": 51,
   "id": "8631c312",
   "metadata": {},
   "outputs": [
    {
     "data": {
      "image/png": "[encoded data removed]",
      "text/plain": [
       "<Figure size 720x144 with 10 Axes>"
      ]
     },
     "metadata": {
      "needs_background": "light"
     },
     "output_type": "display_data"
    },
    {
     "data": {
      "image/png": "[encoded data removed]",
      "text/plain": [
       "<Figure size 720x144 with 10 Axes>"
      ]
     },
     "metadata": {
      "needs_background": "light"
     },
     "output_type": "display_data"
    },
    {
     "data": {
      "image/png": "[encoded data removed]",
      "text/plain": [
       "<Figure size 720x144 with 10 Axes>"
      ]
     },
     "metadata": {
      "needs_background": "light"
     },
     "output_type": "display_data"
    }
   ],
   "source": [
    "plt.figure(figsize=(10, 2))\n",
    "pairs = []\n",
    "for k in range(10):\n",
    "    plt.subplot(1, 10, k+1)\n",
    "    k0, k1 = np.random.choice(len(PSP), size=2)\n",
    "    pairs.append([k0, k1])\n",
    "    plt.imshow(torch.abs( PSP[k0] @ PSP[k1] -  PSP[k1] @ PSP[k0] ), vmin=0, vmax=1 )\n",
    "\n",
    "plt.figure(figsize=(10, 2))\n",
    "for k in range(10):\n",
    "    plt.subplot(1, 10, k+1)\n",
    "    plt.imshow(torch.abs(PSP[pairs[k][0]] ), vmin=0, vmax=1 )\n",
    "\n",
    "plt.figure(figsize=(10, 2))\n",
    "for k in range(10):\n",
    "    plt.subplot(1, 10, k+1)\n",
    "    plt.imshow(torch.abs(PSP[pairs[k][1]] ), vmin=0, vmax=1 )"
   ]
  },
  {
   "cell_type": "code",
   "execution_count": 52,
   "id": "7d875919",
   "metadata": {},
   "outputs": [
    {
     "data": {
      "text/plain": [
       "{'args': {'T': 8,\n",
       "  'data_filename': 'so3dat_sphere_Linear_shared_trans.pt',\n",
       "  'datamode': 'so3',\n",
       "  'train': True},\n",
       " 'fn': './datasets/so3_data.py',\n",
       " 'name': 'SO3rotationSequence'}"
      ]
     },
     "execution_count": 52,
     "metadata": {},
     "output_type": "execute_result"
    }
   ],
   "source": [
    "dataconfig"
   ]
  },
  {
   "cell_type": "code",
   "execution_count": 53,
   "id": "68572bbc",
   "metadata": {},
   "outputs": [],
   "source": [
    "datname = 'so3dat_sphere_Linear.pt'\n",
    "dat_path = os.path.join(dat_root, datname)\n",
    "#with open(dat_path, 'r') as f:\n",
    "mydat = torch.load(dat_path) \n",
    "latent = mydat['latent']\n",
    "\n"
   ]
  },
  {
   "cell_type": "code",
   "execution_count": 54,
   "id": "7cf9d2cd",
   "metadata": {},
   "outputs": [
    {
     "data": {
      "text/plain": [
       "tensor([[ 0.1346,  0.9520, -0.2750,  0.0000,  0.0000,  0.0000],\n",
       "        [ 0.8247,  0.0462,  0.5636,  0.0000,  0.0000,  0.0000],\n",
       "        [ 0.5493, -0.3026, -0.7789,  0.0000,  0.0000,  0.0000],\n",
       "        [ 0.0000,  0.0000,  0.0000,  0.1463, -0.9488,  0.2799],\n",
       "        [ 0.0000,  0.0000,  0.0000,  0.9864,  0.1612,  0.0309],\n",
       "        [ 0.0000,  0.0000,  0.0000, -0.0744,  0.2716,  0.9595]])"
      ]
     },
     "execution_count": 54,
     "metadata": {},
     "output_type": "execute_result"
    }
   ],
   "source": [
    "myt = 4\n",
    "idx = 0\n",
    "mydat['trans'][idx][myt]"
   ]
  },
  {
   "cell_type": "code",
   "execution_count": null,
   "id": "3f531807",
   "metadata": {},
   "outputs": [],
   "source": [
    "\n"
   ]
  },
  {
   "cell_type": "code",
   "execution_count": null,
   "id": "4a4250c2",
   "metadata": {},
   "outputs": [],
   "source": []
  },
  {
   "cell_type": "code",
   "execution_count": 28,
   "id": "3ea2976a",
   "metadata": {},
   "outputs": [
    {
     "data": {
      "text/plain": [
       "{'args': {'ch_x': 1, 'dim_a': 6, 'dim_m': 10, 'k': 2.0, 'predictive': True},\n",
       " 'fn': './models/seqae.py',\n",
       " 'name': 'SeqAELSTSQ_LinearNet'}"
      ]
     },
     "execution_count": 28,
     "metadata": {},
     "output_type": "execute_result"
    }
   ],
   "source": [
    "model_configs[checknet]"
   ]
  },
  {
   "cell_type": "markdown",
   "id": "5d9d3c98",
   "metadata": {},
   "source": [
    "# DEBUG if the transformation computed from trueinvnet, trueembed and true transformation agrees with the estimated transformation"
   ]
  },
  {
   "cell_type": "code",
   "execution_count": 29,
   "id": "1be03dde",
   "metadata": {},
   "outputs": [
    {
     "name": "stdout",
     "output_type": "stream",
     "text": [
      "True\n"
     ]
    },
    {
     "data": {
      "text/plain": [
       "<All keys matched successfully>"
      ]
     },
     "execution_count": 29,
     "metadata": {},
     "output_type": "execute_result"
    }
   ],
   "source": [
    "invpath = os.path.join(dat_root, 'so3dat_sphere_Linear_model_invhat.pt') \n",
    "embedpath = os.path.join(dat_root, 'so3dat_sphere_Linear_model.pt') \n",
    "print(os.path.exists(embedpath))\n",
    "\n",
    "checkmodel = copy.deepcopy(models[checknet])\n",
    "\n",
    "# checkmodel.enc\n",
    "\n",
    "dec_dict = torch.load(embedpath)\n",
    "enc_dict = torch.load(invpath)\n",
    "\n",
    "checkmodel.enc.load_state_dict(enc_dict, strict=False)\n",
    "checkmodel.dec.load_state_dict(dec_dict, strict=False)\n",
    "\n",
    "#         embed_fxn.load_state_dict(embed_dict, strict=False)"
   ]
  },
  {
   "cell_type": "code",
   "execution_count": 43,
   "id": "70923996",
   "metadata": {},
   "outputs": [],
   "source": [
    "results = {} \n",
    "inferred_Ms = {} \n",
    "model_configs = {}\n",
    "models = {}\n",
    "tp = 3\n",
    "n_cond = 5\n",
    "\n",
    "\n",
    "    \n",
    "Mlist = [] \n",
    "targdir_path = os.path.join(exp_result, targdir)\n",
    "config = load_config(targdir_path)\n",
    "\n",
    "dataconfig = config['train_data']\n",
    "dataconfig['args']['T'] = tp + n_cond\n",
    "\n",
    "data = yu.load_component(dataconfig)\n",
    "train_loader = DataLoader(data, \n",
    "                      batch_size=config['batchsize'],\n",
    "                      shuffle=True,\n",
    "                      num_workers=config['num_workers'])\n",
    "iterlist = iter_list(targdir_path)\n",
    "\n",
    "\n",
    "maxiter = np.max(iter_list(targdir_path))\n",
    "model = checkmodel.eval().to(device)\n",
    "\n",
    "# Initialize lazy modules\n",
    "images = iter(train_loader).next()\n",
    "images = images.to(device)\n",
    "model(images[:, :2])\n",
    "\n",
    "with torch.no_grad():\n",
    "    scores = [] \n",
    "    for idx, images in enumerate(train_loader):\n",
    "        images = images.to(device)\n",
    "        images_cond = images[:, :n_cond]\n",
    "        images_target = images[:, n_cond:n_cond+tp]\n",
    "        M = model.get_M(images_cond) #n a a\n",
    "        H = model.encode(images_cond[:, -1:])[:, 0] # n s a\n",
    "        \n",
    "        xs = []\n",
    "        for r in range(tp):\n",
    "            H = H @ M \n",
    "            x_next_t = model.decode(H[:, None])\n",
    "            xs.append(x_next_t)\n",
    "\n",
    "        x_next = torch.cat(xs, axis=1)\n",
    "        r2_losses = [] \n",
    "        for k in range(tp):\n",
    "            r2_loss_t = r2_score(images_target[:,k].to('cpu').numpy(), x_next[:,k].to('cpu').numpy()) \n",
    "            r2_losses.append(r2_loss_t)\n",
    "        scores.append(torch.tensor(r2_losses))\n",
    "        Mlist.append(M)\n",
    "\n",
    "\n",
    "Mlist = torch.cat(Mlist).to('cpu').detach()       \n",
    "scores = torch.stack(scores)\n",
    "av_score = torch.mean(scores, axis=0)\n",
    "av_var = torch.var(scores, axis=0)\n",
    "results_true_est = [av_score, av_var]\n",
    "models['true'] = model.to('cpu')\n",
    "\n",
    "\n",
    "    "
   ]
  },
  {
   "cell_type": "code",
   "execution_count": 44,
   "id": "083a7861",
   "metadata": {},
   "outputs": [
    {
     "data": {
      "text/plain": [
       "[tensor([0.9938, 0.9834, 0.9773], dtype=torch.float64),\n",
       " tensor([2.3716e-06, 1.3744e-05, 2.3213e-05], dtype=torch.float64)]"
      ]
     },
     "execution_count": 44,
     "metadata": {},
     "output_type": "execute_result"
    }
   ],
   "source": [
    "results_true_est"
   ]
  },
  {
   "cell_type": "code",
   "execution_count": 45,
   "id": "4bd88a63",
   "metadata": {},
   "outputs": [
    {
     "data": {
      "text/plain": [
       "<matplotlib.image.AxesImage at 0x7fc683c9ef10>"
      ]
     },
     "execution_count": 45,
     "metadata": {},
     "output_type": "execute_result"
    },
    {
     "data": {
      "image/png": "[encoded data removed]",
      "text/plain": [
       "<Figure size 432x288 with 1 Axes>"
      ]
     },
     "metadata": {
      "needs_background": "light"
     },
     "output_type": "display_data"
    }
   ],
   "source": [
    "checkidx  = 0\n",
    "plt.imshow(Mlist[checkidx].to('cpu').detach())"
   ]
  },
  {
   "cell_type": "code",
   "execution_count": 40,
   "id": "6bd9299a",
   "metadata": {},
   "outputs": [
    {
     "name": "stdout",
     "output_type": "stream",
     "text": [
      "ep:0 loss:0.5872461443901063\n",
      "ep:1 loss:0.5851141952991485\n",
      "ep:2 loss:0.5833200106620788\n",
      "ep:3 loss:0.5818956483840942\n",
      "ep:4 loss:0.5828102076530457\n",
      "ep:5 loss:0.5826812686920166\n",
      "ep:6 loss:0.5819166193008423\n",
      "ep:7 loss:0.5813127601623536\n",
      "ep:8 loss:0.5806533292770386\n",
      "ep:9 loss:0.5800217784881592\n"
     ]
    },
    {
     "data": {
      "image/png": "[encoded data removed]",
      "text/plain": [
       "<Figure size 720x72 with 10 Axes>"
      ]
     },
     "metadata": {
      "needs_background": "light"
     },
     "output_type": "display_data"
    }
   ],
   "source": [
    "Pmat = obc.optimize_bd_cob(Mlist, epochs_monitor=1, n_epochs=10, lr=0.01)\n",
    "PSP = torch.abs(Pmat(S).detach().to('cpu'))\n",
    "toshow = 10\n",
    "plt.figure(figsize= (toshow, 1))\n",
    "for k in range(toshow):\n",
    "    plt.subplot(1, toshow, k+1)\n",
    "    plt.imshow(PSP[k])\n"
   ]
  },
  {
   "cell_type": "code",
   "execution_count": 47,
   "id": "79acf914",
   "metadata": {},
   "outputs": [
    {
     "data": {
      "text/plain": [
       "<matplotlib.image.AxesImage at 0x7fc681609100>"
      ]
     },
     "execution_count": 47,
     "metadata": {},
     "output_type": "execute_result"
    },
    {
     "data": {
      "image/png": "[encoded data removed]",
      "text/plain": [
       "<Figure size 432x288 with 1 Axes>"
      ]
     },
     "metadata": {
      "needs_background": "light"
     },
     "output_type": "display_data"
    }
   ],
   "source": [
    "checkidx = 0\n",
    "plt.imshow(Mlist[checkidx])"
   ]
  },
  {
   "cell_type": "code",
   "execution_count": null,
   "id": "5d9a1a6b",
   "metadata": {},
   "outputs": [],
   "source": []
  }
 ],
 "metadata": {
  "kernelspec": {
   "display_name": "Python 3 (ipykernel)",
   "language": "python",
   "name": "python3"
  },
  "language_info": {
   "codemirror_mode": {
    "name": "ipython",
    "version": 3
   },
   "file_extension": ".py",
   "mimetype": "text/x-python",
   "name": "python",
   "nbconvert_exporter": "python",
   "pygments_lexer": "ipython3",
   "version": "3.8.9"
  }
 },
 "nbformat": 4,
 "nbformat_minor": 5
}
