{
 "cells": [
  {
   "cell_type": "code",
   "execution_count": 11,
   "id": "f72cfa87",
   "metadata": {},
   "outputs": [
    {
     "data": {
      "text/plain": [
       "<module 'datasets.so3_data' from '../datasets/so3_data.py'>"
      ]
     },
     "execution_count": 11,
     "metadata": {},
     "output_type": "execute_result"
    }
   ],
   "source": [
    "import sys\n",
    "sys.path.append('../datasets')\n",
    "sys.path.append('../')\n",
    "from datasets import so3_data as so\n",
    "from importlib import reload\n",
    "import matplotlib.pyplot as plt\n",
    "import torch\n",
    "import colorsys\n",
    "import numpy as np\n",
    "\n",
    "\n",
    "reload(so)"
   ]
  },
  {
   "cell_type": "code",
   "execution_count": 12,
   "id": "8891210e",
   "metadata": {},
   "outputs": [
    {
     "name": "stdout",
     "output_type": "stream",
     "text": [
      "0 videos processed.\n",
      "1000 videos processed.\n",
      "2000 videos processed.\n",
      "3000 videos processed.\n",
      "4000 videos processed.\n",
      "5000 videos processed.\n",
      "6000 videos processed.\n",
      "7000 videos processed.\n",
      "8000 videos processed.\n",
      "9000 videos processed.\n",
      "dataset saved at /mnt/nfs-mnj-hot-01/tmp/masomatics/block_diag/datasets/so3/so3dat_sphere_Linear.pt\n"
     ]
    }
   ],
   "source": [
    "reload(so)\n",
    "so.create_dataset(embed_fxn_mode='Linear', match_dimen=False)"
   ]
  },
  {
   "cell_type": "code",
   "execution_count": 13,
   "id": "d4f2e07f",
   "metadata": {},
   "outputs": [],
   "source": [
    "mydata = torch.load('/mnt/nfs-mnj-hot-01/tmp/masomatics/block_diag/datasets/so3/so3dat_sphere_Linear.pt')\n",
    "\n"
   ]
  },
  {
   "cell_type": "code",
   "execution_count": 14,
   "id": "95c18050",
   "metadata": {},
   "outputs": [
    {
     "data": {
      "text/plain": [
       "torch.Size([15, 1, 1, 1, 120])"
      ]
     },
     "execution_count": 14,
     "metadata": {},
     "output_type": "execute_result"
    }
   ],
   "source": [
    "mydata['data'][0].shape"
   ]
  },
  {
   "cell_type": "code",
   "execution_count": null,
   "id": "f34b49f4",
   "metadata": {},
   "outputs": [],
   "source": []
  }
 ],
 "metadata": {
  "kernelspec": {
   "display_name": "Python 3 (ipykernel)",
   "language": "python",
   "name": "python3"
  },
  "language_info": {
   "codemirror_mode": {
    "name": "ipython",
    "version": 3
   },
   "file_extension": ".py",
   "mimetype": "text/x-python",
   "name": "python",
   "nbconvert_exporter": "python",
   "pygments_lexer": "ipython3",
   "version": "3.8.9"
  }
 },
 "nbformat": 4,
 "nbformat_minor": 5
}
