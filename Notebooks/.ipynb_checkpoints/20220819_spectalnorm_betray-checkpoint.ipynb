{
 "cells": [
  {
   "cell_type": "code",
   "execution_count": 2,
   "id": "35a00e63",
   "metadata": {},
   "outputs": [],
   "source": [
    "import numpy as np\n",
    "import torch"
   ]
  },
  {
   "cell_type": "code",
   "execution_count": 55,
   "id": "b991ad3c",
   "metadata": {},
   "outputs": [],
   "source": [
    "dim=3\n",
    "\n",
    "mymat = torch.tensor(np.random.uniform(size=(dim, dim))).float()\n",
    "\n",
    "\n",
    "\n",
    "\n"
   ]
  },
  {
   "cell_type": "code",
   "execution_count": 83,
   "id": "36e49ddd",
   "metadata": {},
   "outputs": [
    {
     "name": "stdout",
     "output_type": "stream",
     "text": [
      "3 3\n",
      "torch.Size([3, 1])\n",
      "tensor([[1.8355],\n",
      "        [1.8355],\n",
      "        [1.8355]])\n",
      "tensor([[1.8355, 1.8355, 1.8355]])\n",
      "tensor([[1.7107]])\n",
      "tensor([1.8355, 0.1154, 0.1154])\n",
      "tensor([1.9606, 0.5902, 0.2607])\n"
     ]
    },
    {
     "data": {
      "text/plain": [
       "(tensor([[0.4795, 0.8058, 0.3474]]),\n",
       " tensor([[0.6484],\n",
       "         [0.5389],\n",
       "         [0.5378]]))"
      ]
     },
     "execution_count": 83,
     "metadata": {},
     "output_type": "execute_result"
    }
   ],
   "source": [
    "def specnorm0(weightmat, repeat=3): \n",
    "    mydim0 = weightmat.shape[0]\n",
    "    mydim1 = weightmat.shape[1]\n",
    "\n",
    "    print(mydim0, mydim1)\n",
    "    random_vec_r = torch.tensor(np.random.uniform(size=(mydim1,1))).float()\n",
    "    random_vec_l = torch.tensor(np.random.uniform(size=(1, mydim0))).float() \n",
    "\n",
    "    \n",
    "    for k in range(repeat):\n",
    "        random_vec_r = weightmat @ random_vec_r \n",
    "        random_vec_r = random_vec_r / torch.sqrt(torch.sum(random_vec_r**2))\n",
    "        \n",
    "        random_vec_l = random_vec_l @ weightmat\n",
    "        random_vec_l = random_vec_l / torch.sqrt(torch.sum(random_vec_l**2))\n",
    "\n",
    "    print( (weightmat @ random_vec_r )/ random_vec_r)\n",
    "    print( (random_vec_l @ weightmat) / random_vec_l)\n",
    "    print( random_vec_l @ weightmat @ random_vec_r)\n",
    "    print( torch.real(torch.linalg.eig(weightmat).eigenvalues))\n",
    "    print( torch.linalg.svd(weightmat).S)\n",
    "\n",
    "    return random_vec_l, random_vec_r\n",
    "\n",
    "\n",
    "    \n",
    "    \n",
    "def specnorm1(weightmat, repeat=3): \n",
    "    mydim0 = weightmat.shape[0]\n",
    "    mydim1 = weightmat.shape[1]\n",
    "\n",
    "    random_vec_r = torch.tensor(np.random.uniform(size=(mydim1,1))).float()\n",
    "    random_vec_l = torch.tensor(np.random.uniform(size=(mydim0,1))).float() \n",
    "\n",
    "    for k in range(repeat):\n",
    "        random_vec_l = weightmat @ random_vec_r \n",
    "        random_vec_l = random_vec_l / torch.sqrt(torch.sum(random_vec_l**2))\n",
    "        \n",
    "        random_vec_r = weightmat.permute([1,0]) @ random_vec_l\n",
    "        random_vec_r = random_vec_r / torch.sqrt(torch.sum(random_vec_r**2))\n",
    "\n",
    "    pdb.set_trace()\n",
    "    print( (weightmat @ random_vec_r )/ random_vec_r)\n",
    "    print( (weightmat.permute([1,0]) @ random_vec_l ) / random_vec_l)\n",
    "    print( random_vec_l.permute([1,0]) @ weightmat @ random_vec_r)\n",
    "    print( torch.real(torch.linalg.eig(weightmat).eigenvalues))\n",
    "    print( torch.linalg.svd(weightmat).S)\n",
    "\n",
    "\n",
    "        \n",
    "    return random_vec_l, random_vec_r\n",
    "\n",
    "\n",
    "\n",
    "specnorm0(mymat, repeat=10)"
   ]
  },
  {
   "cell_type": "code",
   "execution_count": 84,
   "id": "c9b7f15c",
   "metadata": {},
   "outputs": [
    {
     "name": "stdout",
     "output_type": "stream",
     "text": [
      "3 3\n",
      "torch.Size([3, 1])\n",
      "tensor([[3.7993],\n",
      "        [3.7991],\n",
      "        [3.8002]])\n",
      "tensor([[3.7995, 3.7992, 3.7998]])\n",
      "tensor([[3.7994]])\n",
      "tensor([ 3.7994, -0.1626,  0.4957])\n",
      "tensor([3.7994, 0.4957, 0.1626])\n",
      "tensor([[3.7994],\n",
      "        [3.7994],\n",
      "        [3.7994]])\n",
      "tensor([[3.7994],\n",
      "        [3.7995],\n",
      "        [3.7994]])\n",
      "tensor([[3.7994]])\n",
      "tensor([ 3.7994, -0.1626,  0.4957])\n",
      "tensor([3.7994, 0.4957, 0.1626])\n"
     ]
    },
    {
     "data": {
      "text/plain": [
       "(tensor([[0.5451],\n",
       "         [0.6845],\n",
       "         [0.4842]]),\n",
       " tensor([[0.5451],\n",
       "         [0.6845],\n",
       "         [0.4842]]))"
      ]
     },
     "execution_count": 84,
     "metadata": {},
     "output_type": "execute_result"
    }
   ],
   "source": [
    "mymat_symm = mymat + mymat.permute([1,0])\n",
    "specnorm0(mymat_symm, repeat=3)\n",
    "\n",
    "\n",
    "specnorm1(mymat_symm, repeat=3)"
   ]
  },
  {
   "cell_type": "code",
   "execution_count": 85,
   "id": "4cfc0fe4",
   "metadata": {},
   "outputs": [],
   "source": [
    "yourmat = torch.tensor(np.random.uniform(size=(dim, dim*2))).float()\n",
    "\n"
   ]
  },
  {
   "cell_type": "code",
   "execution_count": 87,
   "id": "a6a76391",
   "metadata": {},
   "outputs": [
    {
     "ename": "RuntimeError",
     "evalue": "The size of tensor a (3) must match the size of tensor b (6) at non-singleton dimension 0",
     "output_type": "error",
     "traceback": [
      "\u001b[0;31m---------------------------------------------------------------------------\u001b[0m",
      "\u001b[0;31mRuntimeError\u001b[0m                              Traceback (most recent call last)",
      "\u001b[0;32m/tmp/ipykernel_178992/2214462342.py\u001b[0m in \u001b[0;36m<module>\u001b[0;34m\u001b[0m\n\u001b[0;32m----> 1\u001b[0;31m \u001b[0mspecnorm1\u001b[0m\u001b[0;34m(\u001b[0m\u001b[0myourmat\u001b[0m\u001b[0;34m)\u001b[0m\u001b[0;34m\u001b[0m\u001b[0;34m\u001b[0m\u001b[0m\n\u001b[0m",
      "\u001b[0;32m/tmp/ipykernel_178992/2150290498.py\u001b[0m in \u001b[0;36mspecnorm1\u001b[0;34m(weightmat, repeat)\u001b[0m\n\u001b[1;32m     42\u001b[0m \u001b[0;34m\u001b[0m\u001b[0m\n\u001b[1;32m     43\u001b[0m \u001b[0;34m\u001b[0m\u001b[0m\n\u001b[0;32m---> 44\u001b[0;31m     \u001b[0mprint\u001b[0m\u001b[0;34m(\u001b[0m \u001b[0;34m(\u001b[0m\u001b[0mweightmat\u001b[0m \u001b[0;34m@\u001b[0m \u001b[0mrandom_vec_r\u001b[0m \u001b[0;34m)\u001b[0m\u001b[0;34m/\u001b[0m \u001b[0mrandom_vec_r\u001b[0m\u001b[0;34m)\u001b[0m\u001b[0;34m\u001b[0m\u001b[0;34m\u001b[0m\u001b[0m\n\u001b[0m\u001b[1;32m     45\u001b[0m     \u001b[0mprint\u001b[0m\u001b[0;34m(\u001b[0m \u001b[0;34m(\u001b[0m\u001b[0mweightmat\u001b[0m\u001b[0;34m.\u001b[0m\u001b[0mpermute\u001b[0m\u001b[0;34m(\u001b[0m\u001b[0;34m[\u001b[0m\u001b[0;36m1\u001b[0m\u001b[0;34m,\u001b[0m\u001b[0;36m0\u001b[0m\u001b[0;34m]\u001b[0m\u001b[0;34m)\u001b[0m \u001b[0;34m@\u001b[0m \u001b[0mrandom_vec_l\u001b[0m \u001b[0;34m)\u001b[0m \u001b[0;34m/\u001b[0m \u001b[0mrandom_vec_l\u001b[0m\u001b[0;34m)\u001b[0m\u001b[0;34m\u001b[0m\u001b[0;34m\u001b[0m\u001b[0m\n\u001b[1;32m     46\u001b[0m     \u001b[0mprint\u001b[0m\u001b[0;34m(\u001b[0m \u001b[0mrandom_vec_l\u001b[0m\u001b[0;34m.\u001b[0m\u001b[0mpermute\u001b[0m\u001b[0;34m(\u001b[0m\u001b[0;34m[\u001b[0m\u001b[0;36m1\u001b[0m\u001b[0;34m,\u001b[0m\u001b[0;36m0\u001b[0m\u001b[0;34m]\u001b[0m\u001b[0;34m)\u001b[0m \u001b[0;34m@\u001b[0m \u001b[0mweightmat\u001b[0m \u001b[0;34m@\u001b[0m \u001b[0mrandom_vec_r\u001b[0m\u001b[0;34m)\u001b[0m\u001b[0;34m\u001b[0m\u001b[0;34m\u001b[0m\u001b[0m\n",
      "\u001b[0;31mRuntimeError\u001b[0m: The size of tensor a (3) must match the size of tensor b (6) at non-singleton dimension 0"
     ]
    }
   ],
   "source": [
    "specnorm1(yourmat)"
   ]
  },
  {
   "cell_type": "code",
   "execution_count": null,
   "id": "5fd62a92",
   "metadata": {},
   "outputs": [],
   "source": []
  }
 ],
 "metadata": {
  "kernelspec": {
   "display_name": "Python 3 (ipykernel)",
   "language": "python",
   "name": "python3"
  },
  "language_info": {
   "codemirror_mode": {
    "name": "ipython",
    "version": 3
   },
   "file_extension": ".py",
   "mimetype": "text/x-python",
   "name": "python",
   "nbconvert_exporter": "python",
   "pygments_lexer": "ipython3",
   "version": "3.8.9"
  }
 },
 "nbformat": 4,
 "nbformat_minor": 5
}
