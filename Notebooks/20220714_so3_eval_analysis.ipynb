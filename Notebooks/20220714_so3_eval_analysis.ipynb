{
 "cells": [
  {
   "cell_type": "code",
   "execution_count": 71,
   "id": "6937fe7c",
   "metadata": {},
   "outputs": [],
   "source": [
    "import os\n",
    "import sys\n",
    "sys.path.append('../')\n",
    "sys.path.append('../datasets')\n",
    "sys.path.append('../models')\n",
    "import torch\n",
    "import torchvision\n",
    "import torch.backends.cudnn as cudnn\n",
    "import random\n",
    "import numpy as np\n",
    "import matplotlib.pyplot as plt\n",
    "from torch.utils.data import DataLoader\n",
    "from importlib import reload\n",
    "from datasets.three_dim_shapes import ThreeDimShapesDataset\n",
    "from datasets.small_norb import SmallNORBDataset\n",
    "from datasets.seq_mnist import SequentialMNIST\n",
    "import models.seqae as seqae\n",
    "from sklearn.multioutput import MultiOutputRegressor\n",
    "from sklearn.linear_model import Ridge\n",
    "from datasets import so3_data as so3d\n",
    "from einops import rearrange\n",
    "from sklearn.metrics import r2_score\n",
    "import pdb\n",
    "import copy\n",
    "\n",
    "import csv\n",
    "import ast\n",
    "from source import yaml_utils as yu\n",
    "\n",
    "\n",
    "from tqdm import tqdm\n",
    "\n",
    "if torch.cuda.is_available():\n",
    "    device = torch.device('cuda')\n",
    "    cudnn.deterministic = True\n",
    "    cudnn.benchmark = True\n",
    "else:\n",
    "    device = torch.device('cpu')\n",
    "    gpu_index = -1\n",
    "\n",
    "    \n",
    "    \n",
    "from utils import yaml_utils as yu\n",
    "import yaml\n",
    "rootpath = '/mnt/nfs-mnj-hot-01/tmp/masomatics/block_diag/'\n",
    "result_dir = '/mnt/nfs-mnj-hot-01/tmp/masomatics/block_diag/result'\n",
    "\n",
    "\n"
   ]
  },
  {
   "cell_type": "code",
   "execution_count": 72,
   "id": "52a76242",
   "metadata": {},
   "outputs": [
    {
     "name": "stdout",
     "output_type": "stream",
     "text": [
      "/mnt/nfs-mnj-hot-01/tmp/masomatics/block_diag/result/20220511_so3_exp_0:\r\n",
      "\u001b[0m\u001b[01;34mC_bd0\u001b[0m/  \u001b[01;34mC_bd0id1\u001b[0m/  \u001b[01;34mC_bd0id2\u001b[0m/  config.yml  log\r\n",
      "\r\n",
      "/mnt/nfs-mnj-hot-01/tmp/masomatics/block_diag/result/20220611_so3:\r\n",
      "config.yml                    snapshot_model_iter_20000\r\n",
      "log                           snapshot_model_iter_25000\r\n",
      "snapshot_manager_iter_100000  snapshot_model_iter_30000\r\n",
      "snapshot_model_iter_10000     snapshot_model_iter_40000\r\n",
      "snapshot_model_iter_100000    snapshot_model_iter_50000\r\n",
      "snapshot_model_iter_125000    snapshot_model_iter_75000\r\n",
      "\r\n",
      "/mnt/nfs-mnj-hot-01/tmp/masomatics/block_diag/result/20220611_so3_so3run:\r\n",
      "config.yml                    snapshot_model_iter_175000\r\n",
      "log                           snapshot_model_iter_200000\r\n",
      "snapshot_manager_iter_200000  snapshot_model_iter_25000\r\n",
      "snapshot_model_iter_100000    snapshot_model_iter_50000\r\n",
      "snapshot_model_iter_125000    snapshot_model_iter_75000\r\n",
      "snapshot_model_iter_150000\r\n",
      "\r\n",
      "/mnt/nfs-mnj-hot-01/tmp/masomatics/block_diag/result/20220611_so3_so3run_rcst:\r\n",
      "config.yml                    snapshot_model_iter_175000\r\n",
      "log                           snapshot_model_iter_200000\r\n",
      "snapshot_manager_iter_200000  snapshot_model_iter_25000\r\n",
      "snapshot_model_iter_100000    snapshot_model_iter_50000\r\n",
      "snapshot_model_iter_125000    snapshot_model_iter_75000\r\n",
      "snapshot_model_iter_150000\r\n",
      "\r\n",
      "/mnt/nfs-mnj-hot-01/tmp/masomatics/block_diag/result/20220611_so3_so3run_rcst_iter:\r\n",
      "config.yml                    snapshot_model_iter_175000\r\n",
      "log                           snapshot_model_iter_200000\r\n",
      "snapshot_manager_iter_200000  snapshot_model_iter_25000\r\n",
      "snapshot_model_iter_100000    snapshot_model_iter_50000\r\n",
      "snapshot_model_iter_125000    snapshot_model_iter_75000\r\n",
      "snapshot_model_iter_150000\r\n",
      "\r\n",
      "/mnt/nfs-mnj-hot-01/tmp/masomatics/block_diag/result/20220621_so3_rcst_so3run:\r\n",
      "config.yml  snapshot_manager_iter_50000  snapshot_model_iter_50000\r\n",
      "log         snapshot_model_iter_25000\r\n",
      "\r\n",
      "/mnt/nfs-mnj-hot-01/tmp/masomatics/block_diag/result/20220621_so3_rcst_so3run_rcst:\r\n",
      "config.yml  snapshot_manager_iter_50000  snapshot_model_iter_50000\r\n",
      "log         snapshot_model_iter_25000\r\n",
      "\r\n",
      "/mnt/nfs-mnj-hot-01/tmp/masomatics/block_diag/result/20220628_so3_idnet_0:\r\n",
      "\u001b[01;34mT10\u001b[0m/  \u001b[01;34mT8\u001b[0m/  \u001b[01;34mdim_m10\u001b[0m/  \u001b[01;34mdim_m5\u001b[0m/\r\n",
      "\r\n",
      "/mnt/nfs-mnj-hot-01/tmp/masomatics/block_diag/result/20220628_so3_linear_net_0:\r\n",
      "\u001b[01;34mT8\u001b[0m/\r\n",
      "\r\n",
      "/mnt/nfs-mnj-hot-01/tmp/masomatics/block_diag/result/20220628_so3_various_dat_0:\r\n",
      "\u001b[01;34mdata_filenameso3dat_sphere_Linearpt\u001b[0m/\r\n",
      "\r\n",
      "/mnt/nfs-mnj-hot-01/tmp/masomatics/block_diag/result/20220629_so3_various_dat_0:\r\n",
      "\u001b[01;34mdata_filenameso3dat_sphere_Linearpt\u001b[0m/\r\n",
      "\r\n",
      "/mnt/nfs-mnj-hot-01/tmp/masomatics/block_diag/result/20220630_so3_various_dat_0:\r\n",
      "\u001b[01;34mlr00001_data_filenameso3dat_sphere_Linearpt_nameSeqAELSTSQ_LinearNet\u001b[0m/\r\n",
      "\u001b[01;34mlr00001_data_filenameso3dat_sphere_Linearpt_nameSeqAELSTSQ_so3Net\u001b[0m/\r\n",
      "\u001b[01;34mlr00001_data_filenameso3dat_sphere_MLPpt_nameSeqAELSTSQ_LinearNet\u001b[0m/\r\n",
      "\u001b[01;34mlr00001_data_filenameso3dat_sphere_MLPpt_nameSeqAELSTSQ_so3Net\u001b[0m/\r\n",
      "\u001b[01;34mlr00001_data_filenameso3dat_sphere_iResNetpt_nameSeqAELSTSQ_LinearNet\u001b[0m/\r\n",
      "\u001b[01;34mlr00001_data_filenameso3dat_sphere_iResNetpt_nameSeqAELSTSQ_so3Net\u001b[0m/\r\n",
      "\u001b[01;34mlr0001_data_filenameso3dat_sphere_Linearpt_nameSeqAELSTSQ_LinearNet\u001b[0m/\r\n",
      "\u001b[01;34mlr0001_data_filenameso3dat_sphere_Linearpt_nameSeqAELSTSQ_so3Net\u001b[0m/\r\n",
      "\u001b[01;34mlr0001_data_filenameso3dat_sphere_MLPpt_nameSeqAELSTSQ_LinearNet\u001b[0m/\r\n",
      "\u001b[01;34mlr0001_data_filenameso3dat_sphere_MLPpt_nameSeqAELSTSQ_so3Net\u001b[0m/\r\n",
      "\u001b[01;34mlr0001_data_filenameso3dat_sphere_iResNetpt_nameSeqAELSTSQ_LinearNet\u001b[0m/\r\n",
      "\u001b[01;34mlr0001_data_filenameso3dat_sphere_iResNetpt_nameSeqAELSTSQ_so3Net\u001b[0m/\r\n",
      "\u001b[01;34mlr001_data_filenameso3dat_sphere_Linearpt_nameSeqAELSTSQ_LinearNet\u001b[0m/\r\n",
      "\u001b[01;34mlr001_data_filenameso3dat_sphere_Linearpt_nameSeqAELSTSQ_so3Net\u001b[0m/\r\n",
      "\u001b[01;34mlr001_data_filenameso3dat_sphere_MLPpt_nameSeqAELSTSQ_LinearNet\u001b[0m/\r\n",
      "\u001b[01;34mlr001_data_filenameso3dat_sphere_MLPpt_nameSeqAELSTSQ_so3Net\u001b[0m/\r\n",
      "\u001b[01;34mlr001_data_filenameso3dat_sphere_iResNetpt_nameSeqAELSTSQ_LinearNet\u001b[0m/\r\n",
      "\u001b[01;34mlr001_data_filenameso3dat_sphere_iResNetpt_nameSeqAELSTSQ_so3Net\u001b[0m/\r\n",
      "\r\n",
      "/mnt/nfs-mnj-hot-01/tmp/masomatics/block_diag/result/20220701_so3_various_dat_four_0:\r\n",
      "\u001b[01;34mdata_filenameso3dat_sphere_Linearpt_nameSeqAELSTSQ_LinearNet\u001b[0m/\r\n",
      "\u001b[01;34mdata_filenameso3dat_sphere_Linearpt_nameSeqAELSTSQ_so3Net\u001b[0m/\r\n",
      "\u001b[01;34mdata_filenameso3dat_sphere_MLPpt_nameSeqAELSTSQ_LinearNet\u001b[0m/\r\n",
      "\u001b[01;34mdata_filenameso3dat_sphere_MLPpt_nameSeqAELSTSQ_so3Net\u001b[0m/\r\n",
      "\u001b[01;34mdata_filenameso3dat_sphere_iResNetpt_nameSeqAELSTSQ_LinearNet\u001b[0m/\r\n",
      "\u001b[01;34mdata_filenameso3dat_sphere_iResNetpt_nameSeqAELSTSQ_so3Net\u001b[0m/\r\n",
      "\u001b[01;34mlr00001_data_filenameso3dat_sphere_Linearpt_nameSeqAELSTSQ_LinearNet\u001b[0m/\r\n",
      "\u001b[01;34mlr00001_data_filenameso3dat_sphere_Linearpt_nameSeqAELSTSQ_so3Net\u001b[0m/\r\n",
      "\u001b[01;34mlr00001_data_filenameso3dat_sphere_MLPpt_nameSeqAELSTSQ_LinearNet\u001b[0m/\r\n",
      "\u001b[01;34mlr00001_data_filenameso3dat_sphere_MLPpt_nameSeqAELSTSQ_so3Net\u001b[0m/\r\n",
      "\u001b[01;34mlr00001_data_filenameso3dat_sphere_iResNetpt_nameSeqAELSTSQ_LinearNet\u001b[0m/\r\n",
      "\u001b[01;34mlr00001_data_filenameso3dat_sphere_iResNetpt_nameSeqAELSTSQ_so3Net\u001b[0m/\r\n",
      "\u001b[01;34mlr0001_data_filenameso3dat_sphere_Linearpt_nameSeqAELSTSQ_LinearNet\u001b[0m/\r\n",
      "\u001b[01;34mlr0001_data_filenameso3dat_sphere_Linearpt_nameSeqAELSTSQ_so3Net\u001b[0m/\r\n",
      "\u001b[01;34mlr0001_data_filenameso3dat_sphere_MLPpt_nameSeqAELSTSQ_LinearNet\u001b[0m/\r\n",
      "\u001b[01;34mlr0001_data_filenameso3dat_sphere_MLPpt_nameSeqAELSTSQ_so3Net\u001b[0m/\r\n",
      "\u001b[01;34mlr0001_data_filenameso3dat_sphere_iResNetpt_nameSeqAELSTSQ_LinearNet\u001b[0m/\r\n",
      "\u001b[01;34mlr0001_data_filenameso3dat_sphere_iResNetpt_nameSeqAELSTSQ_so3Net\u001b[0m/\r\n",
      "\r\n",
      "/mnt/nfs-mnj-hot-01/tmp/masomatics/block_diag/result/20220701_so3_various_dat_three_0:\r\n",
      "\u001b[01;34mdata_filenameso3dat_sphere_Linearpt_nameSeqAELSTSQ_LinearNet\u001b[0m/\r\n",
      "\u001b[01;34mdata_filenameso3dat_sphere_Linearpt_nameSeqAELSTSQ_so3Net\u001b[0m/\r\n",
      "\u001b[01;34mdata_filenameso3dat_sphere_MLPpt_nameSeqAELSTSQ_LinearNet\u001b[0m/\r\n",
      "\u001b[01;34mdata_filenameso3dat_sphere_MLPpt_nameSeqAELSTSQ_so3Net\u001b[0m/\r\n",
      "\u001b[01;34mdata_filenameso3dat_sphere_iResNetpt_nameSeqAELSTSQ_LinearNet\u001b[0m/\r\n",
      "\u001b[01;34mdata_filenameso3dat_sphere_iResNetpt_nameSeqAELSTSQ_so3Net\u001b[0m/\r\n",
      "\r\n",
      "/mnt/nfs-mnj-hot-01/tmp/masomatics/block_diag/result/20220701_so3_various_dat_two_0:\r\n",
      "\u001b[01;34mlr00001_data_filenameso3dat_sphere_Linearpt_nameSeqAELSTSQ_LinearNet\u001b[0m/\r\n",
      "\u001b[01;34mlr00001_data_filenameso3dat_sphere_Linearpt_nameSeqAELSTSQ_so3Net\u001b[0m/\r\n",
      "\u001b[01;34mlr00001_data_filenameso3dat_sphere_MLPpt_nameSeqAELSTSQ_LinearNet\u001b[0m/\r\n",
      "\u001b[01;34mlr00001_data_filenameso3dat_sphere_MLPpt_nameSeqAELSTSQ_so3Net\u001b[0m/\r\n",
      "\u001b[01;34mlr00001_data_filenameso3dat_sphere_iResNetpt_nameSeqAELSTSQ_LinearNet\u001b[0m/\r\n",
      "\u001b[01;34mlr00001_data_filenameso3dat_sphere_iResNetpt_nameSeqAELSTSQ_so3Net\u001b[0m/\r\n",
      "\u001b[01;34mlr0001_data_filenameso3dat_sphere_Linearpt_nameSeqAELSTSQ_LinearNet\u001b[0m/\r\n",
      "\u001b[01;34mlr0001_data_filenameso3dat_sphere_Linearpt_nameSeqAELSTSQ_so3Net\u001b[0m/\r\n",
      "\u001b[01;34mlr0001_data_filenameso3dat_sphere_MLPpt_nameSeqAELSTSQ_LinearNet\u001b[0m/\r\n",
      "\u001b[01;34mlr0001_data_filenameso3dat_sphere_MLPpt_nameSeqAELSTSQ_so3Net\u001b[0m/\r\n",
      "\u001b[01;34mlr0001_data_filenameso3dat_sphere_iResNetpt_nameSeqAELSTSQ_LinearNet\u001b[0m/\r\n",
      "\u001b[01;34mlr0001_data_filenameso3dat_sphere_iResNetpt_nameSeqAELSTSQ_so3Net\u001b[0m/\r\n"
     ]
    }
   ],
   "source": [
    "ls /mnt/nfs-mnj-hot-01/tmp/masomatics/block_diag/result/*so3*"
   ]
  },
  {
   "cell_type": "code",
   "execution_count": 70,
   "id": "0514378f",
   "metadata": {},
   "outputs": [
    {
     "data": {
      "text/plain": [
       "['data_filenameso3dat_sphere_MLPpt_nameSeqAELSTSQ_LinearNet',\n",
       " 'data_filenameso3dat_sphere_Linearpt_nameSeqAELSTSQ_LinearNet',\n",
       " 'data_filenameso3dat_sphere_iResNetpt_nameSeqAELSTSQ_so3Net',\n",
       " 'data_filenameso3dat_sphere_Linearpt_nameSeqAELSTSQ_so3Net',\n",
       " 'data_filenameso3dat_sphere_iResNetpt_nameSeqAELSTSQ_LinearNet',\n",
       " 'data_filenameso3dat_sphere_MLPpt_nameSeqAELSTSQ_so3Net']"
      ]
     },
     "execution_count": 70,
     "metadata": {},
     "output_type": "execute_result"
    }
   ],
   "source": [
    "targdir = '20220701_so3_various_dat_three_0'\n",
    "exp_result = os.path.join(result_dir, targdir)\n",
    "\n",
    "\n",
    "def iter_list(log_dir):\n",
    "    dirlist = os.listdir(log_dir)\n",
    "    iterlist = []\n",
    "    for mydir in dirlist:\n",
    "        if 'iter' in mydir:\n",
    "            iterlist.append(int(mydir.split('_')[-1]))\n",
    "    return np.array(iterlist)\n",
    "    \n",
    "    \n",
    "def load_model(model, log_dir, iters, latest=False):\n",
    "    print('snapshot_model_iter_{}'.format(iters))\n",
    "    if latest == True:\n",
    "        iters = np.max(iter_list(log_dir))\n",
    "    model.load_state_dict(torch.load(os.path.join(log_dir, 'snapshot_model_iter_{}'.format(iters))))\n",
    "\n",
    "\n",
    "\n",
    "def load_config(targdir_path):\n",
    "    targ_config_path = os.path.join(targdir_path, 'config.yml')\n",
    "    with open(targ_config_path, 'r') as f:\n",
    "        config = yaml.safe_load(f)\n",
    "    return config\n",
    "    \n",
    "    \n",
    "def filter_names(query, mydict):\n",
    "    filtered = {} \n",
    "    for key in mydict.keys():\n",
    "        if query in key:\n",
    "            filtered[key] = mydict[key]\n",
    "    return filtered\n",
    "    \n",
    "    \n",
    "os.listdir(exp_result)\n",
    "\n"
   ]
  },
  {
   "cell_type": "code",
   "execution_count": 4,
   "id": "1116cdea",
   "metadata": {},
   "outputs": [
    {
     "name": "stderr",
     "output_type": "stream",
     "text": [
      "/usr/local/lib/python3.8/site-packages/torch/nn/modules/lazy.py:178: UserWarning: Lazy modules are a new feature under heavy development so changes to the API or functionality can happen at any moment.\n",
      "  warnings.warn('Lazy modules are a new feature under heavy development '\n"
     ]
    },
    {
     "name": "stdout",
     "output_type": "stream",
     "text": [
      "snapshot_model_iter_1000000\n"
     ]
    },
    {
     "name": "stderr",
     "output_type": "stream",
     "text": [
      "100%|██████████| 313/313 [00:01<00:00, 187.65it/s]\n"
     ]
    },
    {
     "name": "stdout",
     "output_type": "stream",
     "text": [
      "snapshot_model_iter_1000000\n"
     ]
    },
    {
     "name": "stderr",
     "output_type": "stream",
     "text": [
      "/usr/local/lib/python3.8/site-packages/torch/nn/modules/lazy.py:178: UserWarning: Lazy modules are a new feature under heavy development so changes to the API or functionality can happen at any moment.\n",
      "  warnings.warn('Lazy modules are a new feature under heavy development '\n",
      "100%|██████████| 313/313 [00:01<00:00, 206.04it/s]\n"
     ]
    },
    {
     "name": "stdout",
     "output_type": "stream",
     "text": [
      "snapshot_model_iter_1000000\n"
     ]
    },
    {
     "name": "stderr",
     "output_type": "stream",
     "text": [
      "/usr/local/lib/python3.8/site-packages/torch/nn/modules/lazy.py:178: UserWarning: Lazy modules are a new feature under heavy development so changes to the API or functionality can happen at any moment.\n",
      "  warnings.warn('Lazy modules are a new feature under heavy development '\n",
      "100%|██████████| 313/313 [00:01<00:00, 179.10it/s]\n"
     ]
    },
    {
     "name": "stdout",
     "output_type": "stream",
     "text": [
      "snapshot_model_iter_1000000\n"
     ]
    },
    {
     "name": "stderr",
     "output_type": "stream",
     "text": [
      "/usr/local/lib/python3.8/site-packages/torch/nn/modules/lazy.py:178: UserWarning: Lazy modules are a new feature under heavy development so changes to the API or functionality can happen at any moment.\n",
      "  warnings.warn('Lazy modules are a new feature under heavy development '\n",
      "100%|██████████| 313/313 [00:01<00:00, 174.23it/s]\n"
     ]
    },
    {
     "name": "stdout",
     "output_type": "stream",
     "text": [
      "snapshot_model_iter_1000000\n"
     ]
    },
    {
     "name": "stderr",
     "output_type": "stream",
     "text": [
      "/usr/local/lib/python3.8/site-packages/torch/nn/modules/lazy.py:178: UserWarning: Lazy modules are a new feature under heavy development so changes to the API or functionality can happen at any moment.\n",
      "  warnings.warn('Lazy modules are a new feature under heavy development '\n",
      "100%|██████████| 313/313 [00:01<00:00, 180.54it/s]\n"
     ]
    },
    {
     "name": "stdout",
     "output_type": "stream",
     "text": [
      "snapshot_model_iter_1000000\n"
     ]
    },
    {
     "name": "stderr",
     "output_type": "stream",
     "text": [
      "/usr/local/lib/python3.8/site-packages/torch/nn/modules/lazy.py:178: UserWarning: Lazy modules are a new feature under heavy development so changes to the API or functionality can happen at any moment.\n",
      "  warnings.warn('Lazy modules are a new feature under heavy development '\n",
      "100%|██████████| 313/313 [00:01<00:00, 197.95it/s]\n"
     ]
    }
   ],
   "source": [
    "results = {} \n",
    "tp = 3\n",
    "n_cond = 5\n",
    "\n",
    "for targdir in os.listdir(exp_result):\n",
    "    \n",
    "    targdir_path = os.path.join(exp_result, targdir)\n",
    "    config = load_config(targdir_path)\n",
    "    \n",
    "    dataconfig = config['train_data']\n",
    "    dataconfig['args']['T'] = tp + n_cond\n",
    "    \n",
    "    data = yu.load_component(dataconfig)\n",
    "    train_loader = DataLoader(data, \n",
    "                              batch_size=config['batchsize'],\n",
    "                              shuffle=True,\n",
    "                              num_workers=config['num_workers'])\n",
    "    model = yu.load_component(config['model'])\n",
    "    iterlist = iter_list(targdir_path)\n",
    "    \n",
    "    if len(iterlist) == 0:\n",
    "        print(f\"\"\"There is no model trained for {targdir_path}\"\"\")\n",
    "    else:\n",
    "        maxiter = np.max(iter_list(targdir_path))\n",
    "        load_model(model, targdir_path, maxiter)\n",
    "        model = model.eval().to(device)\n",
    "\n",
    "        # Initialize lazy modules\n",
    "        images = iter(train_loader).next()\n",
    "        images = images.to(device)\n",
    "        model(images[:, :2])\n",
    "\n",
    "        with torch.no_grad():\n",
    "            scores = [] \n",
    "            for images in tqdm(train_loader):\n",
    "                images = images.to(device)\n",
    "                images_cond = images[:, :n_cond]\n",
    "                images_target = images[:, n_cond:n_cond+tp]\n",
    "                M = model.get_M(images_cond) #n a a\n",
    "                H = model.encode(images_cond[:, -1:])[:, 0] # n s a\n",
    "\n",
    "                xs = []\n",
    "                for r in range(tp):\n",
    "                    H = H @ M \n",
    "                    x_next_t = model.decode(H[:, None])\n",
    "                    xs.append(x_next_t)\n",
    "\n",
    "                x_next = torch.cat(xs, axis=1)\n",
    "                r2_losses = [] \n",
    "                for k in range(tp):\n",
    "                    r2_loss_t = r2_score(images_target[:,k].to('cpu').numpy(), x_next[:,k].to('cpu').numpy()) \n",
    "                    r2_losses.append(r2_loss_t)\n",
    "                scores.append(torch.tensor(r2_losses))\n",
    "\n",
    "                \n",
    "                \n",
    "        scores = torch.stack(scores)\n",
    "        av_score = torch.mean(scores, axis=0)\n",
    "        av_var = torch.var(scores, axis=0)\n",
    "        results[targdir] = [av_score, av_var]\n",
    "    \n",
    "            \n",
    "            \n",
    "                \n",
    "            \n",
    "\n",
    "            \n",
    "\n",
    "\n",
    "    \n",
    "    \n",
    "    "
   ]
  },
  {
   "cell_type": "code",
   "execution_count": 5,
   "id": "1d6ef0a6",
   "metadata": {},
   "outputs": [
    {
     "data": {
      "text/plain": [
       "{'data_filenameso3dat_sphere_MLPpt_nameSeqAELSTSQ_LinearNet': [tensor([0.4972, 0.2769, 0.0926], dtype=torch.float64),\n",
       "  tensor([0.0015, 0.0025, 0.0039], dtype=torch.float64)],\n",
       " 'data_filenameso3dat_sphere_Linearpt_nameSeqAELSTSQ_LinearNet': [tensor([0.9999, 0.9999, 0.9999], dtype=torch.float64),\n",
       "  tensor([1.0128e-10, 1.1476e-10, 1.1639e-10], dtype=torch.float64)],\n",
       " 'data_filenameso3dat_sphere_iResNetpt_nameSeqAELSTSQ_so3Net': [tensor([0.8722, 0.8332, 0.8078], dtype=torch.float64),\n",
       "  tensor([8.8108e-05, 2.0614e-04, 2.4788e-04], dtype=torch.float64)],\n",
       " 'data_filenameso3dat_sphere_Linearpt_nameSeqAELSTSQ_so3Net': [tensor([0.8760, 0.7877, 0.7320], dtype=torch.float64),\n",
       "  tensor([0.0002, 0.0005, 0.0009], dtype=torch.float64)],\n",
       " 'data_filenameso3dat_sphere_iResNetpt_nameSeqAELSTSQ_LinearNet': [tensor([0.9975, 0.9956, 0.9947], dtype=torch.float64),\n",
       "  tensor([6.2536e-08, 1.0598e-07, 1.4318e-07], dtype=torch.float64)],\n",
       " 'data_filenameso3dat_sphere_MLPpt_nameSeqAELSTSQ_so3Net': [tensor([-0.0717, -0.0724, -0.0734], dtype=torch.float64),\n",
       "  tensor([0.0005, 0.0006, 0.0007], dtype=torch.float64)]}"
      ]
     },
     "execution_count": 5,
     "metadata": {},
     "output_type": "execute_result"
    }
   ],
   "source": [
    "results\n",
    "    "
   ]
  },
  {
   "cell_type": "code",
   "execution_count": 6,
   "id": "4fe2383d",
   "metadata": {},
   "outputs": [
    {
     "data": {
      "text/plain": [
       "{'data_filenameso3dat_sphere_iResNetpt_nameSeqAELSTSQ_so3Net': [tensor([0.8722, 0.8332, 0.8078], dtype=torch.float64),\n",
       "  tensor([8.8108e-05, 2.0614e-04, 2.4788e-04], dtype=torch.float64)],\n",
       " 'data_filenameso3dat_sphere_iResNetpt_nameSeqAELSTSQ_LinearNet': [tensor([0.9975, 0.9956, 0.9947], dtype=torch.float64),\n",
       "  tensor([6.2536e-08, 1.0598e-07, 1.4318e-07], dtype=torch.float64)]}"
      ]
     },
     "execution_count": 6,
     "metadata": {},
     "output_type": "execute_result"
    }
   ],
   "source": [
    "filter_names('dat_sphere_iResNetpt', results)"
   ]
  },
  {
   "cell_type": "code",
   "execution_count": 7,
   "id": "b8d41d2c",
   "metadata": {},
   "outputs": [
    {
     "data": {
      "text/plain": [
       "{'data_filenameso3dat_sphere_Linearpt_nameSeqAELSTSQ_LinearNet': [tensor([0.9999, 0.9999, 0.9999], dtype=torch.float64),\n",
       "  tensor([1.0128e-10, 1.1476e-10, 1.1639e-10], dtype=torch.float64)],\n",
       " 'data_filenameso3dat_sphere_Linearpt_nameSeqAELSTSQ_so3Net': [tensor([0.8760, 0.7877, 0.7320], dtype=torch.float64),\n",
       "  tensor([0.0002, 0.0005, 0.0009], dtype=torch.float64)]}"
      ]
     },
     "execution_count": 7,
     "metadata": {},
     "output_type": "execute_result"
    }
   ],
   "source": [
    "filter_names('dat_sphere_Linearpt', results)"
   ]
  },
  {
   "cell_type": "code",
   "execution_count": 8,
   "id": "ac483383",
   "metadata": {},
   "outputs": [
    {
     "data": {
      "text/plain": [
       "{'data_filenameso3dat_sphere_MLPpt_nameSeqAELSTSQ_LinearNet': [tensor([0.4972, 0.2769, 0.0926], dtype=torch.float64),\n",
       "  tensor([0.0015, 0.0025, 0.0039], dtype=torch.float64)],\n",
       " 'data_filenameso3dat_sphere_MLPpt_nameSeqAELSTSQ_so3Net': [tensor([-0.0717, -0.0724, -0.0734], dtype=torch.float64),\n",
       "  tensor([0.0005, 0.0006, 0.0007], dtype=torch.float64)]}"
      ]
     },
     "execution_count": 8,
     "metadata": {},
     "output_type": "execute_result"
    }
   ],
   "source": [
    "filter_names('dat_sphere_MLPpt', results)"
   ]
  },
  {
   "cell_type": "code",
   "execution_count": null,
   "id": "02a62800",
   "metadata": {},
   "outputs": [],
   "source": []
  },
  {
   "cell_type": "markdown",
   "id": "a41c4fd1",
   "metadata": {},
   "source": [
    "# TODO:  \n",
    "\n",
    "## (1) Check Equiv  (DONE)\n",
    " \n",
    "## (2) Recreate the dataset and run again  (DONE)"
   ]
  },
  {
   "cell_type": "markdown",
   "id": "2184d1be",
   "metadata": {},
   "source": [
    "# Equivariance Error "
   ]
  },
  {
   "cell_type": "code",
   "execution_count": 9,
   "id": "8a46da93",
   "metadata": {},
   "outputs": [],
   "source": [
    "datamode = 'MLP'\n",
    "\n",
    "dataconfig_shared = {'args': {'T': 8, 'data_filename': f\"\"\"so3dat_sphere_{datamode}_shared_trans.pt\"\"\", 'train': True},\n",
    " 'fn': './datasets/so3_data.py',\n",
    " 'name': 'SO3rotationSequence'}\n",
    "\n",
    "data_shared = yu.load_component(dataconfig_shared)\n",
    "\n",
    "\n",
    "    \n"
   ]
  },
  {
   "cell_type": "code",
   "execution_count": 10,
   "id": "a01ed19f",
   "metadata": {},
   "outputs": [
    {
     "name": "stdout",
     "output_type": "stream",
     "text": [
      "snapshot_model_iter_1000000\n"
     ]
    },
    {
     "name": "stderr",
     "output_type": "stream",
     "text": [
      "/usr/local/lib/python3.8/site-packages/torch/nn/modules/lazy.py:178: UserWarning: Lazy modules are a new feature under heavy development so changes to the API or functionality can happen at any moment.\n",
      "  warnings.warn('Lazy modules are a new feature under heavy development '\n",
      "100%|██████████| 313/313 [00:02<00:00, 148.62it/s]\n"
     ]
    },
    {
     "name": "stdout",
     "output_type": "stream",
     "text": [
      "snapshot_model_iter_1000000\n"
     ]
    },
    {
     "name": "stderr",
     "output_type": "stream",
     "text": [
      "/usr/local/lib/python3.8/site-packages/torch/nn/modules/lazy.py:178: UserWarning: Lazy modules are a new feature under heavy development so changes to the API or functionality can happen at any moment.\n",
      "  warnings.warn('Lazy modules are a new feature under heavy development '\n",
      "100%|██████████| 313/313 [00:02<00:00, 147.65it/s]\n",
      "/usr/local/lib/python3.8/site-packages/torch/nn/modules/lazy.py:178: UserWarning: Lazy modules are a new feature under heavy development so changes to the API or functionality can happen at any moment.\n",
      "  warnings.warn('Lazy modules are a new feature under heavy development '\n"
     ]
    },
    {
     "name": "stdout",
     "output_type": "stream",
     "text": [
      "snapshot_model_iter_1000000\n"
     ]
    },
    {
     "name": "stderr",
     "output_type": "stream",
     "text": [
      "100%|██████████| 313/313 [00:02<00:00, 131.36it/s]\n"
     ]
    },
    {
     "name": "stdout",
     "output_type": "stream",
     "text": [
      "snapshot_model_iter_1000000\n"
     ]
    },
    {
     "name": "stderr",
     "output_type": "stream",
     "text": [
      "/usr/local/lib/python3.8/site-packages/torch/nn/modules/lazy.py:178: UserWarning: Lazy modules are a new feature under heavy development so changes to the API or functionality can happen at any moment.\n",
      "  warnings.warn('Lazy modules are a new feature under heavy development '\n",
      "100%|██████████| 313/313 [00:02<00:00, 125.94it/s]\n"
     ]
    },
    {
     "name": "stdout",
     "output_type": "stream",
     "text": [
      "snapshot_model_iter_1000000\n"
     ]
    },
    {
     "name": "stderr",
     "output_type": "stream",
     "text": [
      "/usr/local/lib/python3.8/site-packages/torch/nn/modules/lazy.py:178: UserWarning: Lazy modules are a new feature under heavy development so changes to the API or functionality can happen at any moment.\n",
      "  warnings.warn('Lazy modules are a new feature under heavy development '\n",
      "100%|██████████| 313/313 [00:02<00:00, 143.83it/s]\n",
      "/usr/local/lib/python3.8/site-packages/torch/nn/modules/lazy.py:178: UserWarning: Lazy modules are a new feature under heavy development so changes to the API or functionality can happen at any moment.\n",
      "  warnings.warn('Lazy modules are a new feature under heavy development '\n"
     ]
    },
    {
     "name": "stdout",
     "output_type": "stream",
     "text": [
      "snapshot_model_iter_1000000\n"
     ]
    },
    {
     "name": "stderr",
     "output_type": "stream",
     "text": [
      "100%|██████████| 313/313 [00:02<00:00, 119.58it/s]\n"
     ]
    }
   ],
   "source": [
    "# Initialize lazy modules\n",
    "results_equiv = {} \n",
    "tp = 3\n",
    "n_cond = 5\n",
    "\n",
    "for targdir in os.listdir(exp_result):\n",
    "    \n",
    "    targdir_path = os.path.join(exp_result, targdir)\n",
    "    config = load_config(targdir_path)\n",
    "    \n",
    "    \n",
    "    '''\n",
    "    Modify the dataset\n",
    "    '''\n",
    "    \n",
    "    dataconfig = config['train_data']\n",
    "    original_datfile = dataconfig['args']['data_filename']\n",
    "    trans_datfile = original_datfile.split('.')[0] + '_shared_trans.pt'  \n",
    "    dataconfig['args']['data_filename'] = trans_datfile   \n",
    "    dataconfig['args']['T'] = tp + n_cond\n",
    "    \n",
    "    data = yu.load_component(dataconfig)\n",
    "    train_loader = DataLoader(data, \n",
    "                              batch_size=config['batchsize'],\n",
    "                              shuffle=True,\n",
    "                              num_workers=config['num_workers'])\n",
    "    model = yu.load_component(config['model'])\n",
    "    iterlist = iter_list(targdir_path)\n",
    "    \n",
    "    if len(iterlist) == 0:\n",
    "        print(f\"\"\"There is no model trained for {targdir_path}\"\"\")\n",
    "    else:\n",
    "        maxiter = np.max(iter_list(targdir_path))\n",
    "        load_model(model, targdir_path, maxiter)\n",
    "        model = model.eval().to(device)\n",
    "\n",
    "        # Initialize lazy modules\n",
    "        images = iter(train_loader).next()\n",
    "        images = images.to(device)\n",
    "        model(images[:, :2])\n",
    "\n",
    "        with torch.no_grad():\n",
    "            scores = [] \n",
    "            scores_perm = []\n",
    "            for images in tqdm(train_loader):\n",
    "                images = images.to(device)\n",
    "                images_cond = images[:, :n_cond]\n",
    "                images_target = images[:, n_cond:n_cond+tp]                \n",
    "                M = model.get_M(images_cond) #n a a\n",
    "                H = model.encode(images_cond[:, -1:])[:, 0] # n s a\n",
    "                H_perm = copy.copy(H)\n",
    "\n",
    "                xs = []\n",
    "                for r in range(tp):\n",
    "                    H = H @ M \n",
    "                    x_next_t = model.decode(H[:, None])\n",
    "                    xs.append(x_next_t)\n",
    "                x_next = torch.cat(xs, axis=1)\n",
    "                \n",
    "                swapM = M[torch.arange(-config['batchsize']//2, M.shape[0]-config['batchsize']//2)]\n",
    "                xs_perm = []\n",
    "                for r in range(tp):\n",
    "                    H_perm = H_perm @ swapM \n",
    "                    x_next_t_perm = model.decode(H_perm[:, None])\n",
    "                    xs_perm.append(x_next_t_perm)\n",
    "                x_next_perm = torch.cat(xs_perm, axis=1)\n",
    "\n",
    "                r2_losses = [] \n",
    "                r2_losses_perm = [] \n",
    "                for k in range(tp):\n",
    "                    r2_loss_t= r2_score(images_target[:,k].to('cpu').numpy(), x_next[:,k].to('cpu').numpy())\n",
    "                    r2_loss_t_perm = r2_score(images_target[:,k].to('cpu').numpy(), x_next_perm[:,k].to('cpu').numpy()) \n",
    "\n",
    "                    r2_losses.append(r2_loss_t)\n",
    "                    r2_losses_perm.append(r2_loss_t_perm)\n",
    "                    \n",
    "                scores.append(torch.tensor(r2_losses))\n",
    "                scores_perm.append(torch.tensor(r2_losses_perm))\n",
    "\n",
    "                \n",
    "                \n",
    "        scores = torch.stack(scores)\n",
    "        scores_perm = torch.stack(scores_perm)\n",
    "\n",
    "\n",
    "        av_score = torch.mean(scores, axis=0)\n",
    "        av_var = torch.var(scores, axis=0)\n",
    "        \n",
    "        av_score_perm = torch.mean(scores_perm, axis=0)\n",
    "        av_var_perm = torch.var(scores_perm, axis=0)        \n",
    "        results_equiv[targdir] = {'stat': [av_score, av_var], 'equiv_stat' : [av_score_perm, av_var_perm] } "
   ]
  },
  {
   "cell_type": "code",
   "execution_count": 21,
   "id": "2b13e5a3",
   "metadata": {},
   "outputs": [
    {
     "data": {
      "text/plain": [
       "{'data_filenameso3dat_sphere_iResNetpt_nameSeqAELSTSQ_so3Net': {'stat': [tensor([0.7679, 0.6418, 0.6643], dtype=torch.float64),\n",
       "   tensor([0.0002, 0.0005, 0.0005], dtype=torch.float64)],\n",
       "  'equiv_stat': [tensor([0.5659, 0.3593, 0.4002], dtype=torch.float64),\n",
       "   tensor([0.0023, 0.0044, 0.0041], dtype=torch.float64)]},\n",
       " 'data_filenameso3dat_sphere_iResNetpt_nameSeqAELSTSQ_LinearNet': {'stat': [tensor([0.9960, 0.9957, 0.9956], dtype=torch.float64),\n",
       "   tensor([4.4629e-08, 6.1693e-08, 6.2387e-08], dtype=torch.float64)],\n",
       "  'equiv_stat': [tensor([0.9957, 0.9948, 0.9946], dtype=torch.float64),\n",
       "   tensor([5.7698e-08, 9.4232e-08, 9.6030e-08], dtype=torch.float64)]}}"
      ]
     },
     "execution_count": 21,
     "metadata": {},
     "output_type": "execute_result"
    }
   ],
   "source": [
    "\n",
    "filter_names('dat_sphere_iResNetpt', results_equiv)"
   ]
  },
  {
   "cell_type": "code",
   "execution_count": 56,
   "id": "4a7a540d",
   "metadata": {},
   "outputs": [
    {
     "data": {
      "text/plain": [
       "{'data_filenameso3dat_sphere_MLPpt_nameSeqAELSTSQ_LinearNet': {'stat': [tensor([ 0.2746,  0.0455, -0.2162], dtype=torch.float64),\n",
       "   tensor([0.0012, 0.0018, 0.0025], dtype=torch.float64)],\n",
       "  'equiv_stat': [tensor([ 0.1960, -0.1668, -0.3550], dtype=torch.float64),\n",
       "   tensor([0.0014, 0.0028, 0.0034], dtype=torch.float64)]},\n",
       " 'data_filenameso3dat_sphere_MLPpt_nameSeqAELSTSQ_so3Net': {'stat': [tensor([-0.0733, -0.0751, -0.0748], dtype=torch.float64),\n",
       "   tensor([0.0005, 0.0007, 0.0007], dtype=torch.float64)],\n",
       "  'equiv_stat': [tensor([-0.0733, -0.0751, -0.0748], dtype=torch.float64),\n",
       "   tensor([0.0005, 0.0007, 0.0007], dtype=torch.float64)]}}"
      ]
     },
     "execution_count": 56,
     "metadata": {},
     "output_type": "execute_result"
    }
   ],
   "source": [
    "filter_names('dat_sphere_MLPpt', results_equiv)"
   ]
  },
  {
   "cell_type": "code",
   "execution_count": 57,
   "id": "126edaab",
   "metadata": {},
   "outputs": [
    {
     "data": {
      "text/plain": [
       "{'data_filenameso3dat_sphere_Linearpt_nameSeqAELSTSQ_LinearNet': {'stat': [tensor([0.9999, 0.9999, 0.9999], dtype=torch.float64),\n",
       "   tensor([8.3245e-11, 6.3317e-11, 6.5848e-11], dtype=torch.float64)],\n",
       "  'equiv_stat': [tensor([0.9999, 0.9999, 0.9999], dtype=torch.float64),\n",
       "   tensor([1.0650e-10, 7.8493e-11, 8.0483e-11], dtype=torch.float64)]},\n",
       " 'data_filenameso3dat_sphere_Linearpt_nameSeqAELSTSQ_so3Net': {'stat': [tensor([0.6749, 0.5347, 0.5402], dtype=torch.float64),\n",
       "   tensor([0.0013, 0.0010, 0.0011], dtype=torch.float64)],\n",
       "  'equiv_stat': [tensor([ 0.0799, -0.3896, -0.3093], dtype=torch.float64),\n",
       "   tensor([0.0153, 0.0302, 0.0259], dtype=torch.float64)]}}"
      ]
     },
     "execution_count": 57,
     "metadata": {},
     "output_type": "execute_result"
    }
   ],
   "source": [
    "filter_names('dat_sphere_Linearpt', results_equiv)"
   ]
  },
  {
   "cell_type": "code",
   "execution_count": null,
   "id": "ad239831",
   "metadata": {},
   "outputs": [],
   "source": []
  },
  {
   "cell_type": "markdown",
   "id": "1e7bbdc1",
   "metadata": {},
   "source": [
    "# Problems: \n",
    "> iResNet is analyzed with \"LINEAR?\"\"\n",
    "\n",
    "> Are the obtained matrices simultaneously block diag ble? \n",
    "\n"
   ]
  },
  {
   "cell_type": "code",
   "execution_count": 58,
   "id": "a06a0eda",
   "metadata": {},
   "outputs": [],
   "source": [
    "from models.base_networks import MLP_iResNet, LinearNet, MLP\n",
    "\n",
    "\n",
    "\n"
   ]
  },
  {
   "cell_type": "code",
   "execution_count": 59,
   "id": "4d3ec635",
   "metadata": {},
   "outputs": [
    {
     "name": "stdout",
     "output_type": "stream",
     "text": [
      "so3dat_sphere_Identity.pt             so3dat_sphere_MLP_model.pt\r\n",
      "so3dat_sphere_Identity_model.pt       so3dat_sphere_MLP_shared_trans.pt\r\n",
      "so3dat_sphere_Linear.pt               so3dat_sphere_iResNet.pt\r\n",
      "so3dat_sphere_Linear_model.pt         so3dat_sphere_iResNet_model.pt\r\n",
      "so3dat_sphere_Linear_shared_trans.pt  so3dat_sphere_iResNet_shared_trans.pt\r\n",
      "so3dat_sphere_MLP.pt\r\n"
     ]
    }
   ],
   "source": [
    "ls /mnt/nfs-mnj-hot-01/tmp/masomatics/block_diag/datasets/so3"
   ]
  },
  {
   "cell_type": "code",
   "execution_count": 60,
   "id": "8942e57b",
   "metadata": {},
   "outputs": [
    {
     "data": {
      "text/plain": [
       "<All keys matched successfully>"
      ]
     },
     "execution_count": 60,
     "metadata": {},
     "output_type": "execute_result"
    }
   ],
   "source": [
    "# targdir_path = os.path.join(exp_result, targdir)\n",
    "# config = load_config(targdir_path)\n",
    "\n",
    "\n",
    "embed_fxn_mode = 'iResNet'\n",
    "#embed_fxn_mode = 'Linear'\n",
    "num_blocks = 2 \n",
    "tensor_dim = 10 \n",
    "\n",
    "if embed_fxn_mode == 'iResNet':\n",
    "    embed_fxn = MLP_iResNet(in_dim=3*num_blocks*tensor_dim)\n",
    "\n",
    "elif embed_fxn_mode == 'Linear':\n",
    "    indim= 3 * num_blocks*tensor_dim\n",
    "    outdim = 3 * num_blocks*tensor_dim\n",
    "    embed_fxn = LinearNet(in_dim=indim, out_dim=outdim)\n",
    "\n",
    "elif embed_fxn_mode == 'MLP':\n",
    "    indim= 3 * num_blocks*tensor_dim\n",
    "    outdim = 3* num_blocks*tensor_dim\n",
    "    embed_fxn = MLP(in_dim=indim,\n",
    "                    out_dim=outdim)\n",
    "else:\n",
    "    raise NotImplementedError\n",
    "\n",
    "\n",
    "embedding_filename = f\"\"\"so3dat_sphere_{embed_fxn_mode}_model.pt\"\"\"\n",
    "dat_filename = f\"\"\"so3dat_sphere_{embed_fxn_mode}.pt\"\"\"\n",
    "embedding_filepath = os.path.join(rootpath, 'datasets/so3', embedding_filename)\n",
    "\n",
    "\n",
    "mydict = torch.load(embedding_filepath)\n",
    "embed_fxn.load_state_dict(mydict)\n",
    "\n",
    "\n",
    "\n"
   ]
  },
  {
   "cell_type": "code",
   "execution_count": 61,
   "id": "c81b4742",
   "metadata": {},
   "outputs": [
    {
     "data": {
      "text/plain": [
       "MLP_iResNet(\n",
       "  (network): Sequential(\n",
       "    (0): Invertible_Resblock_Fc(\n",
       "      (bottleneck_block): Sequential(\n",
       "        (0): Linear(in_features=60, out_features=60, bias=True)\n",
       "        (1): ELU(alpha=1.0)\n",
       "        (2): Linear(in_features=60, out_features=60, bias=True)\n",
       "      )\n",
       "    )\n",
       "    (1): Invertible_Resblock_Fc(\n",
       "      (bottleneck_block): Sequential(\n",
       "        (0): Linear(in_features=60, out_features=60, bias=True)\n",
       "        (1): ELU(alpha=1.0)\n",
       "        (2): Linear(in_features=60, out_features=60, bias=True)\n",
       "      )\n",
       "    )\n",
       "    (2): Invertible_Resblock_Fc(\n",
       "      (bottleneck_block): Sequential(\n",
       "        (0): Linear(in_features=60, out_features=60, bias=True)\n",
       "        (1): ELU(alpha=1.0)\n",
       "        (2): Linear(in_features=60, out_features=60, bias=True)\n",
       "      )\n",
       "    )\n",
       "  )\n",
       ")"
      ]
     },
     "execution_count": 61,
     "metadata": {},
     "output_type": "execute_result"
    }
   ],
   "source": [
    "embed_fxn"
   ]
  },
  {
   "cell_type": "code",
   "execution_count": 62,
   "id": "2211d5cd",
   "metadata": {},
   "outputs": [],
   "source": [
    "# myx = np.linspace(-10, 10, 100)\n",
    "# myy = np.array(torch.nn.ELU()(torch.tensor(myx) ))\n",
    "# plt.plot(myx, myy)"
   ]
  },
  {
   "cell_type": "code",
   "execution_count": 63,
   "id": "4f6e01f8",
   "metadata": {},
   "outputs": [],
   "source": [
    "data_trial = {'args': {'T': 8,\n",
    "  'data_filename': dat_filename,\n",
    "  'train': True},\n",
    " 'fn': './datasets/so3_data.py',\n",
    " 'name': 'SO3rotationSequence'}\n",
    "\n",
    "\n",
    "data_trial_obj = yu.load_component(data_trial)"
   ]
  },
  {
   "cell_type": "code",
   "execution_count": 64,
   "id": "0a6a4918",
   "metadata": {},
   "outputs": [
    {
     "data": {
      "text/plain": [
       "<matplotlib.collections.PathCollection at 0x7faf86f434f0>"
      ]
     },
     "execution_count": 64,
     "metadata": {},
     "output_type": "execute_result"
    },
    {
     "data": {
      "image/png": "[encoded data removed]",
      "text/plain": [
       "<Figure size 432x288 with 1 Axes>"
      ]
     },
     "metadata": {
      "needs_background": "light"
     },
     "output_type": "display_data"
    }
   ],
   "source": [
    "checkdat = data_trial_obj.data[:100]\n",
    "checkdat = rearrange(checkdat, 'n t a -> (n t) a')\n",
    "check_latent = embed_fxn(checkdat).detach()\n",
    "\n",
    "hoge = 12\n",
    "check_id = hoge\n",
    "dat_id = hoge\n",
    "check_slice = check_latent[:, check_id]\n",
    "dat_slice = checkdat[:, dat_id]\n",
    "\n",
    "plt.scatter(dat_slice.numpy(), check_slice.numpy())"
   ]
  },
  {
   "cell_type": "code",
   "execution_count": 65,
   "id": "fbbff7f1",
   "metadata": {},
   "outputs": [
    {
     "data": {
      "text/plain": [
       "{'training': True,\n",
       " '_parameters': OrderedDict(),\n",
       " '_buffers': OrderedDict(),\n",
       " '_non_persistent_buffers_set': set(),\n",
       " '_backward_hooks': OrderedDict(),\n",
       " '_is_full_backward_hook': None,\n",
       " '_forward_hooks': OrderedDict(),\n",
       " '_forward_pre_hooks': OrderedDict(),\n",
       " '_state_dict_hooks': OrderedDict(),\n",
       " '_load_state_dict_pre_hooks': OrderedDict(),\n",
       " '_modules': OrderedDict([('network',\n",
       "               Sequential(\n",
       "                 (0): Invertible_Resblock_Fc(\n",
       "                   (bottleneck_block): Sequential(\n",
       "                     (0): Linear(in_features=60, out_features=60, bias=True)\n",
       "                     (1): ELU(alpha=1.0)\n",
       "                     (2): Linear(in_features=60, out_features=60, bias=True)\n",
       "                   )\n",
       "                 )\n",
       "                 (1): Invertible_Resblock_Fc(\n",
       "                   (bottleneck_block): Sequential(\n",
       "                     (0): Linear(in_features=60, out_features=60, bias=True)\n",
       "                     (1): ELU(alpha=1.0)\n",
       "                     (2): Linear(in_features=60, out_features=60, bias=True)\n",
       "                   )\n",
       "                 )\n",
       "                 (2): Invertible_Resblock_Fc(\n",
       "                   (bottleneck_block): Sequential(\n",
       "                     (0): Linear(in_features=60, out_features=60, bias=True)\n",
       "                     (1): ELU(alpha=1.0)\n",
       "                     (2): Linear(in_features=60, out_features=60, bias=True)\n",
       "                   )\n",
       "                 )\n",
       "               ))]),\n",
       " 'nonlin': 'elu',\n",
       " 'n_resblocks': 3,\n",
       " 'in_dim': 60,\n",
       " 'blocklist': [Invertible_Resblock_Fc(\n",
       "    (bottleneck_block): Sequential(\n",
       "      (0): Linear(in_features=60, out_features=60, bias=True)\n",
       "      (1): ELU(alpha=1.0)\n",
       "      (2): Linear(in_features=60, out_features=60, bias=True)\n",
       "    )\n",
       "  ),\n",
       "  Invertible_Resblock_Fc(\n",
       "    (bottleneck_block): Sequential(\n",
       "      (0): Linear(in_features=60, out_features=60, bias=True)\n",
       "      (1): ELU(alpha=1.0)\n",
       "      (2): Linear(in_features=60, out_features=60, bias=True)\n",
       "    )\n",
       "  ),\n",
       "  Invertible_Resblock_Fc(\n",
       "    (bottleneck_block): Sequential(\n",
       "      (0): Linear(in_features=60, out_features=60, bias=True)\n",
       "      (1): ELU(alpha=1.0)\n",
       "      (2): Linear(in_features=60, out_features=60, bias=True)\n",
       "    )\n",
       "  )]}"
      ]
     },
     "execution_count": 65,
     "metadata": {},
     "output_type": "execute_result"
    }
   ],
   "source": [
    "embed_fxn.__dict__\n",
    "\n",
    "#param = embed_fxn._modules['network'][0]._modules['bottleneck_block'][2]._parameters['weight_orig']\n",
    "#plt.imshow(param.detach())"
   ]
  },
  {
   "cell_type": "code",
   "execution_count": 66,
   "id": "2a6eeee4",
   "metadata": {},
   "outputs": [
    {
     "data": {
      "text/plain": [
       "OrderedDict([('network',\n",
       "              Sequential(\n",
       "                (0): Invertible_Resblock_Fc(\n",
       "                  (bottleneck_block): Sequential(\n",
       "                    (0): Linear(in_features=60, out_features=60, bias=True)\n",
       "                    (1): ELU(alpha=1.0)\n",
       "                    (2): Linear(in_features=60, out_features=60, bias=True)\n",
       "                  )\n",
       "                )\n",
       "                (1): Invertible_Resblock_Fc(\n",
       "                  (bottleneck_block): Sequential(\n",
       "                    (0): Linear(in_features=60, out_features=60, bias=True)\n",
       "                    (1): ELU(alpha=1.0)\n",
       "                    (2): Linear(in_features=60, out_features=60, bias=True)\n",
       "                  )\n",
       "                )\n",
       "                (2): Invertible_Resblock_Fc(\n",
       "                  (bottleneck_block): Sequential(\n",
       "                    (0): Linear(in_features=60, out_features=60, bias=True)\n",
       "                    (1): ELU(alpha=1.0)\n",
       "                    (2): Linear(in_features=60, out_features=60, bias=True)\n",
       "                  )\n",
       "                )\n",
       "              ))])"
      ]
     },
     "execution_count": 66,
     "metadata": {},
     "output_type": "execute_result"
    }
   ],
   "source": [
    "embed_fxn._modules"
   ]
  },
  {
   "cell_type": "code",
   "execution_count": 67,
   "id": "c2b1ed33",
   "metadata": {},
   "outputs": [
    {
     "data": {
      "text/plain": [
       "<matplotlib.image.AxesImage at 0x7faf86eb1730>"
      ]
     },
     "execution_count": 67,
     "metadata": {},
     "output_type": "execute_result"
    },
    {
     "data": {
      "image/png": "[encoded data removed]",
      "text/plain": [
       "<Figure size 432x288 with 1 Axes>"
      ]
     },
     "metadata": {
      "needs_background": "light"
     },
     "output_type": "display_data"
    }
   ],
   "source": [
    "plt.imshow(checkdat @ torch.permute(check_latent , [1,0]))"
   ]
  },
  {
   "cell_type": "code",
   "execution_count": null,
   "id": "63ab2798",
   "metadata": {},
   "outputs": [],
   "source": []
  },
  {
   "cell_type": "code",
   "execution_count": null,
   "id": "150cc009",
   "metadata": {},
   "outputs": [],
   "source": []
  },
  {
   "cell_type": "code",
   "execution_count": null,
   "id": "b68b7c56",
   "metadata": {},
   "outputs": [],
   "source": []
  }
 ],
 "metadata": {
  "kernelspec": {
   "display_name": "Python 3 (ipykernel)",
   "language": "python",
   "name": "python3"
  },
  "language_info": {
   "codemirror_mode": {
    "name": "ipython",
    "version": 3
   },
   "file_extension": ".py",
   "mimetype": "text/x-python",
   "name": "python",
   "nbconvert_exporter": "python",
   "pygments_lexer": "ipython3",
   "version": "3.8.9"
  }
 },
 "nbformat": 4,
 "nbformat_minor": 5
}
