{
 "cells": [
  {
   "cell_type": "code",
   "execution_count": 16,
   "id": "3105992b",
   "metadata": {},
   "outputs": [],
   "source": [
    "import os\n",
    "import sys\n",
    "sys.path.append('../')\n",
    "sys.path.append('../datasets')\n",
    "sys.path.append('../models')\n",
    "import torch\n",
    "import torchvision\n",
    "import torch.backends.cudnn as cudnn\n",
    "import random\n",
    "import numpy as np\n",
    "import matplotlib.pyplot as plt\n",
    "from torch.utils.data import DataLoader\n",
    "from importlib import reload\n",
    "from datasets.three_dim_shapes import ThreeDimShapesDataset\n",
    "from datasets.small_norb import SmallNORBDataset\n",
    "from datasets.seq_mnist import SequentialMNIST\n",
    "import models.seqae as seqae\n",
    "from sklearn.multioutput import MultiOutputRegressor\n",
    "from sklearn.linear_model import Ridge\n",
    "from datasets import so3_data as so3d\n",
    "from einops import rearrange\n",
    "\n",
    "import csv\n",
    "import ast\n",
    "\n",
    "\n",
    "\n",
    "from tqdm import tqdm\n",
    "\n",
    "if torch.cuda.is_available():\n",
    "    device = torch.device('cuda')\n",
    "    cudnn.deterministic = True\n",
    "    cudnn.benchmark = True\n",
    "else:\n",
    "    device = torch.device('cpu')\n",
    "    gpu_index = -1\n",
    "\n",
    "    \n",
    "    \n",
    "from utils import yaml_utils as yu\n",
    "import yaml\n",
    "result_dir = '/mnt/nfs-mnj-hot-01/tmp/masomatics/block_diag/result'\n",
    "\n",
    "\n",
    "\n"
   ]
  },
  {
   "cell_type": "code",
   "execution_count": 17,
   "id": "aa89ca4c",
   "metadata": {},
   "outputs": [
    {
     "name": "stdout",
     "output_type": "stream",
     "text": [
      "/mnt/nfs-mnj-hot-01/tmp/masomatics/block_diag/result/20220511_so3_exp_0:\r\n",
      "\u001b[0m\u001b[01;34mC_bd0\u001b[0m/  \u001b[01;34mC_bd0id1\u001b[0m/  \u001b[01;34mC_bd0id2\u001b[0m/  config.yml  log\r\n",
      "\r\n",
      "/mnt/nfs-mnj-hot-01/tmp/masomatics/block_diag/result/20220611_so3:\r\n",
      "config.yml                    snapshot_model_iter_20000\r\n",
      "log                           snapshot_model_iter_25000\r\n",
      "snapshot_manager_iter_100000  snapshot_model_iter_30000\r\n",
      "snapshot_model_iter_10000     snapshot_model_iter_40000\r\n",
      "snapshot_model_iter_100000    snapshot_model_iter_50000\r\n",
      "snapshot_model_iter_125000    snapshot_model_iter_75000\r\n",
      "\r\n",
      "/mnt/nfs-mnj-hot-01/tmp/masomatics/block_diag/result/20220611_so3_so3run:\r\n",
      "config.yml                    snapshot_model_iter_175000\r\n",
      "log                           snapshot_model_iter_200000\r\n",
      "snapshot_manager_iter_200000  snapshot_model_iter_25000\r\n",
      "snapshot_model_iter_100000    snapshot_model_iter_50000\r\n",
      "snapshot_model_iter_125000    snapshot_model_iter_75000\r\n",
      "snapshot_model_iter_150000\r\n",
      "\r\n",
      "/mnt/nfs-mnj-hot-01/tmp/masomatics/block_diag/result/20220611_so3_so3run_rcst:\r\n",
      "config.yml                    snapshot_model_iter_175000\r\n",
      "log                           snapshot_model_iter_200000\r\n",
      "snapshot_manager_iter_200000  snapshot_model_iter_25000\r\n",
      "snapshot_model_iter_100000    snapshot_model_iter_50000\r\n",
      "snapshot_model_iter_125000    snapshot_model_iter_75000\r\n",
      "snapshot_model_iter_150000\r\n",
      "\r\n",
      "/mnt/nfs-mnj-hot-01/tmp/masomatics/block_diag/result/20220611_so3_so3run_rcst_iter:\r\n",
      "config.yml                    snapshot_model_iter_175000\r\n",
      "log                           snapshot_model_iter_200000\r\n",
      "snapshot_manager_iter_200000  snapshot_model_iter_25000\r\n",
      "snapshot_model_iter_100000    snapshot_model_iter_50000\r\n",
      "snapshot_model_iter_125000    snapshot_model_iter_75000\r\n",
      "snapshot_model_iter_150000\r\n",
      "\r\n",
      "/mnt/nfs-mnj-hot-01/tmp/masomatics/block_diag/result/20220621_so3_rcst_so3run:\r\n",
      "config.yml  snapshot_manager_iter_50000  snapshot_model_iter_50000\r\n",
      "log         snapshot_model_iter_25000\r\n",
      "\r\n",
      "/mnt/nfs-mnj-hot-01/tmp/masomatics/block_diag/result/20220621_so3_rcst_so3run_rcst:\r\n",
      "config.yml  snapshot_manager_iter_50000  snapshot_model_iter_50000\r\n",
      "log         snapshot_model_iter_25000\r\n",
      "\r\n",
      "/mnt/nfs-mnj-hot-01/tmp/masomatics/block_diag/result/20220628_so3_idnet_0:\r\n",
      "\u001b[01;34mT10\u001b[0m/  \u001b[01;34mT8\u001b[0m/  \u001b[01;34mdim_m10\u001b[0m/  \u001b[01;34mdim_m5\u001b[0m/\r\n",
      "\r\n",
      "/mnt/nfs-mnj-hot-01/tmp/masomatics/block_diag/result/20220628_so3_linear_net_0:\r\n",
      "\u001b[01;34mT8\u001b[0m/\r\n"
     ]
    }
   ],
   "source": [
    "ls /mnt/nfs-mnj-hot-01/tmp/masomatics/block_diag/result/*so3*"
   ]
  },
  {
   "cell_type": "code",
   "execution_count": 18,
   "id": "1a666242",
   "metadata": {},
   "outputs": [
    {
     "name": "stdout",
     "output_type": "stream",
     "text": [
      "['log', 'snapshot_manager_iter_10000', 'snapshot_model_iter_10000', 'config.yml']\n"
     ]
    }
   ],
   "source": [
    "targdir = '20220628_so3_linear_net_0/T8'\n",
    "exp_result = os.path.join(result_dir, targdir)\n",
    "print(os.listdir(exp_result))\n",
    "targ_config_path = os.path.join(exp_result, 'config.yml')\n",
    "\n",
    "\n",
    "with open(targ_config_path, 'r') as f:\n",
    "    config = yaml.safe_load(f)\n",
    "    \n",
    "    \n",
    "def load_model(model, log_dir, iters):\n",
    "    print('snapshot_model_iter_{}'.format(iters))\n",
    "    model.load_state_dict(torch.load(os.path.join(\n",
    "        log_dir, 'snapshot_model_iter_{}'.format(iters))))\n",
    "\n",
    "\n",
    "\n"
   ]
  },
  {
   "cell_type": "code",
   "execution_count": 19,
   "id": "4278a115",
   "metadata": {},
   "outputs": [
    {
     "name": "stdout",
     "output_type": "stream",
     "text": [
      "snapshot_model_iter_10000\n"
     ]
    },
    {
     "name": "stderr",
     "output_type": "stream",
     "text": [
      "/usr/local/lib/python3.8/site-packages/torch/nn/modules/lazy.py:178: UserWarning: Lazy modules are a new feature under heavy development so changes to the API or functionality can happen at any moment.\n",
      "  warnings.warn('Lazy modules are a new feature under heavy development '\n"
     ]
    }
   ],
   "source": [
    "data = yu.load_component(config['train_data'])\n",
    "train_loader = DataLoader(data, \n",
    "                          batch_size=config['batchsize'],\n",
    "                          shuffle=True,\n",
    "                          num_workers=config['num_workers'])\n",
    "model = yu.load_component(config['model'])\n",
    "load_model(model, exp_result, 10000)"
   ]
  },
  {
   "cell_type": "code",
   "execution_count": 20,
   "id": "cf290288",
   "metadata": {},
   "outputs": [
    {
     "name": "stdout",
     "output_type": "stream",
     "text": [
      "torch.Size([10000, 2])\n",
      "torch.Size([10000, 2, 3])\n"
     ]
    }
   ],
   "source": [
    "angle_dats = [] \n",
    "axis_dats = []\n",
    "for k in range(len(data.labels)):\n",
    "    angledat = [data.labels[k]['blocks'][j]['angle'] for j in range(len(data.labels[0]['blocks']))]\n",
    "    axisdat = torch.stack([data.labels[k]['blocks'][j]['axis'] for j in range(len(data.labels[0]['blocks']))])\n",
    "\n",
    "    angle_dats.append(angledat)\n",
    "    axis_dats.append(axisdat)\n",
    "    \n",
    "angle_dats = torch.tensor(angle_dats)\n",
    "axis_dats = torch.stack(axis_dats)\n",
    "print(angle_dats.shape)\n",
    "print(axis_dats.shape)\n",
    "label_dats = {'angle':angle_dats, 'axis':axis_dats}\n",
    "\n"
   ]
  },
  {
   "cell_type": "code",
   "execution_count": 21,
   "id": "21b6502d",
   "metadata": {},
   "outputs": [],
   "source": [
    "Ms_list = []\n",
    "device = 0\n",
    "model = model.to(device)\n",
    "for idx, images in enumerate(train_loader):\n",
    "    images = images.to(device)\n",
    "    Ms = model.get_M(images).detach().to('cpu')\n",
    "    Ms_list.append(Ms)\n",
    "    \n",
    "Ms_all = torch.cat(Ms_list, axis=0)"
   ]
  },
  {
   "cell_type": "code",
   "execution_count": 30,
   "id": "63e241c0",
   "metadata": {},
   "outputs": [
    {
     "name": "stdout",
     "output_type": "stream",
     "text": [
      "tensor(0.9998, dtype=torch.float64)\n"
     ]
    }
   ],
   "source": [
    "scores = [] \n",
    "for idx, dat in enumerate(train_loader):\n",
    "    dat = rearrange(dat, 'b t a -> (b t) a' ).to(device)\n",
    "    d0hat =  model.dec(model.enc(dat)).detach().to(device)\n",
    "    \n",
    "    scores.append(seqae.r2_score(d0hat.to('cpu'), dat.to('cpu')))\n",
    "    \n",
    "scores = torch.tensor(scores)\n",
    "print(torch.mean(scores))"
   ]
  },
  {
   "cell_type": "code",
   "execution_count": null,
   "id": "a8d47925",
   "metadata": {},
   "outputs": [],
   "source": []
  }
 ],
 "metadata": {
  "kernelspec": {
   "display_name": "Python 3 (ipykernel)",
   "language": "python",
   "name": "python3"
  },
  "language_info": {
   "codemirror_mode": {
    "name": "ipython",
    "version": 3
   },
   "file_extension": ".py",
   "mimetype": "text/x-python",
   "name": "python",
   "nbconvert_exporter": "python",
   "pygments_lexer": "ipython3",
   "version": "3.8.9"
  }
 },
 "nbformat": 4,
 "nbformat_minor": 5
}
