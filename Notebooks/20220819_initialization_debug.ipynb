{
 "cells": [
  {
   "cell_type": "code",
   "execution_count": 1,
   "id": "e0fca020",
   "metadata": {},
   "outputs": [],
   "source": [
    "import os\n",
    "import sys\n",
    "sys.path.append('../')\n",
    "sys.path.append('../datasets')\n",
    "sys.path.append('../models')\n",
    "import torch\n",
    "import torchvision\n",
    "import torch.backends.cudnn as cudnn\n",
    "import random\n",
    "import numpy as np\n",
    "import matplotlib.pyplot as plt\n",
    "from torch.utils.data import DataLoader\n",
    "from importlib import reload\n",
    "from datasets.three_dim_shapes import ThreeDimShapesDataset\n",
    "from datasets.small_norb import SmallNORBDataset\n",
    "from datasets.seq_mnist import SequentialMNIST\n",
    "import models.seqae as seqae\n",
    "from sklearn.multioutput import MultiOutputRegressor\n",
    "from sklearn.linear_model import Ridge\n",
    "from datasets import so3_data as so3d\n",
    "from einops import rearrange\n",
    "from sklearn.metrics import r2_score\n",
    "import pdb\n",
    "from models.base_networks import MLP_iResNet, LinearNet, MLP\n",
    "from utils import optimize_bd_cob as obc\n",
    "from importlib import reload\n",
    "import copy\n",
    "from torch import nn\n",
    "\n",
    "import csv\n",
    "import ast\n",
    "from source import yaml_utils as yu\n",
    "\n",
    "\n",
    "from tqdm import tqdm\n",
    "\n",
    "if torch.cuda.is_available():\n",
    "    device = torch.device('cuda')\n",
    "    cudnn.deterministic = True\n",
    "    cudnn.benchmark = True\n",
    "else:\n",
    "    device = torch.device('cpu')\n",
    "    gpu_index = -1\n",
    "\n",
    "    \n",
    "    \n",
    "from utils import yaml_utils as yu\n",
    "import yaml\n",
    "result_dir = '/mnt/nfs-mnj-hot-01/tmp/masomatics/block_diag/result'\n",
    "\n",
    "rootpath = '/mnt/nfs-mnj-hot-01/tmp/masomatics/block_diag/'\n",
    "datpath = '/mnt/nfs-mnj-hot-01/tmp/masomatics/block_diag/datasets/so3'\n",
    "\n",
    "\n",
    "\n",
    "\n",
    "\n"
   ]
  },
  {
   "cell_type": "code",
   "execution_count": 2,
   "id": "e61133c8",
   "metadata": {},
   "outputs": [
    {
     "name": "stderr",
     "output_type": "stream",
     "text": [
      "/tmp/ipykernel_178976/2125234506.py:2: UserWarning: nn.init.xavier_uniform is now deprecated in favor of nn.init.xavier_uniform_.\n",
      "  nn.init.xavier_uniform(unko.weight.data)\n"
     ]
    },
    {
     "data": {
      "text/plain": [
       "tensor([[ 0.2994,  0.9216, -0.4582],\n",
       "        [-0.2367, -0.0527,  0.6424],\n",
       "        [-0.9349, -0.4029,  0.3092]])"
      ]
     },
     "execution_count": 2,
     "metadata": {},
     "output_type": "execute_result"
    }
   ],
   "source": [
    "unko= nn.Linear(3, 3)\n",
    "nn.init.xavier_uniform(unko.weight.data)"
   ]
  },
  {
   "cell_type": "code",
   "execution_count": 3,
   "id": "4fa3f528",
   "metadata": {},
   "outputs": [],
   "source": [
    "weightmat  = unko.weight.data\n",
    "\n",
    "### If  SvD  is to agree with eigen, this is required\n",
    "#weightmat = ( weightmat + weightmat.permute([1,0]))/2"
   ]
  },
  {
   "cell_type": "code",
   "execution_count": 4,
   "id": "e4882162",
   "metadata": {},
   "outputs": [
    {
     "data": {
      "text/plain": [
       "tensor(2.9367)"
      ]
     },
     "execution_count": 4,
     "metadata": {},
     "output_type": "execute_result"
    }
   ],
   "source": [
    "torch.linalg.cond(weightmat)"
   ]
  },
  {
   "cell_type": "code",
   "execution_count": 21,
   "id": "e0a94577",
   "metadata": {},
   "outputs": [
    {
     "data": {
      "text/plain": [
       "torch.return_types.linalg_svd(\n",
       "U=tensor([[-0.6659,  0.7411,  0.0859],\n",
       "        [ 0.3387,  0.1978,  0.9199],\n",
       "        [ 0.6647,  0.6416, -0.3827]]),\n",
       "S=tensor([1.4666, 0.5933, 0.4994]),\n",
       "Vh=tensor([[-0.6143, -0.6132,  0.4966],\n",
       "        [-0.7159,  0.6978, -0.0239],\n",
       "        [ 0.3319,  0.3701,  0.8677]]))"
      ]
     },
     "execution_count": 21,
     "metadata": {},
     "output_type": "execute_result"
    }
   ],
   "source": [
    "aaa = torch.linalg.svd(weightmat)\n",
    "aaa"
   ]
  },
  {
   "cell_type": "code",
   "execution_count": 22,
   "id": "8d3149a5",
   "metadata": {},
   "outputs": [
    {
     "data": {
      "text/plain": [
       "tensor([-0.5738,  0.5649,  0.5649])"
      ]
     },
     "execution_count": 22,
     "metadata": {},
     "output_type": "execute_result"
    }
   ],
   "source": [
    "\n",
    "torch.real(torch.linalg.eig(weightmat).eigenvalues)"
   ]
  },
  {
   "cell_type": "code",
   "execution_count": 23,
   "id": "cf1a7fbc",
   "metadata": {},
   "outputs": [],
   "source": [
    "# def initialize_linear(mylayer, thresh = 1.5):\n",
    "\n",
    "#     nn.init.xavier_uniform_(mylayer.weight.data)\n",
    "#     weightmat  = mylayer.weight.data\n",
    "\n",
    "#     while torch.linalg.cond(weightmat) > thresh:\n",
    "#         nn.init.xavier_uniform_(mylayer.weight.data)\n",
    "#         weightmat = mylayer.weight.data\n",
    "#         weightmat  = weightmat / torch.sqrt(torch.sum(weightmat @weightmat.permute([1,0])))\n",
    "\n",
    "#     mylayer.weight.data = nn.Parameter(weightmat)"
   ]
  },
  {
   "cell_type": "code",
   "execution_count": 24,
   "id": "2ccc6970",
   "metadata": {},
   "outputs": [],
   "source": [
    "# random_vec_r = torch.tensor(np.random.uniform(size=(3,1))).float() \n",
    "# random_vec_r = random_vec_r / torch.sqrt(torch.sum(random_vec_r**2))\n",
    "\n",
    "\n",
    "# repeats = 10000\n",
    "# for k in range(repeats):\n",
    "    \n",
    "#     random_vec_l = weightmat.permute([1,0]) @ random_vec_r \n",
    "#     random_vec_l = random_vec_l / torch.sqrt(torch.sum(random_vec_l**2))\n",
    "#     random_vec_l = random_vec_l.permute([1,0])\n",
    "    \n",
    "#     random_vec_r = random_vec_l @ weightmat\n",
    "#     random_vec_r = random_vec_r / torch.sqrt(torch.sum(random_vec_r**2))\n",
    "#     random_vec_r = random_vec_r.permute([1,0])\n",
    "\n",
    "\n",
    "# print((random_vec_l @ weightmat @ random_vec_r))"
   ]
  },
  {
   "cell_type": "code",
   "execution_count": 25,
   "id": "1354769e",
   "metadata": {},
   "outputs": [
    {
     "data": {
      "text/plain": [
       "tensor([[1.4666, 0.5933, 0.4994],\n",
       "        [1.4666, 0.5933, 0.4994],\n",
       "        [1.4666, 0.5933, 0.4994]])"
      ]
     },
     "execution_count": 25,
     "metadata": {},
     "output_type": "execute_result"
    }
   ],
   "source": [
    "( aaa.U @torch.diag(aaa.S) )/ aaa.U"
   ]
  },
  {
   "cell_type": "code",
   "execution_count": 37,
   "id": "be1172a8",
   "metadata": {},
   "outputs": [
    {
     "name": "stdout",
     "output_type": "stream",
     "text": [
      "tensor([[0.5864]])\n"
     ]
    }
   ],
   "source": [
    "random_vec_r = torch.tensor(np.random.uniform(size=(3,1))).float() \n",
    "random_vec_r = random_vec_r / torch.sqrt(torch.sum(random_vec_r**2))\n",
    "\n",
    "random_vec_l = torch.tensor(np.random.uniform(size=(1,3))).float() \n",
    "random_vec_l = random_vec_l / torch.sqrt(torch.sum(random_vec_l**2))\n",
    "\n",
    "\n",
    "repeats = 100\n",
    "for k in range(repeats):\n",
    "    \n",
    "    random_vec_r = weightmat.permute([1,0]) @ random_vec_r \n",
    "    random_vec_r = random_vec_r / torch.sqrt(torch.sum(random_vec_r**2))\n",
    "    \n",
    "    random_vec_l = random_vec_l @ weightmat\n",
    "    random_vec_l = random_vec_l / torch.sqrt(torch.sum(random_vec_l**2))\n",
    "\n",
    "\n",
    "print((random_vec_l @ weightmat @ random_vec_r))"
   ]
  },
  {
   "cell_type": "code",
   "execution_count": 34,
   "id": "4c1d7791",
   "metadata": {},
   "outputs": [
    {
     "data": {
      "text/plain": [
       "tensor([-0.5738,  0.5649,  0.5649])"
      ]
     },
     "execution_count": 34,
     "metadata": {},
     "output_type": "execute_result"
    }
   ],
   "source": [
    "torch.real(torch.linalg.eig(weightmat).eigenvalues)"
   ]
  },
  {
   "cell_type": "code",
   "execution_count": 30,
   "id": "634f9a29",
   "metadata": {},
   "outputs": [],
   "source": [
    "def spectral_norm(weightmat):\n",
    "    random_vec_r = torch.tensor(np.random.uniform(size=(3,1))).float() \n",
    "    random_vec_r = random_vec_r / torch.sqrt(torch.sum(random_vec_r**2))\n",
    "\n",
    "    random_vec_l = torch.tensor(np.random.uniform(size=(1,3))).float() \n",
    "    random_vec_l = random_vec_l / torch.sqrt(torch.sum(random_vec_l**2))\n",
    "\n",
    "\n",
    "    repeats = 3\n",
    "    for k in range(repeats):\n",
    "\n",
    "        random_vec_r = weightmat.permute([1,0]) @ random_vec_r \n",
    "        random_vec_r = random_vec_r / torch.sqrt(torch.sum(random_vec_r**2))\n",
    "\n",
    "        random_vec_l = random_vec_l @ weightmat\n",
    "        random_vec_l = random_vec_l / torch.sqrt(torch.sum(random_vec_l**2))\n",
    "\n",
    "    snorm = (random_vec_l @ weightmat @ random_vec_r)\n",
    "\n",
    "    return snorm\n",
    "\n",
    "\n",
    "snorm = spectral_norm(unko.weight.data)\n",
    "\n",
    "#unko.weight.data  = nn.Parameter(0.97 * unko.weight.data/snorm)"
   ]
  },
  {
   "cell_type": "code",
   "execution_count": 31,
   "id": "0127598a",
   "metadata": {},
   "outputs": [
    {
     "data": {
      "text/plain": [
       "tensor([-0.5738,  0.5649,  0.5649])"
      ]
     },
     "execution_count": 31,
     "metadata": {},
     "output_type": "execute_result"
    }
   ],
   "source": [
    "torch.real(torch.linalg.eig(unko.weight.data).eigenvalues)"
   ]
  },
  {
   "cell_type": "code",
   "execution_count": 32,
   "id": "d58003d7",
   "metadata": {},
   "outputs": [
    {
     "data": {
      "text/plain": [
       "tensor([[0.7622]])"
      ]
     },
     "execution_count": 32,
     "metadata": {},
     "output_type": "execute_result"
    }
   ],
   "source": [
    "snorm"
   ]
  },
  {
   "cell_type": "code",
   "execution_count": null,
   "id": "85630fa1",
   "metadata": {},
   "outputs": [],
   "source": []
  },
  {
   "cell_type": "code",
   "execution_count": null,
   "id": "9611d695",
   "metadata": {},
   "outputs": [],
   "source": []
  }
 ],
 "metadata": {
  "kernelspec": {
   "display_name": "Python 3 (ipykernel)",
   "language": "python",
   "name": "python3"
  },
  "language_info": {
   "codemirror_mode": {
    "name": "ipython",
    "version": 3
   },
   "file_extension": ".py",
   "mimetype": "text/x-python",
   "name": "python",
   "nbconvert_exporter": "python",
   "pygments_lexer": "ipython3",
   "version": "3.8.9"
  }
 },
 "nbformat": 4,
 "nbformat_minor": 5
}
