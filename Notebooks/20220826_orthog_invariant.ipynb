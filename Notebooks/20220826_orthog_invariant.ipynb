{
 "cells": [
  {
   "cell_type": "code",
   "execution_count": 1,
   "id": "aa05eb3c",
   "metadata": {},
   "outputs": [
    {
     "name": "stdout",
     "output_type": "stream",
     "text": [
      "['20220823_sine_dat_0']\n"
     ]
    }
   ],
   "source": [
    "import os\n",
    "import sys\n",
    "sys.path.append('../')\n",
    "sys.path.append('../datasets')\n",
    "sys.path.append('../models')\n",
    "import torch\n",
    "import torchvision\n",
    "import torch.backends.cudnn as cudnn\n",
    "import random\n",
    "import numpy as np\n",
    "import matplotlib.pyplot as plt\n",
    "from torch.utils.data import DataLoader\n",
    "from importlib import reload\n",
    "from datasets.three_dim_shapes import ThreeDimShapesDataset\n",
    "from datasets.small_norb import SmallNORBDataset\n",
    "from datasets.seq_mnist import SequentialMNIST\n",
    "import models.seqae as seqae\n",
    "from sklearn.multioutput import MultiOutputRegressor\n",
    "from sklearn.linear_model import Ridge\n",
    "from datasets import so3_data as so3d\n",
    "from einops import rearrange\n",
    "from sklearn.metrics import r2_score\n",
    "import pdb\n",
    "from einops import rearrange\n",
    "\n",
    "import copy\n",
    "\n",
    "import csv\n",
    "import ast\n",
    "from source import yaml_utils as yu\n",
    "\n",
    "\n",
    "from tqdm import tqdm\n",
    "\n",
    "if torch.cuda.is_available():\n",
    "    device = torch.device('cuda')\n",
    "    cudnn.deterministic = True\n",
    "    cudnn.benchmark = True\n",
    "else:\n",
    "    device = torch.device('cpu')\n",
    "    gpu_index = -1\n",
    "\n",
    "\n",
    "    \n",
    "    \n",
    "\n",
    "def iter_list(log_dir):\n",
    "    dirlist = os.listdir(log_dir)\n",
    "    iterlist = []\n",
    "    for mydir in dirlist:\n",
    "        if 'iter' in mydir and 'tmp' not in mydir:\n",
    "            iterlist.append(int(mydir.split('_')[-1]))\n",
    "    return np.array(iterlist)\n",
    "    \n",
    "    \n",
    "def load_model(model, log_dir, iters, latest=False):\n",
    "    print(f\"\"\"{log_dir} \\n snapshot_model_iter_{iters}\"\"\")\n",
    "    if latest == True:\n",
    "        iters = np.max(iter_list(log_dir))\n",
    "    model.load_state_dict(torch.load(os.path.join(log_dir, 'snapshot_model_iter_{}'.format(iters))))\n",
    "\n",
    "\n",
    "\n",
    "def load_config(targdir_path):\n",
    "    targ_config_path = os.path.join(targdir_path, 'config.yml')\n",
    "    with open(targ_config_path, 'r') as f:\n",
    "        config = yaml.safe_load(f)\n",
    "    return config\n",
    "    \n",
    "    \n",
    "def filter_names(query, mydict):\n",
    "    filtered = {} \n",
    "    for key in mydict.keys():\n",
    "        if query in key:\n",
    "            filtered[key] = mydict[key]\n",
    "    return filtered\n",
    "    \n",
    "def filter_list(query, mylist):\n",
    "    filtered = [] \n",
    "    for key in mylist:\n",
    "        if query in key:\n",
    "            filtered.append(key)\n",
    "    return filtered\n",
    "    \n",
    "    \n",
    "from utils import yaml_utils as yu\n",
    "import yaml\n",
    "rootpath = '/mnt/nfs-mnj-hot-01/tmp/masomatics/block_diag/'\n",
    "result_dir = '/mnt/nfs-mnj-hot-01/tmp/masomatics/block_diag/result'\n",
    "\n",
    "mode = 'so3'\n",
    "dat_root = f\"\"\"/mnt/nfs-mnj-hot-01/tmp/masomatics/block_diag/datasets/{mode}\"\"\"\n",
    "\n",
    "\n",
    "\n",
    "print(filter_list('sine', os.listdir(result_dir)))\n",
    "\n"
   ]
  },
  {
   "cell_type": "code",
   "execution_count": 5,
   "id": "4b8430ae",
   "metadata": {},
   "outputs": [],
   "source": [
    "import numpy as np\n",
    "from scipy.linalg import orth\n",
    "\n",
    "def get_matrix(M, N):\n",
    "    Phi = np.random.randn(N, N).astype(np.float32)\n",
    "    return torch.tensor(orth(Phi)[:M])\n",
    "\n",
    "pmat = get_matrix(3,3)"
   ]
  },
  {
   "cell_type": "code",
   "execution_count": 7,
   "id": "7a5bceb0",
   "metadata": {},
   "outputs": [
    {
     "data": {
      "text/plain": [
       "tensor([[ 1.0000e+00, -1.6626e-07, -3.4517e-08],\n",
       "        [-1.6626e-07,  1.0000e+00, -1.3218e-07],\n",
       "        [-3.4517e-08, -1.3218e-07,  1.0000e+00]])"
      ]
     },
     "execution_count": 7,
     "metadata": {},
     "output_type": "execute_result"
    }
   ],
   "source": [
    "pmat @ pmat.permute([1,0])"
   ]
  },
  {
   "cell_type": "code",
   "execution_count": null,
   "id": "51b15423",
   "metadata": {},
   "outputs": [],
   "source": []
  }
 ],
 "metadata": {
  "kernelspec": {
   "display_name": "Python 3 (ipykernel)",
   "language": "python",
   "name": "python3"
  },
  "language_info": {
   "codemirror_mode": {
    "name": "ipython",
    "version": 3
   },
   "file_extension": ".py",
   "mimetype": "text/x-python",
   "name": "python",
   "nbconvert_exporter": "python",
   "pygments_lexer": "ipython3",
   "version": "3.8.9"
  }
 },
 "nbformat": 4,
 "nbformat_minor": 5
}
