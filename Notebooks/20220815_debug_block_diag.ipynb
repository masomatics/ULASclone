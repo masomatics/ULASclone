{
 "cells": [
  {
   "cell_type": "code",
   "execution_count": 1,
   "id": "6a103980",
   "metadata": {},
   "outputs": [
    {
     "data": {
      "text/plain": [
       "['so3dat_sphere_MLP.pt',\n",
       " 'so3dat_sphere_Linear_model.pt',\n",
       " 'so3dat_sphere_iResNet_shared_trans.pt',\n",
       " 'so3dat_sphere_iResNet_model.pt',\n",
       " 'so3dat_sphere_MLP_shared_trans.pt',\n",
       " 'so3dat_sphere_Identity_model.pt',\n",
       " 'so3dat_sphere_Linear_model_invhat.pt',\n",
       " 'so3dat_sphere_Identity.pt',\n",
       " 'so3dat_sphere_iResNet.pt',\n",
       " 'so3dat_sphere_MLP_model.pt',\n",
       " 'so3dat_sphere_Linear.pt',\n",
       " 'so3dat_sphere_MLP_model_invhat.pt',\n",
       " 'so3dat_sphere_Linear_shared_trans.pt']"
      ]
     },
     "execution_count": 1,
     "metadata": {},
     "output_type": "execute_result"
    }
   ],
   "source": [
    "import os\n",
    "import sys\n",
    "sys.path.append('../')\n",
    "sys.path.append('../datasets')\n",
    "sys.path.append('../models')\n",
    "import torch\n",
    "import torchvision\n",
    "import torch.backends.cudnn as cudnn\n",
    "import random\n",
    "import numpy as np\n",
    "import matplotlib.pyplot as plt\n",
    "from torch.utils.data import DataLoader\n",
    "from importlib import reload\n",
    "from datasets.three_dim_shapes import ThreeDimShapesDataset\n",
    "from datasets.small_norb import SmallNORBDataset\n",
    "from datasets.seq_mnist import SequentialMNIST\n",
    "import models.seqae as seqae\n",
    "from sklearn.multioutput import MultiOutputRegressor\n",
    "from sklearn.linear_model import Ridge\n",
    "from datasets import so3_data as so3d\n",
    "from einops import rearrange\n",
    "from sklearn.metrics import r2_score\n",
    "import pdb\n",
    "import copy\n",
    "\n",
    "import csv\n",
    "import ast\n",
    "from source import yaml_utils as yu\n",
    "\n",
    "\n",
    "from tqdm import tqdm\n",
    "\n",
    "if torch.cuda.is_available():\n",
    "    device = torch.device('cuda')\n",
    "    cudnn.deterministic = True\n",
    "    cudnn.benchmark = True\n",
    "else:\n",
    "    device = torch.device('cpu')\n",
    "    gpu_index = -1\n",
    "\n",
    "    \n",
    "    \n",
    "from utils import yaml_utils as yu\n",
    "import yaml\n",
    "rootpath = '/mnt/nfs-mnj-hot-01/tmp/masomatics/block_diag/'\n",
    "result_dir = '/mnt/nfs-mnj-hot-01/tmp/masomatics/block_diag/result'\n",
    "\n",
    "\n",
    "\n",
    "\n",
    "\n",
    "\n",
    "# Is this method really working? \n",
    "from utils import optimize_bd_cob as obc\n",
    "from importlib import reload\n",
    "reload(obc)\n",
    "\n",
    "\n",
    "\n",
    "\n",
    "datroot = '/mnt/nfs-mnj-hot-01/tmp/masomatics/block_diag/datasets/so3'\n",
    "\n",
    "os.listdir(datroot)"
   ]
  },
  {
   "cell_type": "code",
   "execution_count": 2,
   "id": "2e7935f0",
   "metadata": {},
   "outputs": [],
   "source": [
    "datpath = os.path.join(datroot, 'so3dat_sphere_Linear.pt')\n",
    "mydat = torch.load(datpath)"
   ]
  },
  {
   "cell_type": "code",
   "execution_count": 3,
   "id": "6fa3b598",
   "metadata": {},
   "outputs": [
    {
     "name": "stdout",
     "output_type": "stream",
     "text": [
      "torch.Size([10000, 6, 6])\n"
     ]
    },
    {
     "data": {
      "text/plain": [
       "<matplotlib.image.AxesImage at 0x7fbe86494310>"
      ]
     },
     "execution_count": 3,
     "metadata": {},
     "output_type": "execute_result"
    },
    {
     "data": {
      "image/png": "[encoded data removed]",
      "text/plain": [
       "<Figure size 432x288 with 1 Axes>"
      ]
     },
     "metadata": {
      "needs_background": "light"
     },
     "output_type": "display_data"
    }
   ],
   "source": [
    "mdat = [mydat['trans'][k][1] for k in range(len(mydat['trans']))]\n",
    "mdat = torch.stack(mdat)\n",
    "print(mdat.shape)\n",
    "plt.imshow(mdat[0])"
   ]
  },
  {
   "cell_type": "code",
   "execution_count": null,
   "id": "fc64e877",
   "metadata": {},
   "outputs": [],
   "source": []
  },
  {
   "cell_type": "code",
   "execution_count": 14,
   "id": "580dd2dd",
   "metadata": {},
   "outputs": [
    {
     "name": "stdout",
     "output_type": "stream",
     "text": [
      "torch.Size([10000, 6, 6])\n"
     ]
    },
    {
     "data": {
      "text/plain": [
       "<matplotlib.image.AxesImage at 0x7fbe6c3c0280>"
      ]
     },
     "execution_count": 14,
     "metadata": {},
     "output_type": "execute_result"
    },
    {
     "data": {
      "image/png": "[encoded data removed]",
      "text/plain": [
       "<Figure size 432x288 with 1 Axes>"
      ]
     },
     "metadata": {
      "needs_background": "light"
     },
     "output_type": "display_data"
    }
   ],
   "source": [
    "datsize = 10000\n",
    "dim = 6\n",
    "diag_mats = np.zeros([datsize, dim, dim])\n",
    "mode = 'so2'\n",
    "#orthog = True\n",
    "\n",
    "\n",
    "for k in range(datsize):\n",
    "    if mode == 'so3':\n",
    "        w1 = torch.tensor(np.random.uniform(0, 1, size=3))\n",
    "        theta1= torch.tensor(\n",
    "                    np.random.uniform(0, np.pi/2. * 0.8, size=1))\n",
    "\n",
    "        w2 = torch.tensor(np.random.uniform(0, 1, size=3))\n",
    "        theta2 = torch.tensor(\n",
    "                    np.random.uniform(0, np.pi/2. * 0.8, size=1))\n",
    "        diag_mats[k][:3, :3] = so3d.rodrigues_rotation(w1, theta1)\n",
    "        diag_mats[k][3:, 3:] = so3d.rodrigues_rotation(w2, theta2)\n",
    "    elif mode == 'three':\n",
    "        diag_mats[k][:3, :3] = np.random.normal(size=(3,3))\n",
    "        diag_mats[k][3:, 3:] = np.random.normal(size=(dim-3,dim-3))   \n",
    "    elif mode == 'so2':\n",
    "        theta1= torch.tensor(\n",
    "                    np.random.uniform(0, np.pi/2. * 0.8, size=1))\n",
    "        theta2= torch.tensor(\n",
    "                    np.random.uniform(0, np.pi/2. * 0.8, size=1))  \n",
    "        theta3= torch.tensor(\n",
    "                    np.random.uniform(0, np.pi/2. * 0.8, size=1)) \n",
    "        diag_mats[k][:2, :2] = so3d.two_d_rotation(theta1)\n",
    "        diag_mats[k][2:4, 2:4] = so3d.two_d_rotation(theta2)\n",
    "        diag_mats[k][4:, 4:] = so3d.two_d_rotation(theta3)        \n",
    "        \n",
    "    elif mode == 'two':\n",
    "        diag_mats[k][:2, :2] = np.random.normal(size=(2,2))\n",
    "        diag_mats[k][2:4, 2:4] = np.random.normal(size=(2,2))\n",
    "        diag_mats[k][4:, 4:] = np.random.normal(size=(2,2))\n",
    "\n",
    "\n",
    "diag_mats = torch.tensor(diag_mats).float()\n",
    "\n",
    "print(diag_mats.shape)\n",
    "checkid = 0\n",
    "plt.imshow(diag_mats[checkid])\n",
    "plt.imshow(diag_mats[checkid] @ diag_mats[checkid].permute([1,0]))"
   ]
  },
  {
   "cell_type": "code",
   "execution_count": 15,
   "id": "3b9294b4",
   "metadata": {},
   "outputs": [],
   "source": [
    "\n",
    "#DEBUG\n",
    "#diag_mats = mdat "
   ]
  },
  {
   "cell_type": "code",
   "execution_count": 16,
   "id": "a4571947",
   "metadata": {},
   "outputs": [],
   "source": [
    "P0 = torch.tensor(np.random.normal(size=(dim,dim))).float()\n",
    "Change0 = obc.ChangeOfBasis(d=dim, Pmat=P0)\n",
    "\n",
    "synth_mats = Change0(diag_mats).detach()"
   ]
  },
  {
   "cell_type": "code",
   "execution_count": 17,
   "id": "ed47691f",
   "metadata": {},
   "outputs": [
    {
     "data": {
      "text/plain": [
       "<matplotlib.image.AxesImage at 0x7fbe6c32ed60>"
      ]
     },
     "execution_count": 17,
     "metadata": {},
     "output_type": "execute_result"
    },
    {
     "data": {
      "image/png": "[encoded data removed]",
      "text/plain": [
       "<Figure size 432x288 with 2 Axes>"
      ]
     },
     "metadata": {
      "needs_background": "light"
     },
     "output_type": "display_data"
    }
   ],
   "source": [
    "checkid = 4\n",
    "check = P0 @ synth_mats[checkid] @ torch.linalg.inv(P0)\n",
    "plt.subplot(121)\n",
    "plt.imshow(check.detach())\n",
    "plt.subplot(122)\n",
    "plt.imshow(synth_mats[checkid].detach())"
   ]
  },
  {
   "cell_type": "code",
   "execution_count": null,
   "id": "83efab46",
   "metadata": {},
   "outputs": [],
   "source": []
  },
  {
   "cell_type": "code",
   "execution_count": 24,
   "id": "2500844f",
   "metadata": {},
   "outputs": [
    {
     "name": "stdout",
     "output_type": "stream",
     "text": [
      "ep:4 loss:2.415237759399414\n",
      "ep:9 loss:2.407547289276123\n",
      "ep:14 loss:2.400810676574707\n",
      "ep:19 loss:2.3997192848205566\n",
      "ep:24 loss:2.3987188621520996\n",
      "ep:29 loss:2.398674774932861\n",
      "ep:34 loss:2.398061546707153\n",
      "ep:39 loss:2.397379072189331\n",
      "ep:44 loss:2.39806669921875\n",
      "ep:49 loss:2.396882283401489\n"
     ]
    }
   ],
   "source": [
    "reload(obc)\n",
    "mylr = 0.01 \n",
    "S = synth_mats\n",
    "#S = diag_mats\n",
    "#STS = torch.matmul(S.transpose(-2, -1), S)\n",
    "Change1 = obc.optimize_bd_cob(S, epochs_monitor=5, lr=mylr)\n",
    "diaghat = Change1(S).detach()\n",
    "\n"
   ]
  },
  {
   "cell_type": "code",
   "execution_count": 25,
   "id": "1ae2a3f8",
   "metadata": {},
   "outputs": [
    {
     "data": {
      "text/plain": [
       "<matplotlib.image.AxesImage at 0x7fbe6c0bbac0>"
      ]
     },
     "execution_count": 25,
     "metadata": {},
     "output_type": "execute_result"
    },
    {
     "data": {
      "image/png": "[encoded data removed]",
      "text/plain": [
       "<Figure size 432x288 with 3 Axes>"
      ]
     },
     "metadata": {
      "needs_background": "light"
     },
     "output_type": "display_data"
    }
   ],
   "source": [
    "checkid = 4\n",
    "\n",
    "\n",
    "\n",
    "plt.subplot(131)\n",
    "plt.imshow(diag_mats[checkid].detach())\n",
    "plt.subplot(132)\n",
    "plt.imshow(S[checkid].detach())\n",
    "plt.subplot(133)\n",
    "plt.imshow(diaghat[checkid].detach())"
   ]
  },
  {
   "cell_type": "code",
   "execution_count": 26,
   "id": "67c9def7",
   "metadata": {},
   "outputs": [
    {
     "data": {
      "text/plain": [
       "<matplotlib.image.AxesImage at 0x7fbe635935b0>"
      ]
     },
     "execution_count": 26,
     "metadata": {},
     "output_type": "execute_result"
    },
    {
     "data": {
      "image/png": "[encoded data removed]",
      "text/plain": [
       "<Figure size 432x288 with 1 Axes>"
      ]
     },
     "metadata": {
      "needs_background": "light"
     },
     "output_type": "display_data"
    }
   ],
   "source": [
    "plt.imshow(torch.mean(torch.abs(diaghat) , axis =0).detach())"
   ]
  },
  {
   "cell_type": "code",
   "execution_count": 44,
   "id": "2fc4dfca",
   "metadata": {},
   "outputs": [
    {
     "data": {
      "text/plain": [
       "10000"
      ]
     },
     "execution_count": 44,
     "metadata": {},
     "output_type": "execute_result"
    }
   ],
   "source": [
    "len(diag_mats)"
   ]
  },
  {
   "cell_type": "code",
   "execution_count": null,
   "id": "0b62e9dc",
   "metadata": {},
   "outputs": [],
   "source": []
  }
 ],
 "metadata": {
  "kernelspec": {
   "display_name": "Python 3 (ipykernel)",
   "language": "python",
   "name": "python3"
  },
  "language_info": {
   "codemirror_mode": {
    "name": "ipython",
    "version": 3
   },
   "file_extension": ".py",
   "mimetype": "text/x-python",
   "name": "python",
   "nbconvert_exporter": "python",
   "pygments_lexer": "ipython3",
   "version": "3.8.9"
  }
 },
 "nbformat": 4,
 "nbformat_minor": 5
}
