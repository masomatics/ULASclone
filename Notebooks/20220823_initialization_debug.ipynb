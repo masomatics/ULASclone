{
 "cells": [
  {
   "cell_type": "code",
   "execution_count": 1,
   "id": "9222a666",
   "metadata": {},
   "outputs": [],
   "source": [
    "import os\n",
    "import sys\n",
    "sys.path.append('../')\n",
    "sys.path.append('../datasets')\n",
    "sys.path.append('../models')\n",
    "import torch\n",
    "import torchvision\n",
    "import torch.backends.cudnn as cudnn\n",
    "import random\n",
    "import numpy as np\n",
    "import matplotlib.pyplot as plt\n",
    "from torch.utils.data import DataLoader\n",
    "from importlib import reload\n",
    "from datasets.three_dim_shapes import ThreeDimShapesDataset\n",
    "from datasets.small_norb import SmallNORBDataset\n",
    "from datasets.seq_mnist import SequentialMNIST\n",
    "import models.seqae as seqae\n",
    "from sklearn.multioutput import MultiOutputRegressor\n",
    "from sklearn.linear_model import Ridge\n",
    "from datasets import so3_data as so3d\n",
    "from einops import rearrange\n",
    "from sklearn.metrics import r2_score\n",
    "import pdb\n",
    "from einops import rearrange\n",
    "\n",
    "import copy\n",
    "\n",
    "import csv\n",
    "import ast\n",
    "from source import yaml_utils as yu\n",
    "\n",
    "\n",
    "\n",
    "prob_config = {'args': {'ch_x': 1, 'dim_a': 6, 'dim_m': 10, 'k': 2.0, 'predictive': True}, 'fn': './models/seqae.py', 'name': 'SeqAELSTSQ_LinearNet'}"
   ]
  },
  {
   "cell_type": "code",
   "execution_count": 2,
   "id": "028e6ca8",
   "metadata": {},
   "outputs": [
    {
     "name": "stderr",
     "output_type": "stream",
     "text": [
      "/usr/local/lib/python3.8/site-packages/torch/nn/modules/lazy.py:178: UserWarning: Lazy modules are a new feature under heavy development so changes to the API or functionality can happen at any moment.\n",
      "  warnings.warn('Lazy modules are a new feature under heavy development '\n"
     ]
    },
    {
     "name": "stdout",
     "output_type": "stream",
     "text": [
      "condition passed\n",
      "condition passed\n",
      "condition passed\n",
      "condition passed\n",
      "condition passed\n",
      "initializing loop\n",
      "initializing loop\n",
      "initializing loop\n",
      "initializing loop\n",
      "initializing loop\n",
      "initializing loop\n",
      "initializing loop\n",
      "initializing loop\n",
      "initializing loop\n",
      "initializing loop\n",
      "initializing loop\n",
      "initializing loop\n",
      "condition passed\n"
     ]
    },
    {
     "data": {
      "text/plain": [
       "SeqAELSTSQ_LinearNet(\n",
       "  (enc): LinearNet(\n",
       "    (network): Linear(in_features=60, out_features=60, bias=True)\n",
       "  )\n",
       "  (dec): LinearNet(\n",
       "    (network): Linear(in_features=60, out_features=60, bias=True)\n",
       "  )\n",
       "  (dynamics_model): LinearTensorDynamicsLSTSQ()\n",
       ")"
      ]
     },
     "execution_count": 2,
     "metadata": {},
     "output_type": "execute_result"
    }
   ],
   "source": [
    "yu.load_component(prob_config)"
   ]
  },
  {
   "cell_type": "markdown",
   "id": "bf0f9753",
   "metadata": {},
   "source": [
    "it seems that the parentclass of LinearNet has MLP in it, and it is unnecessarily initializing the MLP "
   ]
  },
  {
   "cell_type": "code",
   "execution_count": null,
   "id": "1e041092",
   "metadata": {},
   "outputs": [],
   "source": []
  }
 ],
 "metadata": {
  "kernelspec": {
   "display_name": "Python 3 (ipykernel)",
   "language": "python",
   "name": "python3"
  },
  "language_info": {
   "codemirror_mode": {
    "name": "ipython",
    "version": 3
   },
   "file_extension": ".py",
   "mimetype": "text/x-python",
   "name": "python",
   "nbconvert_exporter": "python",
   "pygments_lexer": "ipython3",
   "version": "3.8.9"
  }
 },
 "nbformat": 4,
 "nbformat_minor": 5
}
