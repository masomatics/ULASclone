{
 "cells": [
  {
   "cell_type": "code",
   "execution_count": 1,
   "id": "17d25dfd",
   "metadata": {},
   "outputs": [],
   "source": [
    "import os\n",
    "import sys\n",
    "sys.path.append('../')\n",
    "sys.path.append('../datasets')\n",
    "sys.path.append('../models')\n",
    "import torch\n",
    "import torchvision\n",
    "import torch.backends.cudnn as cudnn\n",
    "import random\n",
    "import numpy as np\n",
    "import matplotlib.pyplot as plt\n",
    "from torch.utils.data import DataLoader\n",
    "from importlib import reload\n",
    "from datasets.three_dim_shapes import ThreeDimShapesDataset\n",
    "from datasets.small_norb import SmallNORBDataset\n",
    "from datasets.seq_mnist import SequentialMNIST\n",
    "import models.seqae as seqae\n",
    "from sklearn.multioutput import MultiOutputRegressor\n",
    "from sklearn.linear_model import Ridge\n",
    "from datasets import so3_data as so3d\n",
    "from einops import rearrange\n",
    "from sklearn.metrics import r2_score\n",
    "import pdb\n",
    "import copy\n",
    "\n",
    "import csv\n",
    "import ast\n",
    "from source import yaml_utils as yu\n",
    "\n",
    "\n",
    "from tqdm import tqdm\n",
    "\n",
    "if torch.cuda.is_available():\n",
    "    device = torch.device('cuda')\n",
    "    cudnn.deterministic = True\n",
    "    cudnn.benchmark = True\n",
    "else:\n",
    "    device = torch.device('cpu')\n",
    "    gpu_index = -1\n",
    "\n",
    "    \n",
    "    \n",
    "from utils import yaml_utils as yu\n",
    "import yaml\n",
    "rootpath = '/mnt/nfs-mnj-hot-01/tmp/masomatics/block_diag/'\n",
    "result_dir = '/mnt/nfs-mnj-hot-01/tmp/masomatics/block_diag/result'\n",
    "\n",
    "\n",
    "\n"
   ]
  },
  {
   "cell_type": "code",
   "execution_count": 13,
   "id": "0d7e5ae4",
   "metadata": {},
   "outputs": [
    {
     "data": {
      "text/plain": [
       "['data_filenameso3dat_sphere_MLPpt_nameSeqAELSTSQ_LinearNet',\n",
       " 'data_filenameso3dat_sphere_Linearpt_nameSeqAELSTSQ_LinearNet',\n",
       " 'data_filenameso3dat_sphere_iResNetpt_nameSeqAELSTSQ_so3Net',\n",
       " 'data_filenameso3dat_sphere_Linearpt_nameSeqAELSTSQ_so3Net',\n",
       " 'data_filenameso3dat_sphere_iResNetpt_nameSeqAELSTSQ_LinearNet',\n",
       " 'data_filenameso3dat_sphere_MLPpt_nameSeqAELSTSQ_so3Net']"
      ]
     },
     "execution_count": 13,
     "metadata": {},
     "output_type": "execute_result"
    }
   ],
   "source": [
    "targdir = '20220701_so3_various_dat_three_0'\n",
    "exp_result = os.path.join(result_dir, targdir)\n",
    "\n",
    "\n",
    "def iter_list(log_dir):\n",
    "    dirlist = os.listdir(log_dir)\n",
    "    iterlist = []\n",
    "    for mydir in dirlist:\n",
    "        if 'iter' in mydir:\n",
    "            iterlist.append(int(mydir.split('_')[-1]))\n",
    "    return np.array(iterlist)\n",
    "    \n",
    "    \n",
    "def load_model(model, log_dir, iters, latest=False):\n",
    "    print('snapshot_model_iter_{}'.format(iters))\n",
    "    if latest == True:\n",
    "        iters = np.max(iter_list(log_dir))\n",
    "    model.load_state_dict(torch.load(os.path.join(log_dir, 'snapshot_model_iter_{}'.format(iters))))\n",
    "\n",
    "\n",
    "\n",
    "def load_config(targdir_path):\n",
    "    targ_config_path = os.path.join(targdir_path, 'config.yml')\n",
    "    with open(targ_config_path, 'r') as f:\n",
    "        config = yaml.safe_load(f)\n",
    "    return config\n",
    "    \n",
    "    \n",
    "def filter_names(query, mydict):\n",
    "    filtered = {} \n",
    "    for key in mydict.keys():\n",
    "        if query in key:\n",
    "            filtered[key] = mydict[key]\n",
    "    return filtered\n",
    "\n",
    "\n",
    "def filter_list(query, mylist):\n",
    "    filtered = [] \n",
    "    for key in mylist:\n",
    "        if query in key:\n",
    "            filtered.append(key)\n",
    "    return filtered\n",
    "    \n",
    "    \n",
    "os.listdir(exp_result)\n",
    "\n",
    "\n"
   ]
  },
  {
   "cell_type": "code",
   "execution_count": 90,
   "id": "977af9e2",
   "metadata": {},
   "outputs": [
    {
     "name": "stderr",
     "output_type": "stream",
     "text": [
      "/usr/local/lib/python3.8/site-packages/torch/nn/modules/lazy.py:178: UserWarning: Lazy modules are a new feature under heavy development so changes to the API or functionality can happen at any moment.\n",
      "  warnings.warn('Lazy modules are a new feature under heavy development '\n"
     ]
    },
    {
     "name": "stdout",
     "output_type": "stream",
     "text": [
      "snapshot_model_iter_1000000\n"
     ]
    },
    {
     "name": "stderr",
     "output_type": "stream",
     "text": [
      "100%|██████████| 313/313 [00:01<00:00, 170.83it/s]\n",
      "/usr/local/lib/python3.8/site-packages/torch/nn/modules/lazy.py:178: UserWarning: Lazy modules are a new feature under heavy development so changes to the API or functionality can happen at any moment.\n",
      "  warnings.warn('Lazy modules are a new feature under heavy development '\n"
     ]
    },
    {
     "name": "stdout",
     "output_type": "stream",
     "text": [
      "snapshot_model_iter_1000000\n"
     ]
    },
    {
     "name": "stderr",
     "output_type": "stream",
     "text": [
      "100%|██████████| 313/313 [00:02<00:00, 146.41it/s]\n"
     ]
    }
   ],
   "source": [
    "results = {} \n",
    "inferred_Ms = {} \n",
    "tp = 3\n",
    "n_cond = 5\n",
    "\n",
    "targlist = [] \n",
    "\n",
    "query = 'dat_sphere_Linearpt'\n",
    "targlist = filter_list(query, os.listdir(exp_result))\n",
    "\n",
    "\n",
    "for targdir in targlist:\n",
    "    \n",
    "    Mlist = [] \n",
    "    targdir_path = os.path.join(exp_result, targdir)\n",
    "    config = load_config(targdir_path)\n",
    "    \n",
    "    dataconfig = config['train_data']\n",
    "    dataconfig['args']['T'] = tp + n_cond\n",
    "    \n",
    "    data = yu.load_component(dataconfig)\n",
    "    train_loader = DataLoader(data, \n",
    "                              batch_size=config['batchsize'],\n",
    "                              shuffle=True,\n",
    "                              num_workers=config['num_workers'])\n",
    "    model = yu.load_component(config['model'])\n",
    "    iterlist = iter_list(targdir_path)\n",
    "    \n",
    "    if len(iterlist) == 0:\n",
    "        print(f\"\"\"There is no model trained for {targdir_path}\"\"\")\n",
    "    else:\n",
    "        maxiter = np.max(iter_list(targdir_path))\n",
    "        load_model(model, targdir_path, maxiter)\n",
    "        model = model.eval().to(device)\n",
    "\n",
    "        # Initialize lazy modules\n",
    "        images = iter(train_loader).next()\n",
    "        images = images.to(device)\n",
    "        model(images[:, :2])\n",
    "\n",
    "        with torch.no_grad():\n",
    "            scores = [] \n",
    "            for images in tqdm(train_loader):\n",
    "                images = images.to(device)\n",
    "                images_cond = images[:, :n_cond]\n",
    "                images_target = images[:, n_cond:n_cond+tp]\n",
    "                M = model.get_M(images_cond) #n a a\n",
    "                H = model.encode(images_cond[:, -1:])[:, 0] # n s a\n",
    "\n",
    "                xs = []\n",
    "                for r in range(tp):\n",
    "                    H = H @ M \n",
    "                    x_next_t = model.decode(H[:, None])\n",
    "                    xs.append(x_next_t)\n",
    "\n",
    "                x_next = torch.cat(xs, axis=1)\n",
    "                r2_losses = [] \n",
    "                for k in range(tp):\n",
    "                    r2_loss_t = r2_score(images_target[:,k].to('cpu').numpy(), x_next[:,k].to('cpu').numpy()) \n",
    "                    r2_losses.append(r2_loss_t)\n",
    "                scores.append(torch.tensor(r2_losses))\n",
    "                Mlist.append(M)\n",
    "        \n",
    "                \n",
    "        Mlist = torch.cat(Mlist)       \n",
    "        scores = torch.stack(scores)\n",
    "        av_score = torch.mean(scores, axis=0)\n",
    "        av_var = torch.var(scores, axis=0)\n",
    "        results[targdir] = [av_score, av_var]\n",
    "        inferred_Ms[targdir] = Mlist \n",
    "\n",
    "\n",
    "    "
   ]
  },
  {
   "cell_type": "code",
   "execution_count": 100,
   "id": "8692a729",
   "metadata": {},
   "outputs": [
    {
     "name": "stdout",
     "output_type": "stream",
     "text": [
      "['data_filenameso3dat_sphere_Linearpt_nameSeqAELSTSQ_LinearNet', 'data_filenameso3dat_sphere_Linearpt_nameSeqAELSTSQ_so3Net']\n"
     ]
    }
   ],
   "source": [
    "result_list = list(results.keys())\n",
    "print(result_list)"
   ]
  },
  {
   "cell_type": "code",
   "execution_count": 101,
   "id": "571eaf00",
   "metadata": {},
   "outputs": [
    {
     "name": "stdout",
     "output_type": "stream",
     "text": [
      "torch.Size([10000, 6, 6])\n",
      "torch.Size([10000, 6, 6])\n"
     ]
    }
   ],
   "source": [
    "print(inferred_Ms[result_list[0]].shape)\n",
    "S = torch.abs(inferred_Ms[result_list[0]])\n",
    "STS = torch.matmul(S.transpose(-2, -1), S)\n",
    "print(STS.shape)\n"
   ]
  },
  {
   "cell_type": "code",
   "execution_count": 102,
   "id": "6dc1f830",
   "metadata": {},
   "outputs": [
    {
     "data": {
      "text/plain": [
       "<module 'utils.optimize_bd_cob' from '../utils/optimize_bd_cob.py'>"
      ]
     },
     "execution_count": 102,
     "metadata": {},
     "output_type": "execute_result"
    }
   ],
   "source": [
    "from utils import optimize_bd_cob as obc\n",
    "from importlib import reload\n",
    "reload(obc)"
   ]
  },
  {
   "cell_type": "code",
   "execution_count": 103,
   "id": "28ebfdb4",
   "metadata": {},
   "outputs": [
    {
     "name": "stdout",
     "output_type": "stream",
     "text": [
      "ep:9 loss:2.8329090282440186\n",
      "ep:19 loss:2.831703650665283\n",
      "ep:29 loss:2.830491424179077\n",
      "ep:39 loss:2.8301649604797365\n",
      "ep:49 loss:2.8292694206237794\n"
     ]
    }
   ],
   "source": [
    "Pmat = obc.optimize_bd_cob(STS)\n"
   ]
  },
  {
   "cell_type": "code",
   "execution_count": 124,
   "id": "b1f1830c",
   "metadata": {},
   "outputs": [
    {
     "data": {
      "image/png": "[encoded data removed]",
      "text/plain": [
       "<Figure size 720x72 with 10 Axes>"
      ]
     },
     "metadata": {
      "needs_background": "light"
     },
     "output_type": "display_data"
    }
   ],
   "source": [
    "PSP = torch.abs(Pmat(S).detach().to('cpu'))\n",
    "toshow = 10\n",
    "plt.figure(figsize= (toshow, 1))\n",
    "for k in range(toshow):\n",
    "    plt.subplot(1, toshow, k+1)\n",
    "    plt.imshow(PSP[k])"
   ]
  },
  {
   "cell_type": "code",
   "execution_count": 125,
   "id": "8b3608b2",
   "metadata": {},
   "outputs": [
    {
     "data": {
      "text/plain": [
       "tensor([[0.1476, 0.1563, 0.1401, 0.0134, 0.1081, 0.3852],\n",
       "        [0.1150, 2.1403, 0.1709, 0.0860, 0.2542, 0.1297],\n",
       "        [0.0651, 0.2073, 0.2333, 0.1352, 0.2157, 0.0051],\n",
       "        [0.2411, 0.4714, 0.1226, 0.2995, 0.0466, 0.1300],\n",
       "        [0.0049, 0.0680, 0.2001, 0.1336, 0.8037, 0.0724],\n",
       "        [0.0639, 0.0901, 0.1145, 0.1082, 0.0202, 0.8160]])"
      ]
     },
     "execution_count": 125,
     "metadata": {},
     "output_type": "execute_result"
    }
   ],
   "source": [
    "PSP[10]"
   ]
  },
  {
   "cell_type": "code",
   "execution_count": 126,
   "id": "f03fdb83",
   "metadata": {},
   "outputs": [
    {
     "name": "stdout",
     "output_type": "stream",
     "text": [
      "\u001b[0m\u001b[01;34m20220511_so3_exp_0\u001b[0m/\r\n",
      "\u001b[01;34m20220611_so3\u001b[0m/\r\n",
      "\u001b[01;34m20220611_so3_so3run\u001b[0m/\r\n",
      "\u001b[01;34m20220611_so3_so3run_rcst\u001b[0m/\r\n",
      "\u001b[01;34m20220611_so3_so3run_rcst_iter\u001b[0m/\r\n",
      "\u001b[01;34m20220615_Mstar_comm\u001b[0m/\r\n",
      "\u001b[01;34m20220615_NeuralMstar\u001b[0m/\r\n",
      "\u001b[01;34m20220615_NeuralMstar_neuralM\u001b[0m/\r\n",
      "\u001b[01;34m20220615_NeuralMstar_neuralM_vanilla\u001b[0m/\r\n",
      "\u001b[01;34m20220615_default_run_mnist\u001b[0m/\r\n",
      "\u001b[01;34m20220617_NeuralMstar_bg_neuralM_comm\u001b[0m/\r\n",
      "\u001b[01;34m20220617_NeuralMstar_bg_neuralM_vanilla\u001b[0m/\r\n",
      "\u001b[01;34m20220617_default_run_mnist_bg\u001b[0m/\r\n",
      "\u001b[01;34m20220621_NeuralMstar_bg_neuralM_comm\u001b[0m/\r\n",
      "\u001b[01;34m20220621_NeuralMstar_bg_neuralM_vanilla\u001b[0m/\r\n",
      "\u001b[01;34m20220621_default_run_mnist_bg\u001b[0m/\r\n",
      "\u001b[01;34m20220621_so3_rcst_so3run\u001b[0m/\r\n",
      "\u001b[01;34m20220621_so3_rcst_so3run_rcst\u001b[0m/\r\n",
      "\u001b[01;34m20220624_Mstar_longer_tp_neuralM_comm\u001b[0m/\r\n",
      "\u001b[01;34m20220624_Mstar_longer_tp_neuralM_vanilla\u001b[0m/\r\n",
      "\u001b[01;34m20220624_NeuralMstar_comm_bg_neuralM_comm\u001b[0m/\r\n",
      "\u001b[01;34m20220624_NeuralMstar_comm_bg_neuralM_vanilla\u001b[0m/\r\n",
      "\u001b[01;34m20220628_NeuralMstar_comm_0\u001b[0m/\r\n",
      "\u001b[01;34m20220628_longer_tp_0\u001b[0m/\r\n",
      "\u001b[01;34m20220628_pfkube_try_0\u001b[0m/\r\n",
      "\u001b[01;34m20220628_so3_idnet_0\u001b[0m/\r\n",
      "\u001b[01;34m20220628_so3_linear_net_0\u001b[0m/\r\n",
      "\u001b[01;34m20220628_so3_various_dat_0\u001b[0m/\r\n",
      "\u001b[01;34m20220629_so3_various_dat_0\u001b[0m/\r\n",
      "\u001b[01;34m20220630_NeuralMstar_comm_0\u001b[0m/\r\n",
      "\u001b[01;34m20220630_longer_tp_0\u001b[0m/\r\n",
      "\u001b[01;34m20220630_so3_various_dat_0\u001b[0m/\r\n",
      "\u001b[01;34m20220701_so3_various_dat_four_0\u001b[0m/\r\n",
      "\u001b[01;34m20220701_so3_various_dat_three_0\u001b[0m/\r\n",
      "\u001b[01;34m20220701_so3_various_dat_two_0\u001b[0m/\r\n",
      "\u001b[01;34mtemp\u001b[0m/\r\n"
     ]
    }
   ],
   "source": [
    "ls /mnt/nfs-mnj-hot-01/tmp/masomatics/block_diag/result"
   ]
  },
  {
   "cell_type": "code",
   "execution_count": 132,
   "id": "d56c858f",
   "metadata": {},
   "outputs": [
    {
     "data": {
      "text/plain": [
       "{'args': {'T': 8, 'data_filename': 'so3dat_sphere_Linear.pt', 'train': True},\n",
       " 'fn': './datasets/so3_data.py',\n",
       " 'name': 'SO3rotationSequence'}"
      ]
     },
     "execution_count": 132,
     "metadata": {},
     "output_type": "execute_result"
    }
   ],
   "source": [
    "dataconfig "
   ]
  },
  {
   "cell_type": "code",
   "execution_count": 131,
   "id": "11c905fd",
   "metadata": {},
   "outputs": [
    {
     "name": "stdout",
     "output_type": "stream",
     "text": [
      "__init__.py   seq_mnist.py   so3_data.py\r\n",
      "\u001b[0m\u001b[01;34m__pycache__\u001b[0m/  small_norb.py  three_dim_shapes.py\r\n"
     ]
    }
   ],
   "source": [
    "ls ../datasets/"
   ]
  },
  {
   "cell_type": "code",
   "execution_count": 133,
   "id": "aa361d92",
   "metadata": {},
   "outputs": [
    {
     "name": "stdout",
     "output_type": "stream",
     "text": [
      "\u001b[0m\u001b[01;34mMNIST\u001b[0m/  \u001b[01;34mso3\u001b[0m/\r\n"
     ]
    }
   ],
   "source": [
    "ls  /mnt/nfs-mnj-hot-01/tmp/masomatics/block_diag/datasets/"
   ]
  },
  {
   "cell_type": "code",
   "execution_count": null,
   "id": "cd84c4a5",
   "metadata": {},
   "outputs": [],
   "source": []
  }
 ],
 "metadata": {
  "kernelspec": {
   "display_name": "Python 3 (ipykernel)",
   "language": "python",
   "name": "python3"
  },
  "language_info": {
   "codemirror_mode": {
    "name": "ipython",
    "version": 3
   },
   "file_extension": ".py",
   "mimetype": "text/x-python",
   "name": "python",
   "nbconvert_exporter": "python",
   "pygments_lexer": "ipython3",
   "version": "3.8.9"
  }
 },
 "nbformat": 4,
 "nbformat_minor": 5
}
