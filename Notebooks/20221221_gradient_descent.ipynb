{
 "cells": [
  {
   "cell_type": "code",
   "execution_count": 21,
   "id": "1fcdc02e",
   "metadata": {},
   "outputs": [],
   "source": [
    "import einops\n",
    "from torch import nn\n",
    "import torch\n",
    "import pickle\n",
    "import sys\n",
    "sys.path.append('../')\n",
    "from models import misc_mnet as mnet\n",
    "\n",
    "\n",
    "\n",
    "class Meta_Mnet(nn.Module):\n",
    "    def __init__(self, batchsize=32, dim_a=16, mode='glasso',\n",
    "                 normalize=False, beta=0, temperature=1.0, **kwargs):\n",
    "        super().__init__()\n",
    "\n",
    "        #EINOPS CAUSES A PROBLEM!!!\n",
    "        #self.Ms = nn.Parameter(einops.repeat(torch.eye(dim_a), 'c a -> b c a', b = batchsize).float())\n",
    "        \n",
    "        \n",
    "        #self.Ms = nn.Parameter(torch.tensor(np.random.normal(size=(32, 16, 16))).float())\n",
    "        self.Ms = nn.Parameter(torch.stack([torch.eye(16)]*32))\n",
    "\n",
    "\n",
    "        # torch.nn.init.orthogonal_(self.U)\n",
    "        self.mode = mode\n",
    "\n",
    "        self.Mnet_args = {'normalize':normalize,\n",
    "                          'dim_a': dim_a,\n",
    "                          'beta': beta,\n",
    "                          'temperature':temperature}\n",
    "\n",
    "    def __call__(self, H0, H1):\n",
    "        H1hat = H0 @ self.Ms\n",
    "\n",
    "        if self.mode == 'exact':\n",
    "            loss = loss_l2_norm(H1hat, H1)                                       \n",
    "        elif self.mode == 'glasso':\n",
    "            loss = mnet.loss_group_lasso_norm(H1hat, H1)\n",
    "        else:\n",
    "            \n",
    "            raise NotImplementedError\n",
    "\n",
    "        return loss\n",
    "\n",
    "    \n",
    "def loss_l2_norm(z1, z2, **kwargs):\n",
    "    return torch.sqrt(torch.sum((z1 -  z2) **2))"
   ]
  },
  {
   "cell_type": "code",
   "execution_count": 24,
   "id": "4cc66109",
   "metadata": {},
   "outputs": [
    {
     "name": "stdout",
     "output_type": "stream",
     "text": [
      "torch.Size([32, 256, 16])\n",
      "inner_loss 18.008941650390625\n",
      "inner_loss 17.99810791015625\n",
      "inner_loss 17.9870548248291\n",
      "inner_loss 17.975772857666016\n",
      "inner_loss 17.96426010131836\n",
      "inner_loss 17.952512741088867\n",
      "inner_loss 17.94052505493164\n",
      "inner_loss 17.92829704284668\n",
      "inner_loss 17.915817260742188\n",
      "inner_loss 17.903091430664062\n",
      "inner_loss 17.89011001586914\n",
      "inner_loss 17.87687110900879\n",
      "inner_loss 17.863378524780273\n",
      "inner_loss 17.84962272644043\n",
      "inner_loss 17.835603713989258\n",
      "inner_loss 17.821317672729492\n",
      "inner_loss 17.8067684173584\n",
      "inner_loss 17.791948318481445\n",
      "inner_loss 17.77686309814453\n",
      "inner_loss 17.761505126953125\n"
     ]
    }
   ],
   "source": [
    "inner_args = {'normalize': 0, 'batchsize': 32, 'num_loops': 20, 'detach': 1, 'beta': 0, 'temperature': 1, 'mode': 'exact', 'lr': 0.01, 'dim_a': 16}\n",
    "\n",
    "with open('H0H1.pkl', 'rb') as fp:\n",
    "    problem = pickle.load(fp)\n",
    "H0 = problem['H0']\n",
    "H1 = problem['H1']\n",
    "print(H0.shape)\n",
    "import numpy as np\n",
    "\n",
    "\n",
    "np.random.seed(1)\n",
    "trueM = torch.tensor(np.random.normal(size = (H0.shape[0], 16, 16))).float()\n",
    "trueH1 = H0 @ trueM\n",
    "inner_args['num_loops']=20\n",
    "inner_args['lr']=0.1  \n",
    "\n",
    "\n",
    "Mobj = Meta_Mnet(dim_a=16, batchsize=32, mode='glasso')\n",
    "optimizer = torch.optim.SGD(Mobj.parameters(), inner_args['lr'])\n",
    "\n",
    "for k in range(inner_args['num_loops']):\n",
    "    optimizer.zero_grad()\n",
    "    loss = Mobj(H0, trueH1)\n",
    "    print(f\"\"\"inner_loss {loss.item()}\"\"\")\n",
    "    loss.backward()\n",
    "    optimizer.step()"
   ]
  },
  {
   "cell_type": "code",
   "execution_count": 3,
   "id": "ffcf8495",
   "metadata": {},
   "outputs": [
    {
     "name": "stdout",
     "output_type": "stream",
     "text": [
      "torch.Size([32, 16, 16])\n"
     ]
    }
   ],
   "source": [
    "print(Mobj.Ms.shape)"
   ]
  },
  {
   "cell_type": "code",
   "execution_count": 4,
   "id": "b467edee",
   "metadata": {},
   "outputs": [
    {
     "name": "stdout",
     "output_type": "stream",
     "text": [
      "torch.Size([32, 256, 16])\n"
     ]
    }
   ],
   "source": [
    "print(H0.shape)"
   ]
  },
  {
   "cell_type": "code",
   "execution_count": 5,
   "id": "229624c2",
   "metadata": {},
   "outputs": [
    {
     "data": {
      "text/plain": [
       "torch.Size([32, 256, 16])"
      ]
     },
     "execution_count": 5,
     "metadata": {},
     "output_type": "execute_result"
    }
   ],
   "source": [
    "(H0 @ Mobj.Ms).shape"
   ]
  },
  {
   "cell_type": "code",
   "execution_count": 6,
   "id": "ad60eadf",
   "metadata": {},
   "outputs": [
    {
     "data": {
      "text/plain": [
       "(device(type='cpu'), device(type='cpu'))"
      ]
     },
     "execution_count": 6,
     "metadata": {},
     "output_type": "execute_result"
    }
   ],
   "source": [
    "H0.device, Mobj.Ms.device"
   ]
  },
  {
   "cell_type": "code",
   "execution_count": null,
   "id": "d18bcdf0",
   "metadata": {},
   "outputs": [],
   "source": []
  }
 ],
 "metadata": {
  "kernelspec": {
   "display_name": "Python 3 (ipykernel)",
   "language": "python",
   "name": "python3"
  },
  "language_info": {
   "codemirror_mode": {
    "name": "ipython",
    "version": 3
   },
   "file_extension": ".py",
   "mimetype": "text/x-python",
   "name": "python",
   "nbconvert_exporter": "python",
   "pygments_lexer": "ipython3",
   "version": "3.9.12"
  }
 },
 "nbformat": 4,
 "nbformat_minor": 5
}
