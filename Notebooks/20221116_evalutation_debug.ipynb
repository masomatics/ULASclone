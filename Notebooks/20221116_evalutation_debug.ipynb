{
 "cells": [
  {
   "cell_type": "code",
   "execution_count": 1,
   "id": "72f3d1d3",
   "metadata": {},
   "outputs": [
    {
     "name": "stdout",
     "output_type": "stream",
     "text": [
      "True\n",
      "['20221031_double_mnist_two_0', '20221104_mnist_double_0', '20221103_mnist_double_0', '20221116_mnist_double_0', '20221101_mnist_double_0', '20221031_double_mnist_0', '20221101_mnist_double_two_0']\n",
      "True\n"
     ]
    }
   ],
   "source": [
    "import os\n",
    "import sys\n",
    "sys.path.append('../')\n",
    "sys.path.append('../datasets')\n",
    "sys.path.append('../models')\n",
    "import torch\n",
    "import torchvision\n",
    "import torch.backends.cudnn as cudnn\n",
    "import random\n",
    "import numpy as np\n",
    "import matplotlib.pyplot as plt\n",
    "from torch.utils.data import DataLoader\n",
    "from importlib import reload\n",
    "from datasets.three_dim_shapes import ThreeDimShapesDataset\n",
    "from datasets.small_norb import SmallNORBDataset\n",
    "from datasets.seq_mnist import SequentialMNIST\n",
    "from datasets.seq_mnist import SequentialMNIST_double\n",
    "from datasets import seq_mnist as sm\n",
    "\n",
    "import models.seqae as seqae\n",
    "import models.base_networks as bn \n",
    "import models\n",
    "from sklearn.multioutput import MultiOutputRegressor\n",
    "from sklearn.linear_model import Ridge\n",
    "from einops import rearrange\n",
    "from sklearn.metrics import r2_score\n",
    "import pdb\n",
    "from einops import rearrange\n",
    "from utils import notebook_utils as nu\n",
    "from utils import evaluations as ev\n",
    "\n",
    "\n",
    "\n",
    "import copy\n",
    "\n",
    "import csv\n",
    "import ast\n",
    "from source import yaml_utils as yu\n",
    "\n",
    "\n",
    "from tqdm import tqdm\n",
    "\n",
    "if torch.cuda.is_available():\n",
    "    device = torch.device('cuda')\n",
    "    cudnn.deterministic = True\n",
    "    cudnn.benchmark = True\n",
    "else:\n",
    "    device = torch.device('cpu')\n",
    "    gpu_index = -1\n",
    "\n",
    "    \n",
    "from utils import yaml_utils as yu\n",
    "import yaml\n",
    "rootpath = '/mnt/nfs-mnj-hot-01/tmp/masomatics/block_diag/'\n",
    "result_dir = '/mnt/nfs-mnj-hot-01/tmp/masomatics/block_diag/result'\n",
    "jobdir = '/mnt/vol21/masomatics/ULASclone/jobs'\n",
    "\n",
    "mode = 'so3'\n",
    "dat_root = f\"\"\"/mnt/nfs-mnj-hot-01/tmp/masomatics/block_diag/datasets/{mode}\"\"\"\n",
    "\n",
    "playground_path = os.path.join(result_dir, '20220913_playground_model')\n",
    "\n",
    "\n",
    "print(os.path.exists(playground_path))\n",
    "\n",
    "print(nu.filter_list('double', os.listdir(result_dir)))\n",
    "targpath = os.path.join(result_dir, '20221116_mnist_double_0')\n",
    "print(os.path.exists(targpath))"
   ]
  },
  {
   "cell_type": "code",
   "execution_count": 2,
   "id": "b8885f1c",
   "metadata": {},
   "outputs": [
    {
     "name": "stdout",
     "output_type": "stream",
     "text": [
      "['pair_transitionTrue_dim_m128_dim_a8', 'pair_transitionFalse_dim_m128_dim_a8']\n"
     ]
    }
   ],
   "source": [
    "reload(nu)\n",
    "targlist = os.listdir(targpath)\n",
    "\n",
    "targlist = nu.model_exists(targlist,  targpath)\n",
    "\n",
    "targlist = nu.filter_queries(query_list=['dim_a8', 'dim_m128'] , mylist=targlist)\n",
    "\n",
    "print(targlist)\n",
    "\n",
    "\n"
   ]
  },
  {
   "cell_type": "code",
   "execution_count": 3,
   "id": "d9a3cccf",
   "metadata": {},
   "outputs": [
    {
     "name": "stderr",
     "output_type": "stream",
     "text": [
      "/usr/local/lib/python3.8/site-packages/torchvision/datasets/mnist.py:498: UserWarning: The given NumPy array is not writeable, and PyTorch does not support non-writeable tensors. This means you can write to the underlying (supposedly non-writeable) NumPy array using the tensor. You may want to copy the array to protect its data or make it writeable before converting it to a tensor. This type of warning will be suppressed for the rest of this program. (Triggered internally at  /pytorch/torch/csrc/utils/tensor_numpy.cpp:180.)\n",
      "  return torch.from_numpy(parsed.astype(m[2], copy=False)).view(*s)\n"
     ]
    },
    {
     "name": "stdout",
     "output_type": "stream",
     "text": [
      "{'args': {'T': 17, 'backgrnd': False, 'max_T': 17, 'max_angle_velocity_ratio': [-0.5, 0.5], 'max_color_velocity_ratio': [-0.5, 0.5], 'only_use_digit4': True, 'pair_transition': False, 'root': '/mnt/nfs-mnj-hot-01/tmp/masomatics/block_diag/datasets/MNIST', 'same_object': True, 'train': True}, 'fn': './datasets/seq_mnist.py', 'name': 'SequentialMNIST_double'}\n"
     ]
    },
    {
     "name": "stderr",
     "output_type": "stream",
     "text": [
      "/usr/local/lib/python3.8/site-packages/torch/nn/modules/lazy.py:178: UserWarning: Lazy modules are a new feature under heavy development so changes to the API or functionality can happen at any moment.\n",
      "  warnings.warn('Lazy modules are a new feature under heavy development '\n"
     ]
    }
   ],
   "source": [
    "reload(sm)\n",
    "#targdir_path = '/mnt/nfs-mnj-hot-01/tmp/masomatics/block_diag/result/20221116_mnist_double_0/pair_transitionTrue_dim_m128_dim_a8' \n",
    "targdir_path = '/mnt/nfs-mnj-hot-01/tmp/masomatics/block_diag/result/20221116_mnist_double_0/pair_transitionFalse_dim_m128_dim_a8' \n",
    "\n",
    "\n",
    "tp = 15\n",
    "n_cond=2\n",
    "\n",
    "Mlist = []\n",
    "if os.path.exists(os.path.join(targdir_path, 'config.yml')):\n",
    "    config = nu.load_config(targdir_path)\n",
    "else:\n",
    "    config = nu.load_config(baseline_path)\n",
    "\n",
    "dataconfig = config['train_data']\n",
    "dataconfig['args']['T'] = tp + n_cond\n",
    "try:\n",
    "    if dataconfig['name'] != 'SequentialMNIST_double':\n",
    "        dataconfig['args']['train'] = False\n",
    "except:\n",
    "    print(\"Not working with the pair dataset\")\n",
    "dataconfig['args']['max_T'] = tp + n_cond\n",
    "\n",
    "\n",
    "data = yu.load_component(dataconfig)\n",
    "\n",
    "train_loader = DataLoader(data,\n",
    "                          batch_size=config['batchsize'],\n",
    "                          shuffle=True,\n",
    "                          num_workers=config['num_workers'])\n",
    "print(dataconfig)\n",
    "\n",
    "model_config = config['model']\n",
    "model = yu.load_component(model_config)\n",
    "iterlist = nu.iter_list(targdir_path)\n",
    "\n",
    "#[array([-4.44810926,  5.9317169 ]), array([-4.69249351,  6.69777453])] [array([-4.01038611, -6.21961682]), array([8.62280464, 3.90062484])]"
   ]
  },
  {
   "cell_type": "code",
   "execution_count": 4,
   "id": "505e7558",
   "metadata": {},
   "outputs": [],
   "source": [
    "# maxiter = np.max(nu.iter_list(targdir_path))\n",
    "# nu.load_model(model, targdir_path, maxiter)\n",
    "# model = model.eval().to(device)"
   ]
  },
  {
   "cell_type": "code",
   "execution_count": 5,
   "id": "5cf3f364",
   "metadata": {},
   "outputs": [],
   "source": [
    "unko = data.__getitem__(0)"
   ]
  },
  {
   "cell_type": "code",
   "execution_count": 6,
   "id": "3c1d8baf",
   "metadata": {},
   "outputs": [],
   "source": [
    "images = next(iter(train_loader))"
   ]
  },
  {
   "cell_type": "code",
   "execution_count": 7,
   "id": "2f446d04",
   "metadata": {},
   "outputs": [],
   "source": [
    "if type(images) == list:\n",
    "    images = torch.stack(images)\n",
    "    images = images.transpose(1, 0)"
   ]
  },
  {
   "cell_type": "code",
   "execution_count": 8,
   "id": "6c0e8acd",
   "metadata": {},
   "outputs": [
    {
     "data": {
      "text/plain": [
       "<matplotlib.image.AxesImage at 0x7f2a2819d3a0>"
      ]
     },
     "execution_count": 8,
     "metadata": {},
     "output_type": "execute_result"
    },
    {
     "data": {
      "image/png": "[encoded data removed]",
      "text/plain": [
       "<Figure size 432x288 with 1 Axes>"
      ]
     },
     "metadata": {
      "needs_background": "light"
     },
     "output_type": "display_data"
    }
   ],
   "source": [
    "plt.imshow(images[4][0].permute([1,2,0]))"
   ]
  },
  {
   "cell_type": "code",
   "execution_count": 9,
   "id": "d954d701",
   "metadata": {},
   "outputs": [
    {
     "data": {
      "text/plain": [
       "(array([[-4.44810926,  5.9317169 ],\n",
       "        [-4.01038611, -6.21961682]]),\n",
       " array([[ 8.62280464,  3.90062484],\n",
       "        [-4.69249351,  6.69777453]]))"
      ]
     },
     "execution_count": 9,
     "metadata": {},
     "output_type": "execute_result"
    }
   ],
   "source": [
    "data.pairpos0, data.pairpos1"
   ]
  },
  {
   "cell_type": "code",
   "execution_count": null,
   "id": "b8719603",
   "metadata": {},
   "outputs": [],
   "source": []
  },
  {
   "cell_type": "code",
   "execution_count": 13,
   "id": "4d111031",
   "metadata": {},
   "outputs": [
    {
     "data": {
      "text/plain": [
       "2"
      ]
     },
     "execution_count": 13,
     "metadata": {},
     "output_type": "execute_result"
    }
   ],
   "source": [
    "1+1"
   ]
  },
  {
   "cell_type": "code",
   "execution_count": null,
   "id": "28479690",
   "metadata": {},
   "outputs": [],
   "source": []
  }
 ],
 "metadata": {
  "kernelspec": {
   "display_name": "Python 3 (ipykernel)",
   "language": "python",
   "name": "python3"
  },
  "language_info": {
   "codemirror_mode": {
    "name": "ipython",
    "version": 3
   },
   "file_extension": ".py",
   "mimetype": "text/x-python",
   "name": "python",
   "nbconvert_exporter": "python",
   "pygments_lexer": "ipython3",
   "version": "3.8.9"
  }
 },
 "nbformat": 4,
 "nbformat_minor": 5
}
