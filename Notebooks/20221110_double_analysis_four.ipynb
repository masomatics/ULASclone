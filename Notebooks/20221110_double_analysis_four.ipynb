{
 "cells": [
  {
   "cell_type": "code",
   "execution_count": 20,
   "id": "26edc7c9",
   "metadata": {},
   "outputs": [
    {
     "name": "stdout",
     "output_type": "stream",
     "text": [
      "True\n",
      "['20221031_double_mnist_two_0', '20221104_mnist_double_0', '20221103_mnist_double_0', '20221101_mnist_double_0', '20221031_double_mnist_0', '20221101_mnist_double_two_0']\n",
      "True\n"
     ]
    }
   ],
   "source": [
    "import os\n",
    "import sys\n",
    "sys.path.append('../')\n",
    "sys.path.append('../datasets')\n",
    "sys.path.append('../models')\n",
    "import torch\n",
    "import torchvision\n",
    "import torch.backends.cudnn as cudnn\n",
    "import random\n",
    "import numpy as np\n",
    "import matplotlib.pyplot as plt\n",
    "from torch.utils.data import DataLoader\n",
    "from importlib import reload\n",
    "from datasets.three_dim_shapes import ThreeDimShapesDataset\n",
    "from datasets.small_norb import SmallNORBDataset\n",
    "from datasets.seq_mnist import SequentialMNIST\n",
    "from datasets.seq_mnist import SequentialMNIST_double\n",
    "from datasets import seq_mnist as sm\n",
    "\n",
    "import models.seqae as seqae\n",
    "import models.base_networks as bn \n",
    "import models\n",
    "from sklearn.multioutput import MultiOutputRegressor\n",
    "from sklearn.linear_model import Ridge\n",
    "from einops import rearrange\n",
    "from sklearn.metrics import r2_score\n",
    "import pdb\n",
    "from einops import rearrange\n",
    "from utils import notebook_utils as nb\n",
    "from utils import evaluations as ev\n",
    "\n",
    "\n",
    "\n",
    "import copy\n",
    "\n",
    "import csv\n",
    "import ast\n",
    "from source import yaml_utils as yu\n",
    "\n",
    "\n",
    "from tqdm import tqdm\n",
    "\n",
    "if torch.cuda.is_available():\n",
    "    device = torch.device('cuda')\n",
    "    cudnn.deterministic = True\n",
    "    cudnn.benchmark = True\n",
    "else:\n",
    "    device = torch.device('cpu')\n",
    "    gpu_index = -1\n",
    "\n",
    "    \n",
    "from utils import yaml_utils as yu\n",
    "import yaml\n",
    "rootpath = '/mnt/nfs-mnj-hot-01/tmp/masomatics/block_diag/'\n",
    "result_dir = '/mnt/nfs-mnj-hot-01/tmp/masomatics/block_diag/result'\n",
    "jobdir = '/mnt/vol21/masomatics/ULASclone/jobs'\n",
    "\n",
    "mode = 'so3'\n",
    "dat_root = f\"\"\"/mnt/nfs-mnj-hot-01/tmp/masomatics/block_diag/datasets/{mode}\"\"\"\n",
    "\n",
    "playground_path = os.path.join(result_dir, '20220913_playground_model')\n",
    "\n",
    "\n",
    "print(os.path.exists(playground_path))\n",
    "\n",
    "print(nb.filter_list('double', os.listdir(result_dir)))\n",
    "targpath = os.path.join(result_dir, '20221104_mnist_double_0')\n",
    "print(os.path.exists(targpath))"
   ]
  },
  {
   "cell_type": "code",
   "execution_count": 21,
   "id": "946bb4d8",
   "metadata": {},
   "outputs": [
    {
     "name": "stdout",
     "output_type": "stream",
     "text": [
      "['same_objectFalse_dim_m256', 'same_objectFalse_dim_m512', 'same_objectFalse_dim_m128', 'same_objectTrue_dim_m256', 'same_objectTrue_dim_m128', 'same_objectTrue_dim_m512']\n"
     ]
    }
   ],
   "source": [
    "\n",
    "targlist = os.listdir(targpath)\n",
    "\n",
    "targlist = nb.model_exists(targlist,  targpath)\n",
    "print(targlist)"
   ]
  },
  {
   "cell_type": "code",
   "execution_count": 22,
   "id": "11dfdf3d",
   "metadata": {},
   "outputs": [
    {
     "name": "stdout",
     "output_type": "stream",
     "text": [
      "['/mnt/nfs-mnj-hot-01/tmp/masomatics/block_diag/result/20221104_mnist_double_0/same_objectFalse_dim_m128']\n",
      "{'args': {'T': 32, 'backgrnd': False, 'max_T': 32, 'max_angle_velocity_ratio': [-0.5, 0.5], 'max_color_velocity_ratio': [-0.5, 0.5], 'only_use_digit4': True, 'pair_transition': True, 'root': '/mnt/nfs-mnj-hot-01/tmp/masomatics/block_diag/datasets/MNIST', 'same_object': False, 'train': True}, 'fn': './datasets/seq_mnist.py', 'name': 'SequentialMNIST_double'}\n",
      "/mnt/nfs-mnj-hot-01/tmp/masomatics/block_diag/result/20221104_mnist_double_0/same_objectFalse_dim_m128 \n",
      " snapshot_model_iter_50000\n"
     ]
    },
    {
     "name": "stderr",
     "output_type": "stream",
     "text": [
      "100%|██████████| 183/183 [00:39<00:00,  4.64it/s]\n"
     ]
    },
    {
     "name": "stdout",
     "output_type": "stream",
     "text": [
      "tensor([ 0.9644,  1.1139,  1.5641,  1.9524,  2.2209,  2.5025,  3.0123,  3.5082,\n",
      "         3.9049,  4.2839,  4.8103,  5.3098,  5.7664,  6.1938,  6.6670,  7.2073,\n",
      "         7.6317,  8.1101,  8.5986,  9.0960,  9.5418, 10.0159, 10.5341, 11.0198,\n",
      "        11.5024, 11.9941, 12.4739, 12.9533, 13.3955, 13.9299])\n"
     ]
    }
   ],
   "source": [
    "reload(ev)\n",
    "results = {} \n",
    "inferred_Ms = {} \n",
    "model_configs = {}\n",
    "models = {}\n",
    "tp = 30\n",
    "n_cond = 2\n",
    "device =0\n",
    "predictive = False\n",
    "reconstructive = False\n",
    "repeats=3\n",
    "\n",
    "\n",
    "targdir_pathlist = [ '/mnt/nfs-mnj-hot-01/tmp/masomatics/block_diag/result/20221104_mnist_double_0/same_objectFalse_dim_m128']\n",
    "print(targdir_pathlist)\n",
    "\n",
    "reload(ev)\n",
    "reload(bn)\n",
    "allresults, targ, xnext = ev.prediction_evaluation(targdir_pathlist, device=0,\n",
    "                                                                        n_cond=2,\n",
    "                                                                        tp=tp,\n",
    "                                                                    repeats=1,\n",
    "                           predictive= False , reconstructive = False)\n",
    "\n",
    "results = allresults['results']\n"
   ]
  },
  {
   "cell_type": "code",
   "execution_count": 23,
   "id": "60a06a53",
   "metadata": {},
   "outputs": [
    {
     "name": "stdout",
     "output_type": "stream",
     "text": [
      "ep:9 loss:7.033788580471667\n",
      "ep:19 loss:7.020079759978464\n",
      "ep:29 loss:7.014389009191663\n",
      "ep:39 loss:7.0095741765950486\n",
      "ep:49 loss:7.008308885686\n",
      "ep:59 loss:7.005870927812627\n",
      "ep:69 loss:7.003786872568623\n",
      "ep:79 loss:7.002050083249205\n",
      "ep:89 loss:7.000823423495973\n",
      "ep:99 loss:7.000617842362458\n"
     ]
    }
   ],
   "source": [
    "from utils import optimize_bd_cob as obc \n",
    "reload(obc)\n",
    "checkmodelpath = targdir_pathlist[0]\n",
    "Ms = allresults['Ms'][checkmodelpath]\n",
    "normalize=False\n",
    "ChangeB= obc.optimize_bd_cob(Ms,  lr=0.1, epochs_monitor=10, n_epochs=100, normalize=True) "
   ]
  },
  {
   "cell_type": "code",
   "execution_count": 24,
   "id": "3043110e",
   "metadata": {},
   "outputs": [],
   "source": [
    "PMPs = ChangeB(Ms)\n"
   ]
  },
  {
   "cell_type": "code",
   "execution_count": 25,
   "id": "e675e9c0",
   "metadata": {},
   "outputs": [
    {
     "data": {
      "text/plain": [
       "<matplotlib.image.AxesImage at 0x7f3a00a06220>"
      ]
     },
     "execution_count": 25,
     "metadata": {},
     "output_type": "execute_result"
    },
    {
     "data": {
      "image/png": "[encoded data removed]",
      "text/plain": [
       "<Figure size 1440x1440 with 10 Axes>"
      ]
     },
     "metadata": {
      "needs_background": "light"
     },
     "output_type": "display_data"
    },
    {
     "data": {
      "image/png": "[encoded data removed]",
      "text/plain": [
       "<Figure size 720x720 with 1 Axes>"
      ]
     },
     "metadata": {
      "needs_background": "light"
     },
     "output_type": "display_data"
    }
   ],
   "source": [
    "plt.figure(figsize=(20, 20))\n",
    "for k in range(10):\n",
    "    plt.subplot(1, 10, k+1)\n",
    "    plt.imshow(torch.abs(PMPs[k]).detach().to('cpu'))\n",
    "    \n",
    "plt.figure(figsize=(10, 10))\n",
    "plt.imshow(torch.mean(torch.abs(PMPs.detach()), axis=0))\n",
    "\n"
   ]
  },
  {
   "cell_type": "code",
   "execution_count": 26,
   "id": "3e8def61",
   "metadata": {},
   "outputs": [
    {
     "name": "stdout",
     "output_type": "stream",
     "text": [
      "14 2 2\n",
      "13 1 3\n",
      "12 1 4\n",
      "10 2 6\n",
      "9 1 7\n",
      "7 2 9\n",
      "6 1 10\n",
      "4 2 12\n",
      "3 1 13\n",
      "2 1 14\n",
      "0 2 16\n",
      "[[0, 8], [1], [2], [3, 15], [4], [5, 7], [6], [9, 13], [10], [11], [12, 14]]\n",
      "[3, 15]\n"
     ]
    }
   ],
   "source": [
    "reload(obc)\n",
    "selections = obc.obtain_blocks(torch.mean(torch.abs(PMPs.detach()), axis=0))\n",
    "print(selections)\n",
    "selection = selections[3]\n",
    "print(selection)\n"
   ]
  },
  {
   "cell_type": "code",
   "execution_count": 27,
   "id": "3d260b3b",
   "metadata": {},
   "outputs": [
    {
     "name": "stdout",
     "output_type": "stream",
     "text": [
      "183\n",
      "ep:0 loss:107.87910448918578\n",
      "ep:1 loss:106.10202072226936\n",
      "ep:2 loss:106.08294915371253\n",
      "ep:3 loss:106.05419746774142\n",
      "ep:4 loss:106.08831657868265\n",
      "ep:5 loss:106.05040065577772\n",
      "ep:6 loss:106.01982287631009\n",
      "ep:7 loss:106.12245003121798\n",
      "ep:8 loss:106.09098007118767\n",
      "ep:9 loss:106.12088221148716\n",
      "ep:10 loss:106.06578009766959\n",
      "ep:11 loss:106.05976984409686\n",
      "ep:12 loss:106.12202482796758\n",
      "ep:13 loss:106.0508096830441\n",
      "ep:14 loss:106.10378865726659\n",
      "ep:15 loss:106.04970000220126\n",
      "ep:16 loss:106.0441049878063\n",
      "ep:17 loss:106.1264774760262\n",
      "ep:18 loss:106.05441592690723\n",
      "ep:19 loss:106.02135713504312\n",
      "ep:20 loss:106.11816168613122\n",
      "ep:21 loss:106.12175404699774\n",
      "ep:22 loss:106.10362693911694\n",
      "ep:23 loss:106.09453924627252\n",
      "ep:24 loss:106.14417804655481\n",
      "ep:25 loss:106.08148368460233\n",
      "ep:26 loss:106.04852899436742\n",
      "ep:27 loss:106.07267481902909\n",
      "ep:28 loss:106.07030470384275\n",
      "ep:29 loss:106.0570707477507\n"
     ]
    }
   ],
   "source": [
    "from utils import optimize_lasso as ol\n",
    "reload(ol)\n",
    "myconfig = allresults['configs'][checkmodelpath]\n",
    "analysis_out = ol.optimize_cov_blocks_inter(myconfig, ChangeB, selection_dim=[1, 10], verbose=True, )\n",
    "\n",
    "\n",
    "\n"
   ]
  },
  {
   "cell_type": "code",
   "execution_count": 29,
   "id": "ea4ccb55",
   "metadata": {},
   "outputs": [],
   "source": [
    "import pickle\n",
    "with open('./covblock_out.pkl', 'wb') as handle:\n",
    "    pickle.dump(analysis_out, handle, protocol=pickle.HIGHEST_PROTOCOL)\n"
   ]
  },
  {
   "cell_type": "code",
   "execution_count": null,
   "id": "f6fb9ceb",
   "metadata": {},
   "outputs": [],
   "source": []
  }
 ],
 "metadata": {
  "kernelspec": {
   "display_name": "Python 3 (ipykernel)",
   "language": "python",
   "name": "python3"
  },
  "language_info": {
   "codemirror_mode": {
    "name": "ipython",
    "version": 3
   },
   "file_extension": ".py",
   "mimetype": "text/x-python",
   "name": "python",
   "nbconvert_exporter": "python",
   "pygments_lexer": "ipython3",
   "version": "3.8.9"
  }
 },
 "nbformat": 4,
 "nbformat_minor": 5
}
