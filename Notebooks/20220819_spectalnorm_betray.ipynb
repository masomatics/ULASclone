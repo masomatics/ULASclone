{
 "cells": [
  {
   "cell_type": "code",
   "execution_count": 106,
   "id": "658befdb",
   "metadata": {},
   "outputs": [],
   "source": [
    "import numpy as np\n",
    "import torch\n",
    "import  pdb"
   ]
  },
  {
   "cell_type": "code",
   "execution_count": 136,
   "id": "ce55a575",
   "metadata": {},
   "outputs": [],
   "source": [
    "dim=3\n",
    "\n",
    "#mymat = torch.tensor(np.random.uniform(size=(dim, dim))).float()\n",
    "mymat = torch.tensor(np.random.normal(size=(dim, dim))).float()\n",
    "\n",
    "\n",
    "\n",
    "\n",
    "\n"
   ]
  },
  {
   "cell_type": "code",
   "execution_count": 137,
   "id": "ef7f1cd0",
   "metadata": {},
   "outputs": [
    {
     "name": "stdout",
     "output_type": "stream",
     "text": [
      "3 3\n",
      "tensor([[ 0.1365],\n",
      "        [-0.7177],\n",
      "        [-0.5243]])\n",
      "tensor([[ 2.1218, -0.4689,  0.1254]])\n",
      "val\n",
      "tensor([[0.4847]])\n",
      "eigen\n",
      "tensor([-0.7279, -0.7279,  1.1955])\n",
      "SVD\n",
      "tensor([2.4336, 1.2185, 0.4744])\n",
      "val\n",
      "tensor([[2.4328]])\n",
      "SVD\n",
      "tensor([2.4336, 1.2185, 0.4744])\n"
     ]
    },
    {
     "data": {
      "text/plain": [
       "tensor([[2.4328]])"
      ]
     },
     "execution_count": 137,
     "metadata": {},
     "output_type": "execute_result"
    }
   ],
   "source": [
    "def specnorm0(weightmat, repeat=3): \n",
    "    mydim0 = weightmat.shape[0]\n",
    "    mydim1 = weightmat.shape[1]\n",
    "\n",
    "    print(mydim0, mydim1)\n",
    "    random_vec_r = torch.tensor(np.random.uniform(size=(mydim1,1))).float()\n",
    "    random_vec_l = torch.tensor(np.random.uniform(size=(1, mydim0))).float() \n",
    "\n",
    "    \n",
    "    for k in range(repeat):\n",
    "        random_vec_r = weightmat @ random_vec_r \n",
    "        random_vec_r = random_vec_r / torch.sqrt(torch.sum(random_vec_r**2))\n",
    "        \n",
    "        random_vec_l = random_vec_l @ weightmat\n",
    "        random_vec_l = random_vec_l / torch.sqrt(torch.sum(random_vec_l**2))\n",
    "\n",
    "    print( (weightmat @ random_vec_r )/ random_vec_r)\n",
    "    print( (random_vec_l @ weightmat) / random_vec_l)\n",
    "    \n",
    "    print('val')\n",
    "    print( random_vec_l @ weightmat @ random_vec_r)\n",
    "\n",
    "    print(\"eigen\")\n",
    "    print( torch.real(torch.linalg.eig(weightmat).eigenvalues))\n",
    "    print(\"SVD\")\n",
    "    print( torch.linalg.svd(weightmat).S)\n",
    "\n",
    "    return random_vec_l, random_vec_r\n",
    "\n",
    "\n",
    "    \n",
    "    \n",
    "def specnorm1(weightmat, repeat=3): \n",
    "    mydim0 = weightmat.shape[0]\n",
    "    mydim1 = weightmat.shape[1]\n",
    "\n",
    "    random_vec_r = torch.tensor(np.random.uniform(size=(mydim1,1))).float()\n",
    "    random_vec_l = torch.tensor(np.random.uniform(size=(mydim0,1))).float() \n",
    "\n",
    "    for k in range(repeat):\n",
    "        random_vec_l = weightmat @ random_vec_r \n",
    "        random_vec_l = random_vec_l / torch.sqrt(torch.sum(random_vec_l**2))\n",
    "        \n",
    "        random_vec_r = weightmat.permute([1,0]) @ random_vec_l\n",
    "        random_vec_r = random_vec_r / torch.sqrt(torch.sum(random_vec_r**2))\n",
    "\n",
    "    val = random_vec_l.permute([1,0]) @ weightmat @ random_vec_r\n",
    "    #print( (weightmat @ random_vec_r )/ random_vec_r)\n",
    "    #print( (weightmat.permute([1,0]) @ random_vec_l ) / random_vec_l)\n",
    "    print('val')\n",
    "    print(val)\n",
    "    #print( torch.real(torch.linalg.eig(weightmat).eigenvalues))\n",
    "    print('SVD')\n",
    "    print( torch.linalg.svd(weightmat).S)\n",
    "\n",
    "\n",
    "        \n",
    "    return val\n",
    "\n",
    "\n",
    "\n",
    "specnorm0(mymat, repeat=10)\n",
    "\n",
    "\n",
    "specnorm1(mymat, repeat=3)\n",
    "\n"
   ]
  },
  {
   "cell_type": "code",
   "execution_count": 138,
   "id": "9de0bb5d",
   "metadata": {},
   "outputs": [
    {
     "name": "stdout",
     "output_type": "stream",
     "text": [
      "3 3\n",
      "tensor([[-3.2025],\n",
      "        [ 5.1467],\n",
      "        [-7.4352]])\n",
      "tensor([[  -2.9271, -147.9742,   26.1514]])\n",
      "val\n",
      "tensor([[3.0852]])\n",
      "eigen\n",
      "tensor([-3.4056,  2.4159,  0.4691])\n",
      "SVD\n",
      "tensor([3.4056, 2.4159, 0.4691])\n",
      "val\n",
      "tensor([[3.4023]])\n",
      "SVD\n",
      "tensor([3.4056, 2.4159, 0.4691])\n"
     ]
    },
    {
     "data": {
      "text/plain": [
       "tensor([[3.4023]])"
      ]
     },
     "execution_count": 138,
     "metadata": {},
     "output_type": "execute_result"
    }
   ],
   "source": [
    "mymat_symm = mymat + mymat.permute([1,0])\n",
    "specnorm0(mymat_symm, repeat=3)\n",
    "\n",
    "\n",
    "specnorm1(mymat_symm, repeat=3)"
   ]
  },
  {
   "cell_type": "code",
   "execution_count": 143,
   "id": "b279f412",
   "metadata": {},
   "outputs": [],
   "source": [
    "yourmat = torch.tensor(np.random.normal(size=(dim, dim*2))).float()\n",
    "\n"
   ]
  },
  {
   "cell_type": "code",
   "execution_count": 146,
   "id": "964763b1",
   "metadata": {},
   "outputs": [
    {
     "name": "stdout",
     "output_type": "stream",
     "text": [
      "val\n",
      "tensor([[3.2715]])\n",
      "SVD\n",
      "tensor([3.2715, 1.9810, 1.3413])\n"
     ]
    },
    {
     "data": {
      "text/plain": [
       "tensor([[3.2715]])"
      ]
     },
     "execution_count": 146,
     "metadata": {},
     "output_type": "execute_result"
    }
   ],
   "source": [
    "specnorm1(yourmat, repeat=10)"
   ]
  },
  {
   "cell_type": "code",
   "execution_count": null,
   "id": "7c74cc7d",
   "metadata": {},
   "outputs": [],
   "source": []
  }
 ],
 "metadata": {
  "kernelspec": {
   "display_name": "Python 3 (ipykernel)",
   "language": "python",
   "name": "python3"
  },
  "language_info": {
   "codemirror_mode": {
    "name": "ipython",
    "version": 3
   },
   "file_extension": ".py",
   "mimetype": "text/x-python",
   "name": "python",
   "nbconvert_exporter": "python",
   "pygments_lexer": "ipython3",
   "version": "3.8.9"
  }
 },
 "nbformat": 4,
 "nbformat_minor": 5
}
