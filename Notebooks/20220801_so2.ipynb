{
 "cells": [
  {
   "cell_type": "code",
   "execution_count": 19,
   "id": "d2ba8070",
   "metadata": {},
   "outputs": [],
   "source": [
    "import os\n",
    "import sys\n",
    "sys.path.append('../')\n",
    "sys.path.append('../datasets')\n",
    "sys.path.append('../models')\n",
    "import torch\n",
    "import torchvision\n",
    "import torch.backends.cudnn as cudnn\n",
    "import random\n",
    "import numpy as np\n",
    "import matplotlib.pyplot as plt\n",
    "from torch.utils.data import DataLoader\n",
    "from importlib import reload\n",
    "from datasets.three_dim_shapes import ThreeDimShapesDataset\n",
    "from datasets.small_norb import SmallNORBDataset\n",
    "from datasets.seq_mnist import SequentialMNIST\n",
    "import models.seqae as seqae\n",
    "from sklearn.multioutput import MultiOutputRegressor\n",
    "from sklearn.linear_model import Ridge\n",
    "from datasets import so3_data as so3d\n",
    "from einops import rearrange\n",
    "from sklearn.metrics import r2_score\n",
    "import pdb\n",
    "from models.base_networks import MLP_iResNet, LinearNet, MLP\n",
    "from utils import optimize_bd_cob as obc\n",
    "from importlib import reload\n",
    "import copy\n",
    "\n",
    "\n",
    "import csv\n",
    "import ast\n",
    "from source import yaml_utils as yu\n",
    "\n",
    "\n",
    "from tqdm import tqdm\n",
    "\n",
    "if torch.cuda.is_available():\n",
    "    device = torch.device('cuda')\n",
    "    cudnn.deterministic = True\n",
    "    cudnn.benchmark = True\n",
    "else:\n",
    "    device = torch.device('cpu')\n",
    "    gpu_index = -1\n",
    "\n",
    "    \n",
    "    \n",
    "from utils import yaml_utils as yu\n",
    "import yaml\n",
    "result_dir = '/mnt/nfs-mnj-hot-01/tmp/masomatics/block_diag/result'\n",
    "\n",
    "rootpath = '/mnt/nfs-mnj-hot-01/tmp/masomatics/block_diag/'\n",
    "datpath = '/mnt/nfs-mnj-hot-01/tmp/masomatics/block_diag/datasets/so2'\n",
    "\n",
    "\n",
    "\n",
    "\n",
    "\n"
   ]
  },
  {
   "cell_type": "code",
   "execution_count": 48,
   "id": "bc77efa9",
   "metadata": {},
   "outputs": [],
   "source": [
    "import pickle\n",
    "PmatNet_MLP = MLP(in_dim=60, out_dim=36, hidden_multiple=3, num_layer=2)\n",
    "\n",
    "matnet_path = os.path.join(datpath, 'pnetmat_mlp.pkl')\n",
    "\n",
    "\n",
    "filehandler = open(matnet_path,\"wb\")\n",
    "\n",
    "pickle.dump(PmatNet_MLP,filehandler)"
   ]
  },
  {
   "cell_type": "code",
   "execution_count": 49,
   "id": "598e0ee9",
   "metadata": {},
   "outputs": [],
   "source": [
    "file = open(matnet_path, \"rb\")\n",
    "model_test = pickle.load(file)\n"
   ]
  },
  {
   "cell_type": "code",
   "execution_count": 50,
   "id": "f3974d40",
   "metadata": {},
   "outputs": [
    {
     "data": {
      "text/plain": [
       "MLP(\n",
       "  (network): Sequential(\n",
       "    (0): Linear(in_features=60, out_features=180, bias=True)\n",
       "    (1): ELU(alpha=1.0)\n",
       "    (2): Linear(in_features=180, out_features=180, bias=True)\n",
       "    (3): ELU(alpha=1.0)\n",
       "    (4): Linear(in_features=180, out_features=36, bias=True)\n",
       "  )\n",
       ")"
      ]
     },
     "execution_count": 50,
     "metadata": {},
     "output_type": "execute_result"
    }
   ],
   "source": [
    "model_test"
   ]
  },
  {
   "cell_type": "code",
   "execution_count": 52,
   "id": "e17fd5e9",
   "metadata": {},
   "outputs": [
    {
     "name": "stdout",
     "output_type": "stream",
     "text": [
      "pnetmat_mlp.pkl\r\n",
      "so2dat_sphere_Linear.pt\r\n",
      "so2dat_sphere_Linear_latentP.pt\r\n",
      "so2dat_sphere_Linear_model.pt\r\n",
      "so2dat_sphere_Linear_shared_trans.pt\r\n",
      "so2dat_sphere_Linear_shared_trans_latentP.pt\r\n",
      "so2dat_sphere_MLP.pt\r\n",
      "so2dat_sphere_MLP_latentP.pt\r\n",
      "so2dat_sphere_MLP_model.pt\r\n",
      "so2dat_sphere_MLP_shared_trans.pt\r\n",
      "so2dat_sphere_MLP_shared_trans_latentP.pt\r\n",
      "so2dat_sphere_iResNet.pt\r\n",
      "so2dat_sphere_iResNet_latentP.pt\r\n",
      "so2dat_sphere_iResNet_model.pt\r\n",
      "so2dat_sphere_iResNet_shared_trans.pt\r\n",
      "so2dat_sphere_iResNet_shared_trans_latentP.pt\r\n"
     ]
    }
   ],
   "source": [
    "ls /mnt/nfs-mnj-hot-01/tmp/masomatics/block_diag/datasets/so2"
   ]
  },
  {
   "cell_type": "code",
   "execution_count": 53,
   "id": "35d3b776",
   "metadata": {},
   "outputs": [
    {
     "data": {
      "text/plain": [
       "True"
      ]
     },
     "execution_count": 53,
     "metadata": {},
     "output_type": "execute_result"
    }
   ],
   "source": [
    "type('') == str"
   ]
  },
  {
   "cell_type": "code",
   "execution_count": 61,
   "id": "fab34cbe",
   "metadata": {},
   "outputs": [],
   "source": [
    "\n",
    "import numpy as np\n",
    "def two_d_rotation(theta):\n",
    "    R  = torch.tensor([[np.cos(theta), -np.sin(theta)], [np.sin(theta), np.cos(theta)]] )\n",
    "    return R"
   ]
  },
  {
   "cell_type": "code",
   "execution_count": 62,
   "id": "d4631781",
   "metadata": {},
   "outputs": [],
   "source": [
    "theta=np.random.normal()\n",
    "Rtheta =two_d_rotation(theta)"
   ]
  },
  {
   "cell_type": "code",
   "execution_count": 56,
   "id": "dcb8688e",
   "metadata": {},
   "outputs": [
    {
     "data": {
      "text/plain": [
       "1.2533116842185426"
      ]
     },
     "execution_count": 56,
     "metadata": {},
     "output_type": "execute_result"
    }
   ],
   "source": [
    "theta"
   ]
  },
  {
   "cell_type": "code",
   "execution_count": 60,
   "id": "f85a6ba7",
   "metadata": {},
   "outputs": [
    {
     "ename": "TypeError",
     "evalue": "cos(): argument 'input' (position 1) must be Tensor, not float",
     "output_type": "error",
     "traceback": [
      "\u001b[0;31m---------------------------------------------------------------------------\u001b[0m",
      "\u001b[0;31mTypeError\u001b[0m                                 Traceback (most recent call last)",
      "\u001b[0;32m/tmp/ipykernel_176498/2644417810.py\u001b[0m in \u001b[0;36m<module>\u001b[0;34m\u001b[0m\n\u001b[0;32m----> 1\u001b[0;31m \u001b[0mtorch\u001b[0m\u001b[0;34m.\u001b[0m\u001b[0mcos\u001b[0m\u001b[0;34m(\u001b[0m\u001b[0;36m0.1\u001b[0m\u001b[0;34m)\u001b[0m\u001b[0;34m\u001b[0m\u001b[0;34m\u001b[0m\u001b[0m\n\u001b[0m",
      "\u001b[0;31mTypeError\u001b[0m: cos(): argument 'input' (position 1) must be Tensor, not float"
     ]
    }
   ],
   "source": [
    "torch.cos(0.1)"
   ]
  },
  {
   "cell_type": "code",
   "execution_count": null,
   "id": "132bbd5e",
   "metadata": {},
   "outputs": [],
   "source": []
  }
 ],
 "metadata": {
  "kernelspec": {
   "display_name": "Python 3 (ipykernel)",
   "language": "python",
   "name": "python3"
  },
  "language_info": {
   "codemirror_mode": {
    "name": "ipython",
    "version": 3
   },
   "file_extension": ".py",
   "mimetype": "text/x-python",
   "name": "python",
   "nbconvert_exporter": "python",
   "pygments_lexer": "ipython3",
   "version": "3.8.9"
  }
 },
 "nbformat": 4,
 "nbformat_minor": 5
}
